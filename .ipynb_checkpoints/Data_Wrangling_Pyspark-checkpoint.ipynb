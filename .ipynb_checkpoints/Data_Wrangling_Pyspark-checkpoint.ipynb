{
 "cells": [
  {
   "cell_type": "code",
   "execution_count": 271,
   "metadata": {
    "execution": {
     "iopub.execute_input": "2021-12-05T02:56:16.249672Z",
     "iopub.status.busy": "2021-12-05T02:56:16.249333Z",
     "iopub.status.idle": "2021-12-05T02:56:25.201549Z",
     "shell.execute_reply": "2021-12-05T02:56:25.200449Z",
     "shell.execute_reply.started": "2021-12-05T02:56:16.249642Z"
    }
   },
   "outputs": [
    {
     "name": "stdout",
     "output_type": "stream",
     "text": [
      "Requirement already satisfied: pyspark in /opt/conda/lib/python3.7/site-packages (3.2.0)\n",
      "Requirement already satisfied: py4j==0.10.9.2 in /opt/conda/lib/python3.7/site-packages (from pyspark) (0.10.9.2)\n",
      "\u001b[33mWARNING: Running pip as the 'root' user can result in broken permissions and conflicting behaviour with the system package manager. It is recommended to use a virtual environment instead: https://pip.pypa.io/warnings/venv\u001b[0m\n"
     ]
    }
   ],
   "source": [
    "!pip install pyspark"
   ]
  },
  {
   "cell_type": "code",
   "execution_count": 272,
   "metadata": {
    "execution": {
     "iopub.execute_input": "2021-12-05T02:56:25.204851Z",
     "iopub.status.busy": "2021-12-05T02:56:25.204470Z",
     "iopub.status.idle": "2021-12-05T02:56:34.212231Z",
     "shell.execute_reply": "2021-12-05T02:56:34.211374Z",
     "shell.execute_reply.started": "2021-12-05T02:56:25.204798Z"
    }
   },
   "outputs": [
    {
     "name": "stdout",
     "output_type": "stream",
     "text": [
      "Requirement already satisfied: pyspark_dist_explore in /opt/conda/lib/python3.7/site-packages (0.1.8)\n",
      "Requirement already satisfied: pandas in /opt/conda/lib/python3.7/site-packages (from pyspark_dist_explore) (1.3.3)\n",
      "Requirement already satisfied: matplotlib in /opt/conda/lib/python3.7/site-packages (from pyspark_dist_explore) (3.4.3)\n",
      "Requirement already satisfied: scipy in /opt/conda/lib/python3.7/site-packages (from pyspark_dist_explore) (1.7.1)\n",
      "Requirement already satisfied: numpy in /opt/conda/lib/python3.7/site-packages (from pyspark_dist_explore) (1.19.5)\n",
      "Requirement already satisfied: pyparsing>=2.2.1 in /opt/conda/lib/python3.7/site-packages (from matplotlib->pyspark_dist_explore) (2.4.7)\n",
      "Requirement already satisfied: pillow>=6.2.0 in /opt/conda/lib/python3.7/site-packages (from matplotlib->pyspark_dist_explore) (8.2.0)\n",
      "Requirement already satisfied: kiwisolver>=1.0.1 in /opt/conda/lib/python3.7/site-packages (from matplotlib->pyspark_dist_explore) (1.3.2)\n",
      "Requirement already satisfied: python-dateutil>=2.7 in /opt/conda/lib/python3.7/site-packages (from matplotlib->pyspark_dist_explore) (2.8.0)\n",
      "Requirement already satisfied: cycler>=0.10 in /opt/conda/lib/python3.7/site-packages (from matplotlib->pyspark_dist_explore) (0.10.0)\n",
      "Requirement already satisfied: six in /opt/conda/lib/python3.7/site-packages (from cycler>=0.10->matplotlib->pyspark_dist_explore) (1.16.0)\n",
      "Requirement already satisfied: pytz>=2017.3 in /opt/conda/lib/python3.7/site-packages (from pandas->pyspark_dist_explore) (2021.1)\n",
      "\u001b[33mWARNING: Running pip as the 'root' user can result in broken permissions and conflicting behaviour with the system package manager. It is recommended to use a virtual environment instead: https://pip.pypa.io/warnings/venv\u001b[0m\n"
     ]
    }
   ],
   "source": [
    "! pip install pyspark_dist_explore"
   ]
  },
  {
   "cell_type": "code",
   "execution_count": 273,
   "metadata": {
    "execution": {
     "iopub.execute_input": "2021-12-05T02:56:34.214628Z",
     "iopub.status.busy": "2021-12-05T02:56:34.214218Z",
     "iopub.status.idle": "2021-12-05T02:56:34.222932Z",
     "shell.execute_reply": "2021-12-05T02:56:34.221980Z",
     "shell.execute_reply.started": "2021-12-05T02:56:34.214571Z"
    }
   },
   "outputs": [],
   "source": [
    "import numpy as np # linear algebra\n",
    "import pandas as pd # data processing, CSV file I/O (e.g. pd.read_csv)\n",
    "    \n",
    "# Spark\n",
    "from pyspark.sql import SparkSession\n",
    "from pyspark.sql.functions import when\n",
    "from pyspark.sql.types import StructType\n",
    "from pyspark.sql.types import *\n",
    "from pyspark.sql.functions import isnan, when, count, col\n",
    "\n",
    "\n",
    "# EDA\n",
    "from pyspark_dist_explore import hist\n",
    "import matplotlib.pyplot as plt\n",
    "\n",
    "# ML\n",
    "from pyspark.ml import Pipeline\n",
    "from pyspark.ml.feature import OneHotEncoder, StringIndexer, VectorAssembler, StandardScaler"
   ]
  },
  {
   "cell_type": "code",
   "execution_count": 274,
   "metadata": {
    "execution": {
     "iopub.execute_input": "2021-12-05T02:56:34.227193Z",
     "iopub.status.busy": "2021-12-05T02:56:34.226831Z",
     "iopub.status.idle": "2021-12-05T02:56:34.239262Z",
     "shell.execute_reply": "2021-12-05T02:56:34.238502Z",
     "shell.execute_reply.started": "2021-12-05T02:56:34.227143Z"
    }
   },
   "outputs": [],
   "source": [
    "spark = SparkSession \\\n",
    "    .builder \\\n",
    "    .appName(\"Data wrangling with Spark SQL\") \\\n",
    "    .getOrCreate()"
   ]
  },
  {
   "cell_type": "code",
   "execution_count": 275,
   "metadata": {
    "execution": {
     "iopub.execute_input": "2021-12-05T02:56:34.243910Z",
     "iopub.status.busy": "2021-12-05T02:56:34.243461Z",
     "iopub.status.idle": "2021-12-05T02:56:34.393855Z",
     "shell.execute_reply": "2021-12-05T02:56:34.393075Z",
     "shell.execute_reply.started": "2021-12-05T02:56:34.243796Z"
    }
   },
   "outputs": [],
   "source": [
    "# local do arquivo\n",
    "path = \"bank-additional-full.csv\"\n",
    "\n",
    "# Lendo o arquivo em um objeto Spark\n",
    "#df = spark.read.option(\"delimiter\", \";\").option(\"header\", \"true\").option(\"nullValue\", \"unknown\").option(\"nullValue\", \"null\").csv(path)\n",
    "df = spark.read.option(\"delimiter\", \";\").option(\"header\", \"true\").csv(path)\n"
   ]
  },
  {
   "cell_type": "code",
   "execution_count": 276,
   "metadata": {
    "execution": {
     "iopub.execute_input": "2021-12-05T02:56:34.395436Z",
     "iopub.status.busy": "2021-12-05T02:56:34.395111Z",
     "iopub.status.idle": "2021-12-05T02:56:34.407186Z",
     "shell.execute_reply": "2021-12-05T02:56:34.406468Z",
     "shell.execute_reply.started": "2021-12-05T02:56:34.395372Z"
    }
   },
   "outputs": [],
   "source": [
    "df.createOrReplaceTempView(\"df_raw\")"
   ]
  },
  {
   "cell_type": "markdown",
   "metadata": {},
   "source": [
    "**Show dataframe**"
   ]
  },
  {
   "cell_type": "code",
   "execution_count": 277,
   "metadata": {
    "execution": {
     "iopub.execute_input": "2021-12-05T02:56:34.409543Z",
     "iopub.status.busy": "2021-12-05T02:56:34.408602Z",
     "iopub.status.idle": "2021-12-05T02:56:34.506915Z",
     "shell.execute_reply": "2021-12-05T02:56:34.506154Z",
     "shell.execute_reply.started": "2021-12-05T02:56:34.409488Z"
    }
   },
   "outputs": [
    {
     "name": "stdout",
     "output_type": "stream",
     "text": [
      "+---+---------+-------+-----------+-------+-------+----+---------+-----+-----------+--------+--------+-----+--------+-----------+------------+--------------+-------------+---------+-----------+---+\n",
      "|age|      job|marital|  education|default|housing|loan|  contact|month|day_of_week|duration|campaign|pdays|previous|   poutcome|emp.var.rate|cons.price.idx|cons.conf.idx|euribor3m|nr.employed|  y|\n",
      "+---+---------+-------+-----------+-------+-------+----+---------+-----+-----------+--------+--------+-----+--------+-----------+------------+--------------+-------------+---------+-----------+---+\n",
      "| 56|housemaid|married|   basic.4y|     no|     no|  no|telephone|  may|        mon|     261|       1|  999|       0|nonexistent|         1.1|        93.994|        -36.4|    4.857|       5191| no|\n",
      "| 57| services|married|high.school|unknown|     no|  no|telephone|  may|        mon|     149|       1|  999|       0|nonexistent|         1.1|        93.994|        -36.4|    4.857|       5191| no|\n",
      "| 37| services|married|high.school|     no|    yes|  no|telephone|  may|        mon|     226|       1|  999|       0|nonexistent|         1.1|        93.994|        -36.4|    4.857|       5191| no|\n",
      "| 40|   admin.|married|   basic.6y|     no|     no|  no|telephone|  may|        mon|     151|       1|  999|       0|nonexistent|         1.1|        93.994|        -36.4|    4.857|       5191| no|\n",
      "| 56| services|married|high.school|     no|     no| yes|telephone|  may|        mon|     307|       1|  999|       0|nonexistent|         1.1|        93.994|        -36.4|    4.857|       5191| no|\n",
      "+---+---------+-------+-----------+-------+-------+----+---------+-----+-----------+--------+--------+-----+--------+-----------+------------+--------------+-------------+---------+-----------+---+\n",
      "only showing top 5 rows\n",
      "\n"
     ]
    }
   ],
   "source": [
    "df.show(5)"
   ]
  },
  {
   "cell_type": "markdown",
   "metadata": {},
   "source": [
    "**Print the dataframe Schema**"
   ]
  },
  {
   "cell_type": "code",
   "execution_count": 278,
   "metadata": {
    "execution": {
     "iopub.execute_input": "2021-12-05T02:56:34.508243Z",
     "iopub.status.busy": "2021-12-05T02:56:34.508004Z",
     "iopub.status.idle": "2021-12-05T02:56:34.514030Z",
     "shell.execute_reply": "2021-12-05T02:56:34.513157Z",
     "shell.execute_reply.started": "2021-12-05T02:56:34.508209Z"
    }
   },
   "outputs": [
    {
     "name": "stdout",
     "output_type": "stream",
     "text": [
      "root\n",
      " |-- age: string (nullable = true)\n",
      " |-- job: string (nullable = true)\n",
      " |-- marital: string (nullable = true)\n",
      " |-- education: string (nullable = true)\n",
      " |-- default: string (nullable = true)\n",
      " |-- housing: string (nullable = true)\n",
      " |-- loan: string (nullable = true)\n",
      " |-- contact: string (nullable = true)\n",
      " |-- month: string (nullable = true)\n",
      " |-- day_of_week: string (nullable = true)\n",
      " |-- duration: string (nullable = true)\n",
      " |-- campaign: string (nullable = true)\n",
      " |-- pdays: string (nullable = true)\n",
      " |-- previous: string (nullable = true)\n",
      " |-- poutcome: string (nullable = true)\n",
      " |-- emp.var.rate: string (nullable = true)\n",
      " |-- cons.price.idx: string (nullable = true)\n",
      " |-- cons.conf.idx: string (nullable = true)\n",
      " |-- euribor3m: string (nullable = true)\n",
      " |-- nr.employed: string (nullable = true)\n",
      " |-- y: string (nullable = true)\n",
      "\n"
     ]
    }
   ],
   "source": [
    "# Plotando o Schema da tabela spark\n",
    "df.printSchema()"
   ]
  },
  {
   "cell_type": "code",
   "execution_count": 279,
   "metadata": {
    "execution": {
     "iopub.execute_input": "2021-12-05T02:56:34.515810Z",
     "iopub.status.busy": "2021-12-05T02:56:34.515550Z",
     "iopub.status.idle": "2021-12-05T02:56:34.656236Z",
     "shell.execute_reply": "2021-12-05T02:56:34.655186Z",
     "shell.execute_reply.started": "2021-12-05T02:56:34.515779Z"
    }
   },
   "outputs": [
    {
     "name": "stdout",
     "output_type": "stream",
     "text": [
      "There is 41188 samples in this DataFrame\n"
     ]
    }
   ],
   "source": [
    "print(\"There is \" + str(df.count()) +\" samples in this DataFrame\")"
   ]
  },
  {
   "cell_type": "markdown",
   "metadata": {},
   "source": [
    "**Describe statistics into \"pdays\" column.**"
   ]
  },
  {
   "cell_type": "code",
   "execution_count": 280,
   "metadata": {
    "execution": {
     "iopub.execute_input": "2021-12-05T02:56:34.661341Z",
     "iopub.status.busy": "2021-12-05T02:56:34.660637Z",
     "iopub.status.idle": "2021-12-05T02:56:34.988478Z",
     "shell.execute_reply": "2021-12-05T02:56:34.987463Z",
     "shell.execute_reply.started": "2021-12-05T02:56:34.661287Z"
    }
   },
   "outputs": [
    {
     "name": "stdout",
     "output_type": "stream",
     "text": [
      "+-------+-----------------+\n",
      "|summary|            pdays|\n",
      "+-------+-----------------+\n",
      "|  count|            41188|\n",
      "|   mean|962.4754540157328|\n",
      "| stddev|186.9109073447414|\n",
      "|    min|                0|\n",
      "|    max|              999|\n",
      "+-------+-----------------+\n",
      "\n"
     ]
    }
   ],
   "source": [
    "df.describe(\"pdays\").show()"
   ]
  },
  {
   "cell_type": "code",
   "execution_count": 281,
   "metadata": {
    "execution": {
     "iopub.execute_input": "2021-12-05T02:56:34.989783Z",
     "iopub.status.busy": "2021-12-05T02:56:34.989538Z",
     "iopub.status.idle": "2021-12-05T02:56:35.343371Z",
     "shell.execute_reply": "2021-12-05T02:56:35.342423Z",
     "shell.execute_reply.started": "2021-12-05T02:56:34.989753Z"
    }
   },
   "outputs": [
    {
     "name": "stdout",
     "output_type": "stream",
     "text": [
      "+-------+-----+\n",
      "|summary|    y|\n",
      "+-------+-----+\n",
      "|  count|41188|\n",
      "|   mean| null|\n",
      "| stddev| null|\n",
      "|    min|   no|\n",
      "|    max|  yes|\n",
      "+-------+-----+\n",
      "\n"
     ]
    }
   ],
   "source": [
    "df.describe(\"y\").show()"
   ]
  },
  {
   "cell_type": "code",
   "execution_count": 282,
   "metadata": {
    "execution": {
     "iopub.execute_input": "2021-12-05T02:56:35.345001Z",
     "iopub.status.busy": "2021-12-05T02:56:35.344700Z",
     "iopub.status.idle": "2021-12-05T02:56:35.534947Z",
     "shell.execute_reply": "2021-12-05T02:56:35.534278Z",
     "shell.execute_reply.started": "2021-12-05T02:56:35.344967Z"
    }
   },
   "outputs": [
    {
     "name": "stdout",
     "output_type": "stream",
     "text": [
      "+---+---------+-------+-----------+-------+-------+----+---------+-----+-----------+--------+--------+-----+--------+-----------+------------+--------------+-------------+---------+-----------+---+\n",
      "|age|      job|marital|  education|default|housing|loan|  contact|month|day_of_week|duration|campaign|pdays|previous|   poutcome|emp.var.rate|cons.price.idx|cons.conf.idx|euribor3m|nr.employed|  y|\n",
      "+---+---------+-------+-----------+-------+-------+----+---------+-----+-----------+--------+--------+-----+--------+-----------+------------+--------------+-------------+---------+-----------+---+\n",
      "| 56|housemaid|married|   basic.4y|     no|     no|  no|telephone|  may|        mon|     261|       1| null|       0|nonexistent|         1.1|        93.994|        -36.4|    4.857|       5191| no|\n",
      "| 57| services|married|high.school|   null|     no|  no|telephone|  may|        mon|     149|       1| null|       0|nonexistent|         1.1|        93.994|        -36.4|    4.857|       5191| no|\n",
      "| 37| services|married|high.school|     no|    yes|  no|telephone|  may|        mon|     226|       1| null|       0|nonexistent|         1.1|        93.994|        -36.4|    4.857|       5191| no|\n",
      "| 40|   admin.|married|   basic.6y|     no|     no|  no|telephone|  may|        mon|     151|       1| null|       0|nonexistent|         1.1|        93.994|        -36.4|    4.857|       5191| no|\n",
      "| 56| services|married|high.school|     no|     no| yes|telephone|  may|        mon|     307|       1| null|       0|nonexistent|         1.1|        93.994|        -36.4|    4.857|       5191| no|\n",
      "+---+---------+-------+-----------+-------+-------+----+---------+-----+-----------+--------+--------+-----+--------+-----------+------------+--------------+-------------+---------+-----------+---+\n",
      "only showing top 5 rows\n",
      "\n"
     ]
    }
   ],
   "source": [
    "# Task 1 - Replace statements by Null Values\n",
    "\n",
    "df_1 = df.replace('null', None, subset=['job', 'marital', 'education', 'default', 'housing', 'loan'])\\\n",
    "         .replace('unknown', None, subset=['job', 'marital', 'education', 'default', 'housing', 'loan'])\\\n",
    "         .replace('999', None, subset=['pdays'])\n",
    "df_1.show(5)"
   ]
  },
  {
   "cell_type": "code",
   "execution_count": 283,
   "metadata": {
    "execution": {
     "iopub.execute_input": "2021-12-05T02:56:35.536089Z",
     "iopub.status.busy": "2021-12-05T02:56:35.535885Z",
     "iopub.status.idle": "2021-12-05T02:56:35.655721Z",
     "shell.execute_reply": "2021-12-05T02:56:35.655031Z",
     "shell.execute_reply.started": "2021-12-05T02:56:35.536062Z"
    }
   },
   "outputs": [
    {
     "name": "stdout",
     "output_type": "stream",
     "text": [
      "+---+---------+-------+-----------+-------+-------+----+---------+-----+-----------+--------+--------+-----+--------+-----------+------------+--------------+-------------+---------+-----------+---+\n",
      "|age|      job|marital|  education|default|housing|loan|  contact|month|day_of_week|duration|campaign|pdays|previous|   poutcome|emp.var.rate|cons.price.idx|cons.conf.idx|euribor3m|nr.employed|  y|\n",
      "+---+---------+-------+-----------+-------+-------+----+---------+-----+-----------+--------+--------+-----+--------+-----------+------------+--------------+-------------+---------+-----------+---+\n",
      "| 56|housemaid|married|   basic.4y|     no|     no|  no|telephone|  may|        mon|     261|       1| null|       0|nonexistent|         1.1|        93.994|        -36.4|    4.857|       5191|  0|\n",
      "| 57| services|married|high.school|   null|     no|  no|telephone|  may|        mon|     149|       1| null|       0|nonexistent|         1.1|        93.994|        -36.4|    4.857|       5191|  0|\n",
      "| 37| services|married|high.school|     no|    yes|  no|telephone|  may|        mon|     226|       1| null|       0|nonexistent|         1.1|        93.994|        -36.4|    4.857|       5191|  0|\n",
      "| 40|   admin.|married|   basic.6y|     no|     no|  no|telephone|  may|        mon|     151|       1| null|       0|nonexistent|         1.1|        93.994|        -36.4|    4.857|       5191|  0|\n",
      "| 56| services|married|high.school|     no|     no| yes|telephone|  may|        mon|     307|       1| null|       0|nonexistent|         1.1|        93.994|        -36.4|    4.857|       5191|  0|\n",
      "+---+---------+-------+-----------+-------+-------+----+---------+-----+-----------+--------+--------+-----+--------+-----------+------------+--------------+-------------+---------+-----------+---+\n",
      "only showing top 5 rows\n",
      "\n"
     ]
    }
   ],
   "source": [
    "# Task 2 -> Replace target values to Boolean variable\n",
    "df_2 = df_1.withColumn('y', when(df_1['y'] == 'no', 0).otherwise(1))\n",
    "\n",
    "df_2.show(5)"
   ]
  },
  {
   "cell_type": "code",
   "execution_count": 284,
   "metadata": {
    "execution": {
     "iopub.execute_input": "2021-12-05T02:56:35.656857Z",
     "iopub.status.busy": "2021-12-05T02:56:35.656650Z",
     "iopub.status.idle": "2021-12-05T02:56:35.743443Z",
     "shell.execute_reply": "2021-12-05T02:56:35.742761Z",
     "shell.execute_reply.started": "2021-12-05T02:56:35.656831Z"
    }
   },
   "outputs": [
    {
     "name": "stdout",
     "output_type": "stream",
     "text": [
      "+---+-----------+--------+-------------------+-------+-------+----+---------+-----+-----------+--------+-----+--------+-----------+------------+--------------+-------------+---------+-----------+---+\n",
      "|age|        job| marital|          education|default|housing|loan|  contact|month|day_of_week|campaign|pdays|previous|   poutcome|emp.var.rate|cons.price.idx|cons.conf.idx|euribor3m|nr.employed|  y|\n",
      "+---+-----------+--------+-------------------+-------+-------+----+---------+-----+-----------+--------+-----+--------+-----------+------------+--------------+-------------+---------+-----------+---+\n",
      "| 56|  housemaid| married|           basic.4y|     no|     no|  no|telephone|  may|        mon|       1| null|       0|nonexistent|         1.1|        93.994|        -36.4|    4.857|       5191|  0|\n",
      "| 57|   services| married|        high.school|   null|     no|  no|telephone|  may|        mon|       1| null|       0|nonexistent|         1.1|        93.994|        -36.4|    4.857|       5191|  0|\n",
      "| 37|   services| married|        high.school|     no|    yes|  no|telephone|  may|        mon|       1| null|       0|nonexistent|         1.1|        93.994|        -36.4|    4.857|       5191|  0|\n",
      "| 40|     admin.| married|           basic.6y|     no|     no|  no|telephone|  may|        mon|       1| null|       0|nonexistent|         1.1|        93.994|        -36.4|    4.857|       5191|  0|\n",
      "| 56|   services| married|        high.school|     no|     no| yes|telephone|  may|        mon|       1| null|       0|nonexistent|         1.1|        93.994|        -36.4|    4.857|       5191|  0|\n",
      "| 45|   services| married|           basic.9y|   null|     no|  no|telephone|  may|        mon|       1| null|       0|nonexistent|         1.1|        93.994|        -36.4|    4.857|       5191|  0|\n",
      "| 59|     admin.| married|professional.course|     no|     no|  no|telephone|  may|        mon|       1| null|       0|nonexistent|         1.1|        93.994|        -36.4|    4.857|       5191|  0|\n",
      "| 41|blue-collar| married|               null|   null|     no|  no|telephone|  may|        mon|       1| null|       0|nonexistent|         1.1|        93.994|        -36.4|    4.857|       5191|  0|\n",
      "| 24| technician|  single|professional.course|     no|    yes|  no|telephone|  may|        mon|       1| null|       0|nonexistent|         1.1|        93.994|        -36.4|    4.857|       5191|  0|\n",
      "| 25|   services|  single|        high.school|     no|    yes|  no|telephone|  may|        mon|       1| null|       0|nonexistent|         1.1|        93.994|        -36.4|    4.857|       5191|  0|\n",
      "| 41|blue-collar| married|               null|   null|     no|  no|telephone|  may|        mon|       1| null|       0|nonexistent|         1.1|        93.994|        -36.4|    4.857|       5191|  0|\n",
      "| 25|   services|  single|        high.school|     no|    yes|  no|telephone|  may|        mon|       1| null|       0|nonexistent|         1.1|        93.994|        -36.4|    4.857|       5191|  0|\n",
      "| 29|blue-collar|  single|        high.school|     no|     no| yes|telephone|  may|        mon|       1| null|       0|nonexistent|         1.1|        93.994|        -36.4|    4.857|       5191|  0|\n",
      "| 57|  housemaid|divorced|           basic.4y|     no|    yes|  no|telephone|  may|        mon|       1| null|       0|nonexistent|         1.1|        93.994|        -36.4|    4.857|       5191|  0|\n",
      "| 35|blue-collar| married|           basic.6y|     no|    yes|  no|telephone|  may|        mon|       1| null|       0|nonexistent|         1.1|        93.994|        -36.4|    4.857|       5191|  0|\n",
      "| 54|    retired| married|           basic.9y|   null|    yes| yes|telephone|  may|        mon|       1| null|       0|nonexistent|         1.1|        93.994|        -36.4|    4.857|       5191|  0|\n",
      "| 35|blue-collar| married|           basic.6y|     no|    yes|  no|telephone|  may|        mon|       1| null|       0|nonexistent|         1.1|        93.994|        -36.4|    4.857|       5191|  0|\n",
      "| 46|blue-collar| married|           basic.6y|   null|    yes| yes|telephone|  may|        mon|       1| null|       0|nonexistent|         1.1|        93.994|        -36.4|    4.857|       5191|  0|\n",
      "| 50|blue-collar| married|           basic.9y|     no|    yes| yes|telephone|  may|        mon|       1| null|       0|nonexistent|         1.1|        93.994|        -36.4|    4.857|       5191|  0|\n",
      "| 39| management|  single|           basic.9y|   null|     no|  no|telephone|  may|        mon|       1| null|       0|nonexistent|         1.1|        93.994|        -36.4|    4.857|       5191|  0|\n",
      "+---+-----------+--------+-------------------+-------+-------+----+---------+-----+-----------+--------+-----+--------+-----------+------------+--------------+-------------+---------+-----------+---+\n",
      "only showing top 20 rows\n",
      "\n"
     ]
    }
   ],
   "source": [
    "# Task 3 -> Drop column \"duration\"\n",
    "\n",
    "columns_to_drop = ['duration']\n",
    "df_transient = df_2.drop(*columns_to_drop)\n",
    "\n",
    "df_transient.show()"
   ]
  },
  {
   "cell_type": "code",
   "execution_count": 285,
   "metadata": {
    "execution": {
     "iopub.execute_input": "2021-12-05T02:56:35.745066Z",
     "iopub.status.busy": "2021-12-05T02:56:35.744760Z",
     "iopub.status.idle": "2021-12-05T02:56:35.751722Z",
     "shell.execute_reply": "2021-12-05T02:56:35.750743Z",
     "shell.execute_reply.started": "2021-12-05T02:56:35.745021Z"
    }
   },
   "outputs": [
    {
     "name": "stdout",
     "output_type": "stream",
     "text": [
      "root\n",
      " |-- age: string (nullable = true)\n",
      " |-- job: string (nullable = true)\n",
      " |-- marital: string (nullable = true)\n",
      " |-- education: string (nullable = true)\n",
      " |-- default: string (nullable = true)\n",
      " |-- housing: string (nullable = true)\n",
      " |-- loan: string (nullable = true)\n",
      " |-- contact: string (nullable = true)\n",
      " |-- month: string (nullable = true)\n",
      " |-- day_of_week: string (nullable = true)\n",
      " |-- campaign: string (nullable = true)\n",
      " |-- pdays: string (nullable = true)\n",
      " |-- previous: string (nullable = true)\n",
      " |-- poutcome: string (nullable = true)\n",
      " |-- emp.var.rate: string (nullable = true)\n",
      " |-- cons.price.idx: string (nullable = true)\n",
      " |-- cons.conf.idx: string (nullable = true)\n",
      " |-- euribor3m: string (nullable = true)\n",
      " |-- nr.employed: string (nullable = true)\n",
      " |-- y: integer (nullable = false)\n",
      "\n"
     ]
    }
   ],
   "source": [
    "# Final Schema\n",
    "df_transient.printSchema()"
   ]
  },
  {
   "cell_type": "code",
   "execution_count": 286,
   "metadata": {
    "execution": {
     "iopub.execute_input": "2021-12-05T02:56:35.754344Z",
     "iopub.status.busy": "2021-12-05T02:56:35.753816Z",
     "iopub.status.idle": "2021-12-05T02:56:36.261507Z",
     "shell.execute_reply": "2021-12-05T02:56:36.259915Z",
     "shell.execute_reply.started": "2021-12-05T02:56:35.754285Z"
    }
   },
   "outputs": [],
   "source": [
    "df_transient.write.option(\"header\",True).mode(\"overwrite\").option(\"delimiter\",\";\").csv('data_transient.csv')"
   ]
  }
 ],
 "metadata": {
  "kernelspec": {
   "display_name": "Python 3",
   "language": "python",
   "name": "python3"
  },
  "language_info": {
   "codemirror_mode": {
    "name": "ipython",
    "version": 3
   },
   "file_extension": ".py",
   "mimetype": "text/x-python",
   "name": "python",
   "nbconvert_exporter": "python",
   "pygments_lexer": "ipython3",
   "version": "3.8.5"
  }
 },
 "nbformat": 4,
 "nbformat_minor": 4
}
