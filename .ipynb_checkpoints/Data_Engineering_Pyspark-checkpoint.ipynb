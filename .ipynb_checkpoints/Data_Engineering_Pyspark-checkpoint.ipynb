{
 "cells": [
  {
   "cell_type": "markdown",
   "metadata": {},
   "source": [
    "## Data Engineering with Pyspark"
   ]
  },
  {
   "cell_type": "code",
   "execution_count": 271,
   "metadata": {
    "execution": {
     "iopub.execute_input": "2021-12-05T02:56:16.249672Z",
     "iopub.status.busy": "2021-12-05T02:56:16.249333Z",
     "iopub.status.idle": "2021-12-05T02:56:25.201549Z",
     "shell.execute_reply": "2021-12-05T02:56:25.200449Z",
     "shell.execute_reply.started": "2021-12-05T02:56:16.249642Z"
    }
   },
   "outputs": [
    {
     "name": "stdout",
     "output_type": "stream",
     "text": [
      "Requirement already satisfied: pyspark in /opt/conda/lib/python3.7/site-packages (3.2.0)\n",
      "Requirement already satisfied: py4j==0.10.9.2 in /opt/conda/lib/python3.7/site-packages (from pyspark) (0.10.9.2)\n",
      "\u001b[33mWARNING: Running pip as the 'root' user can result in broken permissions and conflicting behaviour with the system package manager. It is recommended to use a virtual environment instead: https://pip.pypa.io/warnings/venv\u001b[0m\n"
     ]
    }
   ],
   "source": [
    "!pip install pyspark"
   ]
  },
  {
   "cell_type": "code",
   "execution_count": 272,
   "metadata": {
    "execution": {
     "iopub.execute_input": "2021-12-05T02:56:25.204851Z",
     "iopub.status.busy": "2021-12-05T02:56:25.204470Z",
     "iopub.status.idle": "2021-12-05T02:56:34.212231Z",
     "shell.execute_reply": "2021-12-05T02:56:34.211374Z",
     "shell.execute_reply.started": "2021-12-05T02:56:25.204798Z"
    }
   },
   "outputs": [
    {
     "name": "stdout",
     "output_type": "stream",
     "text": [
      "Requirement already satisfied: pyspark_dist_explore in /opt/conda/lib/python3.7/site-packages (0.1.8)\n",
      "Requirement already satisfied: pandas in /opt/conda/lib/python3.7/site-packages (from pyspark_dist_explore) (1.3.3)\n",
      "Requirement already satisfied: matplotlib in /opt/conda/lib/python3.7/site-packages (from pyspark_dist_explore) (3.4.3)\n",
      "Requirement already satisfied: scipy in /opt/conda/lib/python3.7/site-packages (from pyspark_dist_explore) (1.7.1)\n",
      "Requirement already satisfied: numpy in /opt/conda/lib/python3.7/site-packages (from pyspark_dist_explore) (1.19.5)\n",
      "Requirement already satisfied: pyparsing>=2.2.1 in /opt/conda/lib/python3.7/site-packages (from matplotlib->pyspark_dist_explore) (2.4.7)\n",
      "Requirement already satisfied: pillow>=6.2.0 in /opt/conda/lib/python3.7/site-packages (from matplotlib->pyspark_dist_explore) (8.2.0)\n",
      "Requirement already satisfied: kiwisolver>=1.0.1 in /opt/conda/lib/python3.7/site-packages (from matplotlib->pyspark_dist_explore) (1.3.2)\n",
      "Requirement already satisfied: python-dateutil>=2.7 in /opt/conda/lib/python3.7/site-packages (from matplotlib->pyspark_dist_explore) (2.8.0)\n",
      "Requirement already satisfied: cycler>=0.10 in /opt/conda/lib/python3.7/site-packages (from matplotlib->pyspark_dist_explore) (0.10.0)\n",
      "Requirement already satisfied: six in /opt/conda/lib/python3.7/site-packages (from cycler>=0.10->matplotlib->pyspark_dist_explore) (1.16.0)\n",
      "Requirement already satisfied: pytz>=2017.3 in /opt/conda/lib/python3.7/site-packages (from pandas->pyspark_dist_explore) (2021.1)\n",
      "\u001b[33mWARNING: Running pip as the 'root' user can result in broken permissions and conflicting behaviour with the system package manager. It is recommended to use a virtual environment instead: https://pip.pypa.io/warnings/venv\u001b[0m\n"
     ]
    }
   ],
   "source": [
    "! pip install pyspark_dist_explore"
   ]
  },
  {
   "cell_type": "code",
   "execution_count": 273,
   "metadata": {
    "execution": {
     "iopub.execute_input": "2021-12-05T02:56:34.214628Z",
     "iopub.status.busy": "2021-12-05T02:56:34.214218Z",
     "iopub.status.idle": "2021-12-05T02:56:34.222932Z",
     "shell.execute_reply": "2021-12-05T02:56:34.221980Z",
     "shell.execute_reply.started": "2021-12-05T02:56:34.214571Z"
    }
   },
   "outputs": [],
   "source": [
    "# Spark\n",
    "from pyspark.sql import SparkSession\n",
    "from pyspark.sql.functions import when\n",
    "from pyspark.sql.types import StructType\n",
    "from pyspark.sql.types import *\n",
    "from pyspark.sql.functions import isnan, when, count, col\n",
    "\n",
    "\n",
    "# EDA\n",
    "from pyspark_dist_explore import hist\n",
    "import matplotlib.pyplot as plt\n",
    "\n",
    "# ML\n",
    "from pyspark.ml import Pipeline\n",
    "from pyspark.ml.feature import OneHotEncoder, StringIndexer, VectorAssembler, StandardScaler"
   ]
  },
  {
   "cell_type": "markdown",
   "metadata": {},
   "source": [
    "### Pre Processing Data"
   ]
  },
  {
   "cell_type": "code",
   "execution_count": 287,
   "metadata": {
    "execution": {
     "iopub.execute_input": "2021-12-05T02:56:36.263400Z",
     "iopub.status.busy": "2021-12-05T02:56:36.263028Z",
     "iopub.status.idle": "2021-12-05T02:56:36.315586Z",
     "shell.execute_reply": "2021-12-05T02:56:36.314535Z",
     "shell.execute_reply.started": "2021-12-05T02:56:36.263333Z"
    }
   },
   "outputs": [],
   "source": [
    "spark_new = SparkSession \\\n",
    "    .builder \\\n",
    "    .appName(\"Data Pre Processing with Spark\") \\\n",
    "    .getOrCreate()"
   ]
  },
  {
   "cell_type": "code",
   "execution_count": 288,
   "metadata": {
    "execution": {
     "iopub.execute_input": "2021-12-05T02:56:36.317068Z",
     "iopub.status.busy": "2021-12-05T02:56:36.316783Z",
     "iopub.status.idle": "2021-12-05T02:56:36.348696Z",
     "shell.execute_reply": "2021-12-05T02:56:36.347976Z",
     "shell.execute_reply.started": "2021-12-05T02:56:36.317027Z"
    }
   },
   "outputs": [],
   "source": [
    "# local do arquivo\n",
    "path = 'data_transient.csv'\n",
    "\n",
    "# Lendo o arquivo em um objeto Spark\n",
    "#df = spark.read.option(\"delimiter\", \";\").option(\"header\", \"true\").option(\"nullValue\", \"unknown\").option(\"nullValue\", \"null\").csv(path)\n",
    "\n",
    "# Define csv input schema\n",
    "schema = StructType([\n",
    "    StructField(\"age\", IntegerType()),\n",
    "    StructField(\"job\", StringType()),\n",
    "    StructField(\"marital\", StringType()),\n",
    "    StructField(\"education\", StringType()),\n",
    "    StructField(\"default\", StringType()),\n",
    "    StructField(\"housing\", StringType()),\n",
    "    StructField(\"loan\", StringType()),\n",
    "    StructField(\"contact\", StringType()),\n",
    "    StructField(\"month\", StringType()),\n",
    "    StructField(\"day_of_week\", StringType()),\n",
    "    StructField(\"campaign\", IntegerType()),\n",
    "    StructField(\"pdays\", IntegerType()),\n",
    "    StructField(\"previous\", IntegerType()),\n",
    "    StructField(\"poutcome\", IntegerType()),\n",
    "    StructField(\"emp.var.rate\", FloatType()),\n",
    "    StructField(\"cons.price.idx\", FloatType()),\n",
    "    StructField(\"cons.conf.idx\", FloatType()),\n",
    "    StructField(\"euribor3m\", FloatType()),\n",
    "    StructField(\"nr.employed\", IntegerType()),\n",
    "    StructField(\"y\", IntegerType()),\n",
    "])\n",
    "\n",
    "\n",
    "df = spark_new.read.option(\"delimiter\", \";\").option(\"header\", \"true\").csv(path, schema=schema)"
   ]
  },
  {
   "cell_type": "code",
   "execution_count": 289,
   "metadata": {
    "execution": {
     "iopub.execute_input": "2021-12-05T02:56:36.349841Z",
     "iopub.status.busy": "2021-12-05T02:56:36.349610Z",
     "iopub.status.idle": "2021-12-05T02:56:36.362969Z",
     "shell.execute_reply": "2021-12-05T02:56:36.362234Z",
     "shell.execute_reply.started": "2021-12-05T02:56:36.349814Z"
    }
   },
   "outputs": [],
   "source": [
    "df.createOrReplaceTempView(\"df_transient\")"
   ]
  },
  {
   "cell_type": "code",
   "execution_count": 290,
   "metadata": {
    "execution": {
     "iopub.execute_input": "2021-12-05T02:56:36.364057Z",
     "iopub.status.busy": "2021-12-05T02:56:36.363861Z",
     "iopub.status.idle": "2021-12-05T02:56:36.370649Z",
     "shell.execute_reply": "2021-12-05T02:56:36.369742Z",
     "shell.execute_reply.started": "2021-12-05T02:56:36.364030Z"
    }
   },
   "outputs": [
    {
     "name": "stdout",
     "output_type": "stream",
     "text": [
      "root\n",
      " |-- age: integer (nullable = true)\n",
      " |-- job: string (nullable = true)\n",
      " |-- marital: string (nullable = true)\n",
      " |-- education: string (nullable = true)\n",
      " |-- default: string (nullable = true)\n",
      " |-- housing: string (nullable = true)\n",
      " |-- loan: string (nullable = true)\n",
      " |-- contact: string (nullable = true)\n",
      " |-- month: string (nullable = true)\n",
      " |-- day_of_week: string (nullable = true)\n",
      " |-- campaign: integer (nullable = true)\n",
      " |-- pdays: integer (nullable = true)\n",
      " |-- previous: integer (nullable = true)\n",
      " |-- poutcome: integer (nullable = true)\n",
      " |-- emp.var.rate: float (nullable = true)\n",
      " |-- cons.price.idx: float (nullable = true)\n",
      " |-- cons.conf.idx: float (nullable = true)\n",
      " |-- euribor3m: float (nullable = true)\n",
      " |-- nr.employed: integer (nullable = true)\n",
      " |-- y: integer (nullable = true)\n",
      "\n"
     ]
    }
   ],
   "source": [
    "df.printSchema()"
   ]
  },
  {
   "cell_type": "code",
   "execution_count": 291,
   "metadata": {
    "execution": {
     "iopub.execute_input": "2021-12-05T02:56:36.372839Z",
     "iopub.status.busy": "2021-12-05T02:56:36.371839Z",
     "iopub.status.idle": "2021-12-05T02:56:36.448840Z",
     "shell.execute_reply": "2021-12-05T02:56:36.447090Z",
     "shell.execute_reply.started": "2021-12-05T02:56:36.372792Z"
    }
   },
   "outputs": [
    {
     "name": "stdout",
     "output_type": "stream",
     "text": [
      "+---+---------+-------+-----------+-------+-------+----+---------+-----+-----------+--------+-----+--------+--------+------------+--------------+-------------+---------+-----------+---+\n",
      "|age|      job|marital|  education|default|housing|loan|  contact|month|day_of_week|campaign|pdays|previous|poutcome|emp.var.rate|cons.price.idx|cons.conf.idx|euribor3m|nr.employed|  y|\n",
      "+---+---------+-------+-----------+-------+-------+----+---------+-----+-----------+--------+-----+--------+--------+------------+--------------+-------------+---------+-----------+---+\n",
      "| 56|housemaid|married|   basic.4y|     no|     no|  no|telephone|  may|        mon|       1| null|       0|    null|         1.1|        93.994|        -36.4|    4.857|       5191|  0|\n",
      "| 57| services|married|high.school|   null|     no|  no|telephone|  may|        mon|       1| null|       0|    null|         1.1|        93.994|        -36.4|    4.857|       5191|  0|\n",
      "| 37| services|married|high.school|     no|    yes|  no|telephone|  may|        mon|       1| null|       0|    null|         1.1|        93.994|        -36.4|    4.857|       5191|  0|\n",
      "| 40|   admin.|married|   basic.6y|     no|     no|  no|telephone|  may|        mon|       1| null|       0|    null|         1.1|        93.994|        -36.4|    4.857|       5191|  0|\n",
      "| 56| services|married|high.school|     no|     no| yes|telephone|  may|        mon|       1| null|       0|    null|         1.1|        93.994|        -36.4|    4.857|       5191|  0|\n",
      "+---+---------+-------+-----------+-------+-------+----+---------+-----+-----------+--------+-----+--------+--------+------------+--------------+-------------+---------+-----------+---+\n",
      "only showing top 5 rows\n",
      "\n"
     ]
    }
   ],
   "source": [
    "spark_new.sql('''Select * FROM df_transient''').show(5)"
   ]
  },
  {
   "cell_type": "markdown",
   "metadata": {},
   "source": [
    "### EDA"
   ]
  },
  {
   "cell_type": "markdown",
   "metadata": {},
   "source": [
    "**Some Exploratory Analisys - Numerical Data**"
   ]
  },
  {
   "cell_type": "code",
   "execution_count": 292,
   "metadata": {
    "execution": {
     "iopub.execute_input": "2021-12-05T02:56:36.450347Z",
     "iopub.status.busy": "2021-12-05T02:56:36.450055Z",
     "iopub.status.idle": "2021-12-05T02:56:36.525257Z",
     "shell.execute_reply": "2021-12-05T02:56:36.524415Z",
     "shell.execute_reply.started": "2021-12-05T02:56:36.450302Z"
    }
   },
   "outputs": [
    {
     "name": "stdout",
     "output_type": "stream",
     "text": [
      "+---+---------+-------+-----------+-------+-------+----+---------+-----+-----------+--------+-----+--------+--------+------------+--------------+-------------+---------+-----------+---+\n",
      "|age|      job|marital|  education|default|housing|loan|  contact|month|day_of_week|campaign|pdays|previous|poutcome|emp_var_rate|cons_price_idx|cons_conf_idx|euribor3m|nr_employed|  y|\n",
      "+---+---------+-------+-----------+-------+-------+----+---------+-----+-----------+--------+-----+--------+--------+------------+--------------+-------------+---------+-----------+---+\n",
      "| 56|housemaid|married|   basic.4y|     no|     no|  no|telephone|  may|        mon|       1| null|       0|    null|         1.1|        93.994|        -36.4|    4.857|       5191|  0|\n",
      "| 57| services|married|high.school|   null|     no|  no|telephone|  may|        mon|       1| null|       0|    null|         1.1|        93.994|        -36.4|    4.857|       5191|  0|\n",
      "| 37| services|married|high.school|     no|    yes|  no|telephone|  may|        mon|       1| null|       0|    null|         1.1|        93.994|        -36.4|    4.857|       5191|  0|\n",
      "| 40|   admin.|married|   basic.6y|     no|     no|  no|telephone|  may|        mon|       1| null|       0|    null|         1.1|        93.994|        -36.4|    4.857|       5191|  0|\n",
      "| 56| services|married|high.school|     no|     no| yes|telephone|  may|        mon|       1| null|       0|    null|         1.1|        93.994|        -36.4|    4.857|       5191|  0|\n",
      "+---+---------+-------+-----------+-------+-------+----+---------+-----+-----------+--------+-----+--------+--------+------------+--------------+-------------+---------+-----------+---+\n",
      "only showing top 5 rows\n",
      "\n"
     ]
    }
   ],
   "source": [
    "df_eda = df.withColumnRenamed(\"emp.var.rate\",\"emp_var_rate\") \\\n",
    "                        .withColumnRenamed(\"cons.price.idx\",\"cons_price_idx\")\\\n",
    "                        .withColumnRenamed(\"cons.conf.idx\",\"cons_conf_idx\")\\\n",
    "                        .withColumnRenamed(\"nr.employed\",\"nr_employed\")\n",
    "df_eda.show(5)"
   ]
  },
  {
   "cell_type": "code",
   "execution_count": 293,
   "metadata": {
    "execution": {
     "iopub.execute_input": "2021-12-05T02:56:36.526817Z",
     "iopub.status.busy": "2021-12-05T02:56:36.526518Z",
     "iopub.status.idle": "2021-12-05T02:56:38.975816Z",
     "shell.execute_reply": "2021-12-05T02:56:38.975133Z",
     "shell.execute_reply.started": "2021-12-05T02:56:36.526776Z"
    }
   },
   "outputs": [
    {
     "data": {
      "image/png": "[encoded data removed]",
      "text/plain": [
       "<Figure size 1008x576 with 3 Axes>"
      ]
     },
     "metadata": {
      "needs_background": "light"
     },
     "output_type": "display_data"
    }
   ],
   "source": [
    "# Plotting histogram\n",
    "\n",
    "fig, axes = plt.subplots(nrows=1, ncols=3)\n",
    "fig.set_size_inches(14, 8)\n",
    "\n",
    "# age histogram\n",
    "hist(axes[0], df_eda.select('age'), bins = 50, color=['red']);\n",
    "axes[0].set_title('Histogram of age');\n",
    "\n",
    "# nr_employed histogram\n",
    "hist(axes[1], df_eda.select('campaign'), bins = 50, color=['red']);\n",
    "axes[1].set_title('Histogram of campaign');\n",
    "\n",
    "# euribor3m histogram\n",
    "hist(axes[2], df_eda.select('y'), bins = 50, color=['red']);\n",
    "axes[2].set_title('Histogram of target');\n"
   ]
  },
  {
   "cell_type": "code",
   "execution_count": 294,
   "metadata": {
    "execution": {
     "iopub.execute_input": "2021-12-05T02:56:38.977873Z",
     "iopub.status.busy": "2021-12-05T02:56:38.977109Z",
     "iopub.status.idle": "2021-12-05T02:56:44.347249Z",
     "shell.execute_reply": "2021-12-05T02:56:44.346258Z",
     "shell.execute_reply.started": "2021-12-05T02:56:38.977830Z"
    }
   },
   "outputs": [
    {
     "data": {
      "image/png": "[encoded data removed]",
      "text/plain": [
       "<Figure size 1152x720 with 6 Axes>"
      ]
     },
     "metadata": {
      "needs_background": "light"
     },
     "output_type": "display_data"
    }
   ],
   "source": [
    "# Plotting histogram - Economic data\n",
    "\n",
    "fig, axes = plt.subplots(nrows=2, ncols=3)\n",
    "fig.set_size_inches(16, 10)\n",
    "\n",
    "# pdays histogram\n",
    "hist(axes[0,0], df_eda.select('pdays'), bins = 50, color=['red']);\n",
    "axes[0,0].set_title('Histogram of pdays');\n",
    "\n",
    "# nr_employed histogram\n",
    "hist(axes[0,1], df_eda.select('nr_employed'), bins = 50, color=['red']);\n",
    "axes[0,1].set_title('Histogram of nr_employed');\n",
    "\n",
    "# euribor3m histogram\n",
    "hist(axes[0,2], df_eda.select('euribor3m'), bins = 50, color=['red']);\n",
    "axes[0,2].set_title('Histogram of euribor3m');\n",
    "\n",
    "# emp_var_rate histogram\n",
    "hist(axes[1,0], df_eda.select('emp_var_rate'), bins = 50, color=['red']);\n",
    "axes[1,0].set_title('Histogram of emp_var_rate');\n",
    "\n",
    "# cons_conf_idx histogram\n",
    "hist(axes[1,1], df_eda.select('cons_conf_idx'), bins = 50, color=['red']);\n",
    "axes[1,1].set_title('Histogram of cons_conf_idx');\n",
    "\n",
    "# cons_price_idx histogram\n",
    "hist(axes[1,2], df_eda.select('cons_price_idx'), bins = 50, color=['red']);\n",
    "axes[1,2].set_title('Histogram of cons_price_idx');"
   ]
  },
  {
   "cell_type": "markdown",
   "metadata": {},
   "source": [
    "**Some Exploratory Analisys - Categorical Data**"
   ]
  },
  {
   "cell_type": "code",
   "execution_count": 295,
   "metadata": {
    "execution": {
     "iopub.execute_input": "2021-12-05T02:56:44.349699Z",
     "iopub.status.busy": "2021-12-05T02:56:44.349135Z",
     "iopub.status.idle": "2021-12-05T02:56:44.846999Z",
     "shell.execute_reply": "2021-12-05T02:56:44.845889Z",
     "shell.execute_reply.started": "2021-12-05T02:56:44.349651Z"
    }
   },
   "outputs": [
    {
     "name": "stdout",
     "output_type": "stream",
     "text": [
      "+--------+-------+-------------+------------------+\n",
      "|CAMPAIGN|QTD_CLI|QTD_CONTRATOS|    PERC_CONVERSAO|\n",
      "+--------+-------+-------------+------------------+\n",
      "|       1|  17642|         2300|13.037070626913048|\n",
      "|       2|  10570|         1211|11.456953642384105|\n",
      "|       3|   5341|          574|10.747051114023591|\n",
      "|       4|   2651|          249|  9.39268200678989|\n",
      "|       6|    979|           75|7.6608784473953015|\n",
      "|       5|   1599|          120|   7.5046904315197|\n",
      "|      17|     58|            4| 6.896551724137931|\n",
      "|      11|    177|           12| 6.779661016949152|\n",
      "|      23|     16|            1|              6.25|\n",
      "|       7|    629|           38| 6.041335453100159|\n",
      "|       9|    283|           17| 6.007067137809187|\n",
      "|      10|    225|           12| 5.333333333333334|\n",
      "|      13|     92|            4|4.3478260869565215|\n",
      "|       8|    400|           17|              4.25|\n",
      "|      15|     51|            2|3.9215686274509802|\n",
      "|      12|    125|            3|               2.4|\n",
      "|      14|     69|            1|1.4492753623188406|\n",
      "|      31|      7|            0|               0.0|\n",
      "|      34|      3|            0|               0.0|\n",
      "|      16|     51|            0|               0.0|\n",
      "|      39|      1|            0|               0.0|\n",
      "|      28|      8|            0|               0.0|\n",
      "|      20|     30|            0|               0.0|\n",
      "|      41|      1|            0|               0.0|\n",
      "|      25|      8|            0|               0.0|\n",
      "|      21|     24|            0|               0.0|\n",
      "|      26|      8|            0|               0.0|\n",
      "|      27|     11|            0|               0.0|\n",
      "|      40|      2|            0|               0.0|\n",
      "|      43|      2|            0|               0.0|\n",
      "|      37|      1|            0|               0.0|\n",
      "|      24|     15|            0|               0.0|\n",
      "|      32|      4|            0|               0.0|\n",
      "|      56|      1|            0|               0.0|\n",
      "|      42|      2|            0|               0.0|\n",
      "|      18|     33|            0|               0.0|\n",
      "|      22|     17|            0|               0.0|\n",
      "|      19|     26|            0|               0.0|\n",
      "|      35|      5|            0|               0.0|\n",
      "|      29|     10|            0|               0.0|\n",
      "|      33|      4|            0|               0.0|\n",
      "|      30|      7|            0|               0.0|\n",
      "+--------+-------+-------------+------------------+\n",
      "\n"
     ]
    }
   ],
   "source": [
    "# Grouping Campaign sucess\n",
    "\n",
    "spark_new.sql('''\n",
    "            SELECT CAMPAIGN,\n",
    "                SUM(QTD) AS QTD_CLI,\n",
    "                SUM(QTD*FLAG_CONTRATOU) AS QTD_CONTRATOS,\n",
    "                (SUM(QTD*FLAG_CONTRATOU)/SUM(QTD))*100 AS PERC_CONVERSAO\n",
    "            FROM (\n",
    "                  SELECT DISTINCT \n",
    "                      campaign,\n",
    "                      y as flag_contratou,\n",
    "                      COUNT(*) as qtd \n",
    "                  FROM df_transient \n",
    "                  GROUP BY campaign, y\n",
    "              )\n",
    "            GROUP BY CAMPAIGN\n",
    "            ORDER BY PERC_CONVERSAO DESC\n",
    "              ''').show(100)"
   ]
  },
  {
   "cell_type": "code",
   "execution_count": 296,
   "metadata": {
    "execution": {
     "iopub.execute_input": "2021-12-05T02:56:44.848224Z",
     "iopub.status.busy": "2021-12-05T02:56:44.848010Z",
     "iopub.status.idle": "2021-12-05T02:56:45.220280Z",
     "shell.execute_reply": "2021-12-05T02:56:45.219181Z",
     "shell.execute_reply.started": "2021-12-05T02:56:44.848196Z"
    }
   },
   "outputs": [
    {
     "name": "stdout",
     "output_type": "stream",
     "text": [
      "+-------------+-------+-------------+------------------+\n",
      "|          job|QTD_CLI|QTD_CONTRATOS|    PERC_CONVERSAO|\n",
      "+-------------+-------+-------------+------------------+\n",
      "|      student|    875|          275|31.428571428571427|\n",
      "|      retired|   1720|          434|25.232558139534884|\n",
      "|   unemployed|   1014|          144|14.201183431952662|\n",
      "|       admin.|  10422|         1352|12.972558050278257|\n",
      "|   management|   2924|          328| 11.21751025991792|\n",
      "|         null|    330|           37|11.212121212121213|\n",
      "|   technician|   6743|          730|10.826041821147857|\n",
      "|self-employed|   1421|          149| 10.48557353976073|\n",
      "|    housemaid|   1060|          106|              10.0|\n",
      "| entrepreneur|   1456|          124| 8.516483516483516|\n",
      "|     services|   3969|          323| 8.138070042831949|\n",
      "|  blue-collar|   9254|          638| 6.894315971471795|\n",
      "+-------------+-------+-------------+------------------+\n",
      "\n"
     ]
    }
   ],
   "source": [
    "# Grouping by job the campaign conversion\n",
    "\n",
    "spark_new.sql('''\n",
    "            SELECT job,\n",
    "                SUM(QTD) AS QTD_CLI,\n",
    "                SUM(QTD*FLAG_CONTRATOU) AS QTD_CONTRATOS,\n",
    "                (SUM(QTD*FLAG_CONTRATOU)/SUM(QTD))*100 AS PERC_CONVERSAO\n",
    "            FROM (\n",
    "                  SELECT DISTINCT \n",
    "                      job,\n",
    "                      y as flag_contratou,\n",
    "                      COUNT(*) as qtd \n",
    "                  FROM df_transient \n",
    "                  GROUP BY job, y\n",
    "              )\n",
    "            GROUP BY job\n",
    "            ORDER BY PERC_CONVERSAO DESC\n",
    "              ''').show(100)"
   ]
  },
  {
   "cell_type": "code",
   "execution_count": 297,
   "metadata": {
    "execution": {
     "iopub.execute_input": "2021-12-05T02:56:45.222586Z",
     "iopub.status.busy": "2021-12-05T02:56:45.221874Z",
     "iopub.status.idle": "2021-12-05T02:56:45.540750Z",
     "shell.execute_reply": "2021-12-05T02:56:45.539680Z",
     "shell.execute_reply.started": "2021-12-05T02:56:45.222532Z"
    }
   },
   "outputs": [
    {
     "name": "stdout",
     "output_type": "stream",
     "text": [
      "+-------------------+-------+-------------+------------------+\n",
      "|          education|QTD_CLI|QTD_CONTRATOS|    PERC_CONVERSAO|\n",
      "+-------------------+-------+-------------+------------------+\n",
      "|         illiterate|     18|            4| 22.22222222222222|\n",
      "|               null|   1731|          251|14.500288850375506|\n",
      "|  university.degree|  12168|         1670|13.724523339907954|\n",
      "|professional.course|   5243|          595|11.348464619492656|\n",
      "|        high.school|   9515|         1031|10.835522858644246|\n",
      "|           basic.4y|   4176|          428| 10.24904214559387|\n",
      "|           basic.6y|   2292|          188| 8.202443280977311|\n",
      "|           basic.9y|   6045|          473|  7.82464846980976|\n",
      "+-------------------+-------+-------------+------------------+\n",
      "\n"
     ]
    }
   ],
   "source": [
    "# Grouping by education the campaign conversion\n",
    "\n",
    "spark_new.sql('''\n",
    "            SELECT education,\n",
    "                SUM(QTD) AS QTD_CLI,\n",
    "                SUM(QTD*FLAG_CONTRATOU) AS QTD_CONTRATOS,\n",
    "                (SUM(QTD*FLAG_CONTRATOU)/SUM(QTD))*100 AS PERC_CONVERSAO\n",
    "            FROM (\n",
    "                  SELECT DISTINCT \n",
    "                      education,\n",
    "                      y as flag_contratou,\n",
    "                      COUNT(*) as qtd \n",
    "                  FROM df_transient \n",
    "                  GROUP BY education, y\n",
    "              )\n",
    "            GROUP BY education\n",
    "            ORDER BY PERC_CONVERSAO DESC\n",
    "              ''').show(100)"
   ]
  },
  {
   "cell_type": "code",
   "execution_count": 298,
   "metadata": {
    "execution": {
     "iopub.execute_input": "2021-12-05T02:56:45.546289Z",
     "iopub.status.busy": "2021-12-05T02:56:45.546048Z",
     "iopub.status.idle": "2021-12-05T02:56:45.827292Z",
     "shell.execute_reply": "2021-12-05T02:56:45.826402Z",
     "shell.execute_reply.started": "2021-12-05T02:56:45.546258Z"
    }
   },
   "outputs": [
    {
     "name": "stdout",
     "output_type": "stream",
     "text": [
      "+--------+-------+-------------+------------------+\n",
      "| marital|QTD_CLI|QTD_CONTRATOS|    PERC_CONVERSAO|\n",
      "+--------+-------+-------------+------------------+\n",
      "|    null|     80|           12|              15.0|\n",
      "|  single|  11568|         1620|14.004149377593361|\n",
      "|divorced|   4612|          476|10.320901994796184|\n",
      "| married|  24928|         2532|10.157252888318355|\n",
      "+--------+-------+-------------+------------------+\n",
      "\n"
     ]
    }
   ],
   "source": [
    "# Grouping by marital status the campaign conversion\n",
    "\n",
    "spark_new.sql('''\n",
    "            SELECT marital,\n",
    "                SUM(QTD) AS QTD_CLI,\n",
    "                SUM(QTD*FLAG_CONTRATOU) AS QTD_CONTRATOS,\n",
    "                (SUM(QTD*FLAG_CONTRATOU)/SUM(QTD))*100 AS PERC_CONVERSAO\n",
    "            FROM (\n",
    "                  SELECT DISTINCT \n",
    "                      marital,\n",
    "                      y as flag_contratou,\n",
    "                      COUNT(*) as qtd \n",
    "                  FROM df_transient \n",
    "                  GROUP BY marital, y\n",
    "              )\n",
    "            GROUP BY marital\n",
    "            ORDER BY PERC_CONVERSAO DESC\n",
    "              ''').show(100)"
   ]
  },
  {
   "cell_type": "code",
   "execution_count": 299,
   "metadata": {
    "execution": {
     "iopub.execute_input": "2021-12-05T02:56:45.828827Z",
     "iopub.status.busy": "2021-12-05T02:56:45.828541Z",
     "iopub.status.idle": "2021-12-05T02:56:46.161508Z",
     "shell.execute_reply": "2021-12-05T02:56:46.160590Z",
     "shell.execute_reply.started": "2021-12-05T02:56:45.828788Z"
    }
   },
   "outputs": [
    {
     "name": "stdout",
     "output_type": "stream",
     "text": [
      "+---------+-------+-------------+------------------+\n",
      "|  contact|QTD_CLI|QTD_CONTRATOS|    PERC_CONVERSAO|\n",
      "+---------+-------+-------------+------------------+\n",
      "| cellular|  26144|         3853|14.737607099143208|\n",
      "|telephone|  15044|          787| 5.231321457059293|\n",
      "+---------+-------+-------------+------------------+\n",
      "\n"
     ]
    }
   ],
   "source": [
    "# Grouping by contact status the campaign conversion\n",
    "\n",
    "spark_new.sql('''\n",
    "            SELECT contact,\n",
    "                SUM(QTD) AS QTD_CLI,\n",
    "                SUM(QTD*FLAG_CONTRATOU) AS QTD_CONTRATOS,\n",
    "                (SUM(QTD*FLAG_CONTRATOU)/SUM(QTD))*100 AS PERC_CONVERSAO\n",
    "            FROM (\n",
    "                  SELECT DISTINCT \n",
    "                      contact,\n",
    "                      y as flag_contratou,\n",
    "                      COUNT(*) as qtd \n",
    "                  FROM df_transient \n",
    "                  GROUP BY contact, y\n",
    "              )\n",
    "            GROUP BY contact\n",
    "            ORDER BY PERC_CONVERSAO DESC\n",
    "              ''').show(100)"
   ]
  },
  {
   "cell_type": "code",
   "execution_count": 300,
   "metadata": {
    "execution": {
     "iopub.execute_input": "2021-12-05T02:56:46.162992Z",
     "iopub.status.busy": "2021-12-05T02:56:46.162684Z",
     "iopub.status.idle": "2021-12-05T02:56:46.477772Z",
     "shell.execute_reply": "2021-12-05T02:56:46.476797Z",
     "shell.execute_reply.started": "2021-12-05T02:56:46.162951Z"
    }
   },
   "outputs": [
    {
     "name": "stdout",
     "output_type": "stream",
     "text": [
      "+-------+-------+-------------+------------------+\n",
      "|default|QTD_CLI|QTD_CONTRATOS|    PERC_CONVERSAO|\n",
      "+-------+-------+-------------+------------------+\n",
      "|     no|  32588|         4197|12.878973855406898|\n",
      "|   null|   8597|          443| 5.152960335000581|\n",
      "|    yes|      3|            0|               0.0|\n",
      "+-------+-------+-------------+------------------+\n",
      "\n"
     ]
    }
   ],
   "source": [
    "# Grouping by default status the campaign conversion\n",
    "\n",
    "spark_new.sql('''\n",
    "            SELECT default,\n",
    "                SUM(QTD) AS QTD_CLI,\n",
    "                SUM(QTD*FLAG_CONTRATOU) AS QTD_CONTRATOS,\n",
    "                (SUM(QTD*FLAG_CONTRATOU)/SUM(QTD))*100 AS PERC_CONVERSAO\n",
    "            FROM (\n",
    "                  SELECT DISTINCT \n",
    "                      default,\n",
    "                      y as flag_contratou,\n",
    "                      COUNT(*) as qtd \n",
    "                  FROM df_transient \n",
    "                  GROUP BY default, y\n",
    "              )\n",
    "            GROUP BY default\n",
    "            ORDER BY PERC_CONVERSAO DESC\n",
    "              ''').show(100)"
   ]
  },
  {
   "cell_type": "code",
   "execution_count": 301,
   "metadata": {
    "execution": {
     "iopub.execute_input": "2021-12-05T02:56:46.479092Z",
     "iopub.status.busy": "2021-12-05T02:56:46.478880Z",
     "iopub.status.idle": "2021-12-05T02:56:46.779082Z",
     "shell.execute_reply": "2021-12-05T02:56:46.778157Z",
     "shell.execute_reply.started": "2021-12-05T02:56:46.479065Z"
    }
   },
   "outputs": [
    {
     "name": "stdout",
     "output_type": "stream",
     "text": [
      "+-------+-------+-------------+------------------+\n",
      "|housing|QTD_CLI|QTD_CONTRATOS|    PERC_CONVERSAO|\n",
      "+-------+-------+-------------+------------------+\n",
      "|    yes|  21576|         2507|11.619391916944753|\n",
      "|     no|  18622|         2026|10.879604768553323|\n",
      "|   null|    990|          107|10.808080808080808|\n",
      "+-------+-------+-------------+------------------+\n",
      "\n"
     ]
    }
   ],
   "source": [
    "# Grouping by housing status the campaign conversion\n",
    "\n",
    "spark_new.sql('''\n",
    "            SELECT housing,\n",
    "                SUM(QTD) AS QTD_CLI,\n",
    "                SUM(QTD*FLAG_CONTRATOU) AS QTD_CONTRATOS,\n",
    "                (SUM(QTD*FLAG_CONTRATOU)/SUM(QTD))*100 AS PERC_CONVERSAO\n",
    "            FROM (\n",
    "                  SELECT DISTINCT \n",
    "                      housing,\n",
    "                      y as flag_contratou,\n",
    "                      COUNT(*) as qtd \n",
    "                  FROM df_transient \n",
    "                  GROUP BY housing, y\n",
    "              )\n",
    "            GROUP BY housing\n",
    "            ORDER BY PERC_CONVERSAO DESC\n",
    "              ''').show(100)"
   ]
  },
  {
   "cell_type": "code",
   "execution_count": 302,
   "metadata": {
    "execution": {
     "iopub.execute_input": "2021-12-05T02:56:46.780798Z",
     "iopub.status.busy": "2021-12-05T02:56:46.780478Z",
     "iopub.status.idle": "2021-12-05T02:56:47.019737Z",
     "shell.execute_reply": "2021-12-05T02:56:47.018811Z",
     "shell.execute_reply.started": "2021-12-05T02:56:46.780756Z"
    }
   },
   "outputs": [
    {
     "name": "stdout",
     "output_type": "stream",
     "text": [
      "+----+-------+-------------+------------------+\n",
      "|loan|QTD_CLI|QTD_CONTRATOS|    PERC_CONVERSAO|\n",
      "+----+-------+-------------+------------------+\n",
      "|  no|  33950|         3850| 11.34020618556701|\n",
      "| yes|   6248|          683|10.931498079385403|\n",
      "|null|    990|          107|10.808080808080808|\n",
      "+----+-------+-------------+------------------+\n",
      "\n"
     ]
    }
   ],
   "source": [
    "# Grouping by loan status the campaign conversion\n",
    "\n",
    "spark_new.sql('''\n",
    "            SELECT loan,\n",
    "                SUM(QTD) AS QTD_CLI,\n",
    "                SUM(QTD*FLAG_CONTRATOU) AS QTD_CONTRATOS,\n",
    "                (SUM(QTD*FLAG_CONTRATOU)/SUM(QTD))*100 AS PERC_CONVERSAO\n",
    "            FROM (\n",
    "                  SELECT DISTINCT \n",
    "                      loan,\n",
    "                      y as flag_contratou,\n",
    "                      COUNT(*) as qtd \n",
    "                  FROM df_transient \n",
    "                  GROUP BY loan, y\n",
    "              )\n",
    "            GROUP BY loan\n",
    "            ORDER BY PERC_CONVERSAO DESC\n",
    "              ''').show(100)"
   ]
  },
  {
   "cell_type": "code",
   "execution_count": 303,
   "metadata": {
    "execution": {
     "iopub.execute_input": "2021-12-05T02:56:47.021221Z",
     "iopub.status.busy": "2021-12-05T02:56:47.020940Z",
     "iopub.status.idle": "2021-12-05T02:56:47.337703Z",
     "shell.execute_reply": "2021-12-05T02:56:47.336745Z",
     "shell.execute_reply.started": "2021-12-05T02:56:47.021181Z"
    }
   },
   "outputs": [
    {
     "name": "stdout",
     "output_type": "stream",
     "text": [
      "+-----------+-------+-------------+------------------+\n",
      "|day_of_week|QTD_CLI|QTD_CONTRATOS|    PERC_CONVERSAO|\n",
      "+-----------+-------+-------------+------------------+\n",
      "|        thu|   8623|         1045|12.118752174417256|\n",
      "|        tue|   8090|          953|11.779975278121137|\n",
      "|        wed|   8134|          949|11.667076469141874|\n",
      "|        fri|   7827|          846| 10.80873898045228|\n",
      "|        mon|   8514|          847| 9.948320413436692|\n",
      "+-----------+-------+-------------+------------------+\n",
      "\n"
     ]
    }
   ],
   "source": [
    "# Grouping by day_of_week status the campaign conversion\n",
    "\n",
    "spark_new.sql('''\n",
    "            SELECT day_of_week,\n",
    "                SUM(QTD) AS QTD_CLI,\n",
    "                SUM(QTD*FLAG_CONTRATOU) AS QTD_CONTRATOS,\n",
    "                (SUM(QTD*FLAG_CONTRATOU)/SUM(QTD))*100 AS PERC_CONVERSAO\n",
    "            FROM (\n",
    "                  SELECT DISTINCT \n",
    "                      day_of_week,\n",
    "                      y as flag_contratou,\n",
    "                      COUNT(*) as qtd \n",
    "                  FROM df_transient \n",
    "                  GROUP BY day_of_week, y\n",
    "              )\n",
    "            GROUP BY day_of_week\n",
    "            ORDER BY PERC_CONVERSAO DESC\n",
    "              ''').show(100)"
   ]
  },
  {
   "cell_type": "markdown",
   "metadata": {},
   "source": [
    "### Data Engeneering"
   ]
  },
  {
   "cell_type": "code",
   "execution_count": 1,
   "metadata": {},
   "outputs": [
    {
     "ename": "NameError",
     "evalue": "name 'df' is not defined",
     "output_type": "error",
     "traceback": [
      "\u001b[1;31m---------------------------------------------------------------------------\u001b[0m",
      "\u001b[1;31mNameError\u001b[0m                                 Traceback (most recent call last)",
      "\u001b[1;32m<ipython-input-1-09aa658342f2>\u001b[0m in \u001b[0;36m<module>\u001b[1;34m\u001b[0m\n\u001b[1;32m----> 1\u001b[1;33m \u001b[0mdf\u001b[0m\u001b[1;33m.\u001b[0m\u001b[0mprintSchema\u001b[0m\u001b[1;33m(\u001b[0m\u001b[1;33m)\u001b[0m\u001b[1;33m\u001b[0m\u001b[1;33m\u001b[0m\u001b[0m\n\u001b[0m",
      "\u001b[1;31mNameError\u001b[0m: name 'df' is not defined"
     ]
    }
   ],
   "source": [
    "df.printSchema()"
   ]
  },
  {
   "cell_type": "code",
   "execution_count": 305,
   "metadata": {
    "execution": {
     "iopub.execute_input": "2021-12-05T02:56:47.348140Z",
     "iopub.status.busy": "2021-12-05T02:56:47.347536Z",
     "iopub.status.idle": "2021-12-05T02:56:47.472566Z",
     "shell.execute_reply": "2021-12-05T02:56:47.471684Z",
     "shell.execute_reply.started": "2021-12-05T02:56:47.348094Z"
    }
   },
   "outputs": [
    {
     "name": "stdout",
     "output_type": "stream",
     "text": [
      "+---+---------+-------+----------------+-------+-------+----+---------+-----+-----------+--------+-----+--------+--------+------------+--------------+-------------+---------+-----------+---+\n",
      "|age|      job|marital|       education|default|housing|loan|  contact|month|day_of_week|campaign|pdays|previous|poutcome|emp.var.rate|cons.price.idx|cons.conf.idx|euribor3m|nr.employed|  y|\n",
      "+---+---------+-------+----------------+-------+-------+----+---------+-----+-----------+--------+-----+--------+--------+------------+--------------+-------------+---------+-----------+---+\n",
      "| 56|housemaid|married|Basic incomplete|     no|     no|  no|telephone|  may|        mon|       1| null|       0|    null|         1.1|        93.994|        -36.4|    4.857|       5191|  0|\n",
      "| 57| employed|married|     High School|   null|     no|  no|telephone|  may|        mon|       1| null|       0|    null|         1.1|        93.994|        -36.4|    4.857|       5191|  0|\n",
      "| 37| employed|married|     High School|     no|    yes|  no|telephone|  may|        mon|       1| null|       0|    null|         1.1|        93.994|        -36.4|    4.857|       5191|  0|\n",
      "| 40| employed|married|Basic incomplete|     no|     no|  no|telephone|  may|        mon|       1| null|       0|    null|         1.1|        93.994|        -36.4|    4.857|       5191|  0|\n",
      "| 56| employed|married|     High School|     no|     no| yes|telephone|  may|        mon|       1| null|       0|    null|         1.1|        93.994|        -36.4|    4.857|       5191|  0|\n",
      "+---+---------+-------+----------------+-------+-------+----+---------+-----+-----------+--------+-----+--------+--------+------------+--------------+-------------+---------+-----------+---+\n",
      "only showing top 5 rows\n",
      "\n"
     ]
    }
   ],
   "source": [
    "# Task 1 - Replace statements  in education and job columns\n",
    "\n",
    "# Rules (education):\n",
    "# 'Basic incomplete' : 'illiterate' 'basic.4y', 'basic.6y'\n",
    "# 'Basic Degree': 'basic.9y'\n",
    "# 'High School ': 'high.school'\n",
    "# 'Higher Education Degree': 'university.degree', 'professional.course'\n",
    "\n",
    "# Rules (job):\n",
    "# 'retired' : 'retired' \n",
    "# 'student': 'student'\n",
    "# 'unemployed' : 'unemployed'\n",
    "# 'housemaid' : housemaid'\n",
    "# 'employed': 'admin.' , 'technician', 'services', 'management'\n",
    "# 'enterpreneur': 'self-employed', 'blue-collar' , 'entrepreneur'\n",
    "\n",
    "df_1_new = df.withColumn('education',when(df.education == 'illiterate','Basic incomplete')  \\\n",
    "           .when(df.education == 'basic.4y','Basic incomplete')\\\n",
    "           .when(df.education == 'basic.6y','Basic incomplete') \\\n",
    "           .when(df.education == 'basic.9y','Basic Degree') \\\n",
    "           .when(df.education == 'high.school', 'High School') \\\n",
    "           .when(df.education == 'university.degree', 'Higher Education Degree') \\\n",
    "           .when(df.education == 'professional.course','Higher Education Degree') \\\n",
    "           .otherwise(df.education))\\\n",
    "            .withColumn('job', when(df.job == 'blue-collar','enterpreneur')\\\n",
    "                        .when(df.job == 'self-employed', 'enterpreneur') \\\n",
    "                        .when(df.job == 'management','employed') \\\n",
    "                        .when(df.job == 'admin.','employed') \\\n",
    "                        .when(df.job == 'technician','employed')\\\n",
    "                        .when(df.job == 'services','employed').otherwise(df.job))\n",
    "\n",
    "df_1_new.show(5)"
   ]
  },
  {
   "cell_type": "code",
   "execution_count": 306,
   "metadata": {
    "execution": {
     "iopub.execute_input": "2021-12-05T02:56:47.474068Z",
     "iopub.status.busy": "2021-12-05T02:56:47.473772Z",
     "iopub.status.idle": "2021-12-05T02:56:47.608729Z",
     "shell.execute_reply": "2021-12-05T02:56:47.607990Z",
     "shell.execute_reply.started": "2021-12-05T02:56:47.474026Z"
    }
   },
   "outputs": [
    {
     "name": "stdout",
     "output_type": "stream",
     "text": [
      "+---+---------+-------+----------------+-------+-------+----+-------+-----+-----------+--------+-----+--------+--------+------------+--------------+-------------+---------+-----------+---+\n",
      "|age|      job|marital|       education|default|housing|loan|contact|month|day_of_week|campaign|pdays|previous|poutcome|emp.var.rate|cons.price.idx|cons.conf.idx|euribor3m|nr.employed|  y|\n",
      "+---+---------+-------+----------------+-------+-------+----+-------+-----+-----------+--------+-----+--------+--------+------------+--------------+-------------+---------+-----------+---+\n",
      "| 56|housemaid|      0|Basic incomplete|     no|      0|   0|      0|  may|        mon|       1| null|       0|    null|         1.1|        93.994|        -36.4|    4.857|       5191|  0|\n",
      "| 57| employed|      0|     High School|   null|      0|   0|      0|  may|        mon|       1| null|       0|    null|         1.1|        93.994|        -36.4|    4.857|       5191|  0|\n",
      "| 37| employed|      0|     High School|     no|      1|   0|      0|  may|        mon|       1| null|       0|    null|         1.1|        93.994|        -36.4|    4.857|       5191|  0|\n",
      "| 40| employed|      0|Basic incomplete|     no|      0|   0|      0|  may|        mon|       1| null|       0|    null|         1.1|        93.994|        -36.4|    4.857|       5191|  0|\n",
      "| 56| employed|      0|     High School|     no|      0|   1|      0|  may|        mon|       1| null|       0|    null|         1.1|        93.994|        -36.4|    4.857|       5191|  0|\n",
      "+---+---------+-------+----------------+-------+-------+----+-------+-----+-----------+--------+-----+--------+--------+------------+--------------+-------------+---------+-----------+---+\n",
      "only showing top 5 rows\n",
      "\n"
     ]
    }
   ],
   "source": [
    "# Task 2 - Replace statements by Boolean type\n",
    "# contact,  housing, loan, contact, marital\n",
    "\n",
    "\n",
    "df_2_new = df_1_new.withColumn('contact', when(df_1_new.contact == 'telephone', 0).otherwise(1))\\\n",
    "    .withColumn('marital', when(df_1_new.marital == 'single', 1).otherwise(0))\\\n",
    "    .withColumn('loan', when(df_1_new.loan == 'yes', 1).otherwise(0))\\\n",
    "    .withColumn('housing', when(df_1_new.housing == 'no', 0).otherwise(1))\n",
    "\n",
    "df_2_new.show(5)"
   ]
  },
  {
   "cell_type": "code",
   "execution_count": 307,
   "metadata": {
    "execution": {
     "iopub.execute_input": "2021-12-05T02:56:47.609852Z",
     "iopub.status.busy": "2021-12-05T02:56:47.609647Z",
     "iopub.status.idle": "2021-12-05T02:56:47.700440Z",
     "shell.execute_reply": "2021-12-05T02:56:47.699472Z",
     "shell.execute_reply.started": "2021-12-05T02:56:47.609825Z"
    }
   },
   "outputs": [
    {
     "name": "stdout",
     "output_type": "stream",
     "text": [
      "+---+---------+-------+----------------+-------+----+-------+-----------+-----+--------+------------+--------------+-------------+---------+---+\n",
      "|age|      job|marital|       education|housing|loan|contact|day_of_week|pdays|previous|emp.var.rate|cons.price.idx|cons.conf.idx|euribor3m|  y|\n",
      "+---+---------+-------+----------------+-------+----+-------+-----------+-----+--------+------------+--------------+-------------+---------+---+\n",
      "| 56|housemaid|      0|Basic incomplete|      0|   0|      0|        mon| null|       0|         1.1|        93.994|        -36.4|    4.857|  0|\n",
      "| 57| employed|      0|     High School|      0|   0|      0|        mon| null|       0|         1.1|        93.994|        -36.4|    4.857|  0|\n",
      "| 37| employed|      0|     High School|      1|   0|      0|        mon| null|       0|         1.1|        93.994|        -36.4|    4.857|  0|\n",
      "| 40| employed|      0|Basic incomplete|      0|   0|      0|        mon| null|       0|         1.1|        93.994|        -36.4|    4.857|  0|\n",
      "| 56| employed|      0|     High School|      0|   1|      0|        mon| null|       0|         1.1|        93.994|        -36.4|    4.857|  0|\n",
      "+---+---------+-------+----------------+-------+----+-------+-----------+-----+--------+------------+--------------+-------------+---------+---+\n",
      "only showing top 5 rows\n",
      "\n"
     ]
    }
   ],
   "source": [
    "# Task 3 - Drop default, month and campaign\n",
    "# contact,  housing, loan, contact, marital\n",
    "\n",
    "columns_to_drop = ['default', 'month', 'campaign', 'poutcome', 'nr.employed']\n",
    "df_trusted = df_2_new.drop(*columns_to_drop)\n",
    "\n",
    "df_trusted.show(5)"
   ]
  },
  {
   "cell_type": "code",
   "execution_count": 311,
   "metadata": {
    "execution": {
     "iopub.execute_input": "2021-12-05T02:57:17.341208Z",
     "iopub.status.busy": "2021-12-05T02:57:17.340890Z",
     "iopub.status.idle": "2021-12-05T02:57:17.483421Z",
     "shell.execute_reply": "2021-12-05T02:57:17.482667Z",
     "shell.execute_reply.started": "2021-12-05T02:57:17.341176Z"
    }
   },
   "outputs": [
    {
     "name": "stdout",
     "output_type": "stream",
     "text": [
      "+---+---------+-------+----------------+-------+----+-------+-----------+-----+--------+------------+--------------+-------------+---------+---+\n",
      "|age|      job|marital|       education|housing|loan|contact|day_of_week|pdays|previous|emp_var_rate|cons_price_idx|cons_conf_idx|euribor3m|  y|\n",
      "+---+---------+-------+----------------+-------+----+-------+-----------+-----+--------+------------+--------------+-------------+---------+---+\n",
      "| 56|housemaid|      0|Basic incomplete|      0|   0|      0|        mon|    0|       0|         1.1|        93.994|        -36.4|    4.857|  0|\n",
      "| 57| employed|      0|     High School|      0|   0|      0|        mon|    0|       0|         1.1|        93.994|        -36.4|    4.857|  0|\n",
      "| 37| employed|      0|     High School|      1|   0|      0|        mon|    0|       0|         1.1|        93.994|        -36.4|    4.857|  0|\n",
      "| 40| employed|      0|Basic incomplete|      0|   0|      0|        mon|    0|       0|         1.1|        93.994|        -36.4|    4.857|  0|\n",
      "| 56| employed|      0|     High School|      0|   1|      0|        mon|    0|       0|         1.1|        93.994|        -36.4|    4.857|  0|\n",
      "+---+---------+-------+----------------+-------+----+-------+-----------+-----+--------+------------+--------------+-------------+---------+---+\n",
      "only showing top 5 rows\n",
      "\n"
     ]
    }
   ],
   "source": [
    "# Task 4 -> Fill na\n",
    "# columns-> all columns\n",
    "\n",
    "df_trusted = df_trusted.fillna( { 'job':'employed',\n",
    "                              'education':'Higher Education Degree',\n",
    "                              'pdays':0} )\n",
    "df_trusted.show(5)"
   ]
  },
  {
   "cell_type": "code",
   "execution_count": 312,
   "metadata": {
    "execution": {
     "iopub.execute_input": "2021-12-05T02:57:18.428690Z",
     "iopub.status.busy": "2021-12-05T02:57:18.428316Z",
     "iopub.status.idle": "2021-12-05T02:57:18.505720Z",
     "shell.execute_reply": "2021-12-05T02:57:18.504888Z",
     "shell.execute_reply.started": "2021-12-05T02:57:18.428657Z"
    }
   },
   "outputs": [
    {
     "name": "stdout",
     "output_type": "stream",
     "text": [
      "+---+---------+-------+----------------+-------+----+-------+-----------+-----+--------+------------+--------------+-------------+---------+---+\n",
      "|age|      job|marital|       education|housing|loan|contact|day_of_week|pdays|previous|emp_var_rate|cons_price_idx|cons_conf_idx|euribor3m|  y|\n",
      "+---+---------+-------+----------------+-------+----+-------+-----------+-----+--------+------------+--------------+-------------+---------+---+\n",
      "| 56|housemaid|      0|Basic incomplete|      0|   0|      0|        mon|    0|       0|         1.1|        93.994|        -36.4|    4.857|  0|\n",
      "| 57| employed|      0|     High School|      0|   0|      0|        mon|    0|       0|         1.1|        93.994|        -36.4|    4.857|  0|\n",
      "| 37| employed|      0|     High School|      1|   0|      0|        mon|    0|       0|         1.1|        93.994|        -36.4|    4.857|  0|\n",
      "| 40| employed|      0|Basic incomplete|      0|   0|      0|        mon|    0|       0|         1.1|        93.994|        -36.4|    4.857|  0|\n",
      "| 56| employed|      0|     High School|      0|   1|      0|        mon|    0|       0|         1.1|        93.994|        -36.4|    4.857|  0|\n",
      "+---+---------+-------+----------------+-------+----+-------+-----------+-----+--------+------------+--------------+-------------+---------+---+\n",
      "only showing top 5 rows\n",
      "\n"
     ]
    }
   ],
   "source": [
    "\n",
    "df_trusted.show(5)"
   ]
  },
  {
   "cell_type": "markdown",
   "metadata": {},
   "source": [
    "**Counting null values**"
   ]
  },
  {
   "cell_type": "code",
   "execution_count": 313,
   "metadata": {
    "execution": {
     "iopub.execute_input": "2021-12-05T02:57:31.525431Z",
     "iopub.status.busy": "2021-12-05T02:57:31.525021Z",
     "iopub.status.idle": "2021-12-05T02:57:32.516347Z",
     "shell.execute_reply": "2021-12-05T02:57:32.515648Z",
     "shell.execute_reply.started": "2021-12-05T02:57:31.525365Z"
    }
   },
   "outputs": [
    {
     "name": "stdout",
     "output_type": "stream",
     "text": [
      "+---+---+-------+---------+-------+----+-------+-----------+-----+--------+------------+--------------+-------------+---------+---+\n",
      "|age|job|marital|education|housing|loan|contact|day_of_week|pdays|previous|emp_var_rate|cons_price_idx|cons_conf_idx|euribor3m|  y|\n",
      "+---+---+-------+---------+-------+----+-------+-----------+-----+--------+------------+--------------+-------------+---------+---+\n",
      "|  0|  0|      0|        0|      0|   0|      0|          0|    0|       0|           0|             0|            0|        0|  0|\n",
      "+---+---+-------+---------+-------+----+-------+-----------+-----+--------+------------+--------------+-------------+---------+---+\n",
      "\n"
     ]
    },
    {
     "name": "stderr",
     "output_type": "stream",
     "text": [
      "                                                                                \r"
     ]
    }
   ],
   "source": [
    "df_trusted.select([count(when(isnan(c) | col(c).isNull(), c)).alias(c) for c in df_trusted.columns]).show()"
   ]
  },
  {
   "cell_type": "markdown",
   "metadata": {},
   "source": [
    "**Saving Data**"
   ]
  },
  {
   "cell_type": "code",
   "execution_count": 314,
   "metadata": {
    "execution": {
     "iopub.execute_input": "2021-12-05T02:57:32.517896Z",
     "iopub.status.busy": "2021-12-05T02:57:32.517668Z",
     "iopub.status.idle": "2021-12-05T02:57:32.990133Z",
     "shell.execute_reply": "2021-12-05T02:57:32.989341Z",
     "shell.execute_reply.started": "2021-12-05T02:57:32.517866Z"
    }
   },
   "outputs": [],
   "source": [
    "df_trusted.write.option(\"header\",True).mode(\"overwrite\").option(\"delimiter\",\";\").csv('data_trusted.csv')"
   ]
  }
 ],
 "metadata": {
  "kernelspec": {
   "display_name": "Python 3",
   "language": "python",
   "name": "python3"
  },
  "language_info": {
   "codemirror_mode": {
    "name": "ipython",
    "version": 3
   },
   "file_extension": ".py",
   "mimetype": "text/x-python",
   "name": "python",
   "nbconvert_exporter": "python",
   "pygments_lexer": "ipython3",
   "version": "3.8.5"
  }
 },
 "nbformat": 4,
 "nbformat_minor": 4
}
