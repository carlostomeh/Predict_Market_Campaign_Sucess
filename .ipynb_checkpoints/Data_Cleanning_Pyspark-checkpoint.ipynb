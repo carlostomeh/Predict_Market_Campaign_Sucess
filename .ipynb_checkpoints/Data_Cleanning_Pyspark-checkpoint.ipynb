{
 "cells": [
  {
   "cell_type": "markdown",
   "metadata": {},
   "source": [
    "## Data Cleanning with Pyspark\n",
    "\n",
    "\n"
   ]
  },
  {
   "cell_type": "code",
   "execution_count": null,
   "metadata": {
    "_cell_guid": "b1076dfc-b9ad-4769-8c92-a6c4dae69d19",
    "_uuid": "8f2839f25d086af736a60e9eeb907d3b93b6e0e5",
    "execution": {
     "iopub.execute_input": "2021-11-28T21:04:29.082275Z",
     "iopub.status.busy": "2021-11-28T21:04:29.08192Z",
     "iopub.status.idle": "2021-11-28T21:04:29.09492Z",
     "shell.execute_reply": "2021-11-28T21:04:29.094083Z",
     "shell.execute_reply.started": "2021-11-28T21:04:29.082232Z"
    }
   },
   "outputs": [],
   "source": [
    "import os\n",
    "for dirname, _, filenames in os.walk('/kaggle/input'):\n",
    "    for filename in filenames:\n",
    "        print(os.path.join(dirname, filename))"
   ]
  },
  {
   "cell_type": "code",
   "execution_count": null,
   "metadata": {
    "execution": {
     "iopub.execute_input": "2021-11-28T21:04:29.096788Z",
     "iopub.status.busy": "2021-11-28T21:04:29.096343Z",
     "iopub.status.idle": "2021-11-28T21:04:37.468993Z",
     "shell.execute_reply": "2021-11-28T21:04:37.468288Z",
     "shell.execute_reply.started": "2021-11-28T21:04:29.096742Z"
    }
   },
   "outputs": [],
   "source": [
    "!pip install pyspark"
   ]
  },
  {
   "cell_type": "code",
   "execution_count": null,
   "metadata": {
    "execution": {
     "iopub.execute_input": "2021-11-28T21:10:27.154087Z",
     "iopub.status.busy": "2021-11-28T21:10:27.153744Z",
     "iopub.status.idle": "2021-11-28T21:10:27.159098Z",
     "shell.execute_reply": "2021-11-28T21:10:27.15807Z",
     "shell.execute_reply.started": "2021-11-28T21:10:27.154055Z"
    }
   },
   "outputs": [],
   "source": [
    "from pyspark.sql import SparkSession\n",
    "import numpy as np \n",
    "import pandas as pd\n",
    "from pyspark.sql.functions import when"
   ]
  },
  {
   "cell_type": "code",
   "execution_count": null,
   "metadata": {
    "execution": {
     "iopub.execute_input": "2021-11-28T21:10:27.322263Z",
     "iopub.status.busy": "2021-11-28T21:10:27.32152Z",
     "iopub.status.idle": "2021-11-28T21:10:27.328437Z",
     "shell.execute_reply": "2021-11-28T21:10:27.327062Z",
     "shell.execute_reply.started": "2021-11-28T21:10:27.322203Z"
    }
   },
   "outputs": [],
   "source": [
    "spark = SparkSession \\\n",
    "    .builder \\\n",
    "    .appName(\"Data wrangling with Spark SQL\") \\\n",
    "    .getOrCreate()"
   ]
  },
  {
   "cell_type": "code",
   "execution_count": null,
   "metadata": {
    "execution": {
     "iopub.execute_input": "2021-11-28T21:10:27.505544Z",
     "iopub.status.busy": "2021-11-28T21:10:27.505223Z",
     "iopub.status.idle": "2021-11-28T21:10:27.742973Z",
     "shell.execute_reply": "2021-11-28T21:10:27.742241Z",
     "shell.execute_reply.started": "2021-11-28T21:10:27.505514Z"
    }
   },
   "outputs": [],
   "source": [
    "# local do arquivo\n",
    "path = \"bank-additional-full.csv\"\n",
    "\n",
    "# Lendo o arquivo em um objeto Spark\n",
    "df = spark.read.option(\"delimiter\", \";\").option(\"header\", \"true\").csv(path)\n"
   ]
  },
  {
   "cell_type": "code",
   "execution_count": null,
   "metadata": {
    "execution": {
     "iopub.execute_input": "2021-11-28T21:10:27.744661Z",
     "iopub.status.busy": "2021-11-28T21:10:27.744364Z",
     "iopub.status.idle": "2021-11-28T21:10:27.764163Z",
     "shell.execute_reply": "2021-11-28T21:10:27.763315Z",
     "shell.execute_reply.started": "2021-11-28T21:10:27.74462Z"
    }
   },
   "outputs": [],
   "source": [
    "df.createOrReplaceTempView(\"df_raw\")"
   ]
  },
  {
   "cell_type": "markdown",
   "metadata": {},
   "source": [
    "**Show dataframe**"
   ]
  },
  {
   "cell_type": "code",
   "execution_count": null,
   "metadata": {
    "execution": {
     "iopub.execute_input": "2021-11-28T21:10:28.135072Z",
     "iopub.status.busy": "2021-11-28T21:10:28.134793Z",
     "iopub.status.idle": "2021-11-28T21:10:28.27227Z",
     "shell.execute_reply": "2021-11-28T21:10:28.271439Z",
     "shell.execute_reply.started": "2021-11-28T21:10:28.135042Z"
    }
   },
   "outputs": [],
   "source": [
    "df.show(5)"
   ]
  },
  {
   "cell_type": "markdown",
   "metadata": {},
   "source": [
    "**Print the dataframe Schema**"
   ]
  },
  {
   "cell_type": "code",
   "execution_count": null,
   "metadata": {
    "execution": {
     "iopub.execute_input": "2021-11-28T21:10:28.505978Z",
     "iopub.status.busy": "2021-11-28T21:10:28.505639Z",
     "iopub.status.idle": "2021-11-28T21:10:28.512444Z",
     "shell.execute_reply": "2021-11-28T21:10:28.511514Z",
     "shell.execute_reply.started": "2021-11-28T21:10:28.505935Z"
    }
   },
   "outputs": [],
   "source": [
    "# Plotando o Schema da tabela spark\n",
    "df.printSchema()"
   ]
  },
  {
   "cell_type": "code",
   "execution_count": null,
   "metadata": {
    "execution": {
     "iopub.execute_input": "2021-11-28T21:10:28.707489Z",
     "iopub.status.busy": "2021-11-28T21:10:28.707055Z",
     "iopub.status.idle": "2021-11-28T21:10:28.865286Z",
     "shell.execute_reply": "2021-11-28T21:10:28.864357Z",
     "shell.execute_reply.started": "2021-11-28T21:10:28.707458Z"
    }
   },
   "outputs": [],
   "source": [
    "print(\"There is \" + str(df.count()) +\" samples in this DataFrame\")"
   ]
  },
  {
   "cell_type": "markdown",
   "metadata": {},
   "source": [
    "**Describe statistics into \"pdays\" column.**"
   ]
  },
  {
   "cell_type": "code",
   "execution_count": null,
   "metadata": {
    "execution": {
     "iopub.execute_input": "2021-11-28T21:10:29.130277Z",
     "iopub.status.busy": "2021-11-28T21:10:29.129626Z",
     "iopub.status.idle": "2021-11-28T21:10:29.483859Z",
     "shell.execute_reply": "2021-11-28T21:10:29.483004Z",
     "shell.execute_reply.started": "2021-11-28T21:10:29.130237Z"
    }
   },
   "outputs": [],
   "source": [
    "df.describe(\"pdays\").show()"
   ]
  },
  {
   "cell_type": "code",
   "execution_count": null,
   "metadata": {
    "execution": {
     "iopub.execute_input": "2021-11-28T21:10:29.485604Z",
     "iopub.status.busy": "2021-11-28T21:10:29.485322Z",
     "iopub.status.idle": "2021-11-28T21:10:29.941638Z",
     "shell.execute_reply": "2021-11-28T21:10:29.940969Z",
     "shell.execute_reply.started": "2021-11-28T21:10:29.485565Z"
    }
   },
   "outputs": [],
   "source": [
    "df.describe(\"y\").show()"
   ]
  },
  {
   "cell_type": "code",
   "execution_count": null,
   "metadata": {
    "execution": {
     "iopub.execute_input": "2021-11-28T21:10:29.953865Z",
     "iopub.status.busy": "2021-11-28T21:10:29.953168Z",
     "iopub.status.idle": "2021-11-28T21:10:30.175901Z",
     "shell.execute_reply": "2021-11-28T21:10:30.175073Z",
     "shell.execute_reply.started": "2021-11-28T21:10:29.953815Z"
    }
   },
   "outputs": [],
   "source": [
    "# Task 1 - Replace statements by Null Values\n",
    "\n",
    "df_1 = df.replace('null', None, subset=['job', 'marital', 'education', 'default', 'housing', 'loan'])\\\n",
    "         .replace('unknown', None, subset=['job', 'marital', 'education', 'default', 'housing', 'loan'])\\\n",
    "         .replace('999', None, subset=['pdays'])\n",
    "df_1.show(5)"
   ]
  },
  {
   "cell_type": "code",
   "execution_count": null,
   "metadata": {
    "execution": {
     "iopub.execute_input": "2021-11-28T21:10:30.264035Z",
     "iopub.status.busy": "2021-11-28T21:10:30.263028Z",
     "iopub.status.idle": "2021-11-28T21:10:30.517072Z",
     "shell.execute_reply": "2021-11-28T21:10:30.516093Z",
     "shell.execute_reply.started": "2021-11-28T21:10:30.263967Z"
    }
   },
   "outputs": [],
   "source": [
    "# Task 2 -> Replace target values to Boolean variable\n",
    "df_2 = df_1.withColumn('y', when(df_1['y'] == 'no', 0).otherwise(1))\n",
    "\n",
    "df_2.show(5)"
   ]
  },
  {
   "cell_type": "code",
   "execution_count": null,
   "metadata": {
    "execution": {
     "iopub.execute_input": "2021-11-28T21:10:30.683704Z",
     "iopub.status.busy": "2021-11-28T21:10:30.683444Z",
     "iopub.status.idle": "2021-11-28T21:10:30.842825Z",
     "shell.execute_reply": "2021-11-28T21:10:30.841961Z",
     "shell.execute_reply.started": "2021-11-28T21:10:30.683674Z"
    }
   },
   "outputs": [],
   "source": [
    "# Task 3 -> Drop column \"duration\"\n",
    "\n",
    "columns_to_drop = ['duration']\n",
    "df_transient = df_2.drop(*columns_to_drop)\n",
    "\n",
    "df_transient.show()"
   ]
  },
  {
   "cell_type": "code",
   "execution_count": null,
   "metadata": {
    "execution": {
     "iopub.execute_input": "2021-11-28T21:10:31.138389Z",
     "iopub.status.busy": "2021-11-28T21:10:31.138106Z",
     "iopub.status.idle": "2021-11-28T21:10:31.143802Z",
     "shell.execute_reply": "2021-11-28T21:10:31.142905Z",
     "shell.execute_reply.started": "2021-11-28T21:10:31.13836Z"
    }
   },
   "outputs": [],
   "source": [
    "# Final Schema\n",
    "df_transient.printSchema()"
   ]
  },
  {
   "cell_type": "code",
   "execution_count": null,
   "metadata": {
    "execution": {
     "iopub.execute_input": "2021-11-28T21:10:31.676469Z",
     "iopub.status.busy": "2021-11-28T21:10:31.675649Z",
     "iopub.status.idle": "2021-11-28T21:10:32.144305Z",
     "shell.execute_reply": "2021-11-28T21:10:32.143449Z",
     "shell.execute_reply.started": "2021-11-28T21:10:31.676413Z"
    }
   },
   "outputs": [],
   "source": [
    "df_transient.describe('job').show()"
   ]
  },
  {
   "cell_type": "markdown",
   "metadata": {},
   "source": [
    "**Saving DataFrame Transformed**"
   ]
  },
  {
   "cell_type": "code",
   "execution_count": null,
   "metadata": {
    "execution": {
     "iopub.execute_input": "2021-11-28T21:10:41.456923Z",
     "iopub.status.busy": "2021-11-28T21:10:41.456274Z",
     "iopub.status.idle": "2021-11-28T21:10:42.253567Z",
     "shell.execute_reply": "2021-11-28T21:10:42.252794Z",
     "shell.execute_reply.started": "2021-11-28T21:10:41.456854Z"
    }
   },
   "outputs": [],
   "source": [
    "df_transient.write.option(\"header\",True).mode(\"overwrite\").option(\"delimiter\",\";\").csv('data_transient.csv')"
   ]
  }
 ],
 "metadata": {
  "kernelspec": {
   "display_name": "Python 3",
   "language": "python",
   "name": "python3"
  },
  "language_info": {
   "codemirror_mode": {
    "name": "ipython",
    "version": 3
   },
   "file_extension": ".py",
   "mimetype": "text/x-python",
   "name": "python",
   "nbconvert_exporter": "python",
   "pygments_lexer": "ipython3",
   "version": "3.8.5"
  }
 },
 "nbformat": 4,
 "nbformat_minor": 4
}
