{
 "cells": [
  {
   "cell_type": "markdown",
   "metadata": {
    "_cell_guid": "b1076dfc-b9ad-4769-8c92-a6c4dae69d19",
    "_uuid": "8f2839f25d086af736a60e9eeb907d3b93b6e0e5",
    "execution": {
     "iopub.execute_input": "2021-12-05T18:23:18.592252Z",
     "iopub.status.busy": "2021-12-05T18:23:18.591547Z",
     "iopub.status.idle": "2021-12-05T18:23:18.627294Z",
     "shell.execute_reply": "2021-12-05T18:23:18.626693Z",
     "shell.execute_reply.started": "2021-12-05T18:23:18.592118Z"
    }
   },
   "source": [
    "# Data Openning"
   ]
  },
  {
   "cell_type": "code",
   "execution_count": 228,
   "metadata": {
    "execution": {
     "iopub.execute_input": "2021-12-05T18:23:18.763985Z",
     "iopub.status.busy": "2021-12-05T18:23:18.763738Z",
     "iopub.status.idle": "2021-12-05T18:24:20.435074Z",
     "shell.execute_reply": "2021-12-05T18:24:20.434136Z",
     "shell.execute_reply.started": "2021-12-05T18:23:18.763959Z"
    }
   },
   "outputs": [
    {
     "name": "stdout",
     "output_type": "stream",
     "text": [
      "Requirement already satisfied: pyspark in /home/ec2-user/anaconda3/envs/python3/lib/python3.6/site-packages (2.4.0)\n",
      "Requirement already satisfied: py4j==0.10.7 in /home/ec2-user/anaconda3/envs/python3/lib/python3.6/site-packages (from pyspark) (0.10.7)\n",
      "\u001b[33mWARNING: You are using pip version 21.2.4; however, version 21.3.1 is available.\n",
      "You should consider upgrading via the '/home/ec2-user/anaconda3/envs/python3/bin/python -m pip install --upgrade pip' command.\u001b[0m\n",
      "Requirement already satisfied: pyspark_dist_explore in /home/ec2-user/anaconda3/envs/python3/lib/python3.6/site-packages (0.1.8)\n",
      "Requirement already satisfied: matplotlib in /home/ec2-user/anaconda3/envs/python3/lib/python3.6/site-packages (from pyspark_dist_explore) (3.3.4)\n",
      "Requirement already satisfied: pandas in /home/ec2-user/anaconda3/envs/python3/lib/python3.6/site-packages (from pyspark_dist_explore) (1.1.5)\n",
      "Requirement already satisfied: numpy in /home/ec2-user/anaconda3/envs/python3/lib/python3.6/site-packages (from pyspark_dist_explore) (1.19.5)\n",
      "Requirement already satisfied: scipy in /home/ec2-user/anaconda3/envs/python3/lib/python3.6/site-packages (from pyspark_dist_explore) (1.5.3)\n",
      "Requirement already satisfied: python-dateutil>=2.1 in /home/ec2-user/anaconda3/envs/python3/lib/python3.6/site-packages (from matplotlib->pyspark_dist_explore) (2.8.2)\n",
      "Requirement already satisfied: cycler>=0.10 in /home/ec2-user/anaconda3/envs/python3/lib/python3.6/site-packages (from matplotlib->pyspark_dist_explore) (0.10.0)\n",
      "Requirement already satisfied: pillow>=6.2.0 in /home/ec2-user/anaconda3/envs/python3/lib/python3.6/site-packages (from matplotlib->pyspark_dist_explore) (8.3.2)\n",
      "Requirement already satisfied: kiwisolver>=1.0.1 in /home/ec2-user/anaconda3/envs/python3/lib/python3.6/site-packages (from matplotlib->pyspark_dist_explore) (1.3.1)\n",
      "Requirement already satisfied: pyparsing!=2.0.4,!=2.1.2,!=2.1.6,>=2.0.3 in /home/ec2-user/anaconda3/envs/python3/lib/python3.6/site-packages (from matplotlib->pyspark_dist_explore) (2.4.7)\n",
      "Requirement already satisfied: six in /home/ec2-user/anaconda3/envs/python3/lib/python3.6/site-packages (from cycler>=0.10->matplotlib->pyspark_dist_explore) (1.16.0)\n",
      "Requirement already satisfied: pytz>=2017.2 in /home/ec2-user/anaconda3/envs/python3/lib/python3.6/site-packages (from pandas->pyspark_dist_explore) (2021.3)\n",
      "\u001b[33mWARNING: You are using pip version 21.2.4; however, version 21.3.1 is available.\n",
      "You should consider upgrading via the '/home/ec2-user/anaconda3/envs/python3/bin/python -m pip install --upgrade pip' command.\u001b[0m\n"
     ]
    }
   ],
   "source": [
    "!pip install pyspark\n",
    "! pip install pyspark_dist_explore"
   ]
  },
  {
   "cell_type": "markdown",
   "metadata": {},
   "source": [
    "## Notebook 1 - Data Wrangling"
   ]
  },
  {
   "cell_type": "code",
   "execution_count": 229,
   "metadata": {
    "execution": {
     "iopub.execute_input": "2021-12-05T18:24:29.285423Z",
     "iopub.status.busy": "2021-12-05T18:24:29.285178Z",
     "iopub.status.idle": "2021-12-05T18:24:29.655352Z",
     "shell.execute_reply": "2021-12-05T18:24:29.654488Z",
     "shell.execute_reply.started": "2021-12-05T18:24:29.285394Z"
    }
   },
   "outputs": [],
   "source": [
    "# Spark\n",
    "from pyspark.sql import SparkSession\n",
    "from pyspark.sql.functions import when\n",
    "from pyspark.sql.types import StructType\n",
    "from pyspark.sql.types import *\n",
    "from pyspark.sql.functions import isnan, when, count, col\n",
    "\n",
    "\n",
    "# EDA\n",
    "from pyspark_dist_explore import hist\n",
    "import matplotlib.pyplot as plt\n",
    "\n",
    "# ML\n",
    "from pyspark.ml import Pipeline\n",
    "from pyspark.ml.feature import OneHotEncoder, StringIndexer, VectorAssembler, StandardScaler"
   ]
  },
  {
   "cell_type": "code",
   "execution_count": 230,
   "metadata": {
    "execution": {
     "iopub.execute_input": "2021-12-05T18:24:29.658104Z",
     "iopub.status.busy": "2021-12-05T18:24:29.657616Z",
     "iopub.status.idle": "2021-12-05T18:24:35.231162Z",
     "shell.execute_reply": "2021-12-05T18:24:35.230154Z",
     "shell.execute_reply.started": "2021-12-05T18:24:29.658058Z"
    }
   },
   "outputs": [
    {
     "data": {
      "text/html": [
       "\n",
       "            <div>\n",
       "                <p><b>SparkSession - in-memory</b></p>\n",
       "                \n",
       "        <div>\n",
       "            <p><b>SparkContext</b></p>\n",
       "\n",
       "            <p><a href=\"http://ip-172-16-120-185.ec2.internal:4041\">Spark UI</a></p>\n",
       "\n",
       "            <dl>\n",
       "              <dt>Version</dt>\n",
       "                <dd><code>v2.4.0</code></dd>\n",
       "              <dt>Master</dt>\n",
       "                <dd><code>local[*]</code></dd>\n",
       "              <dt>AppName</dt>\n",
       "                <dd><code>Data wrangling with Spark SQL</code></dd>\n",
       "            </dl>\n",
       "        </div>\n",
       "        \n",
       "            </div>\n",
       "        "
      ],
      "text/plain": [
       "<pyspark.sql.session.SparkSession at 0x7f90c5199240>"
      ]
     },
     "execution_count": 230,
     "metadata": {},
     "output_type": "execute_result"
    }
   ],
   "source": [
    "spark = SparkSession \\\n",
    "    .builder \\\n",
    "    .appName(\"Data wrangling with Spark SQL\") \\\n",
    "    .getOrCreate()\n",
    "\n",
    "spark"
   ]
  },
  {
   "cell_type": "code",
   "execution_count": 231,
   "metadata": {
    "execution": {
     "iopub.execute_input": "2021-12-05T18:24:35.233050Z",
     "iopub.status.busy": "2021-12-05T18:24:35.232751Z",
     "iopub.status.idle": "2021-12-05T18:24:40.147156Z",
     "shell.execute_reply": "2021-12-05T18:24:40.146153Z",
     "shell.execute_reply.started": "2021-12-05T18:24:35.233006Z"
    }
   },
   "outputs": [],
   "source": [
    "# local do arquivo\n",
    "path = \"bank-additional-full.csv\"\n",
    "\n",
    "# Lendo o arquivo em um objeto Spark\n",
    "#df = spark.read.option(\"delimiter\", \";\").option(\"header\", \"true\").option(\"nullValue\", \"unknown\").option(\"nullValue\", \"null\").csv(path)\n",
    "df = spark.read.option(\"delimiter\", \";\").option(\"header\", \"true\").option(\"inferSchema\" , \"true\").csv(path)\n"
   ]
  },
  {
   "cell_type": "code",
   "execution_count": 232,
   "metadata": {},
   "outputs": [],
   "source": [
    "df = df.withColumnRenamed(\"emp.var.rate\",\"emp_var_rate\") \\\n",
    "                        .withColumnRenamed(\"cons.price.idx\",\"cons_price_idx\")\\\n",
    "                        .withColumnRenamed(\"cons.conf.idx\",\"cons_conf_idx\")\\\n",
    "                        .withColumnRenamed(\"nr.employed\",\"nr_employed\")"
   ]
  },
  {
   "cell_type": "code",
   "execution_count": 233,
   "metadata": {
    "execution": {
     "iopub.execute_input": "2021-12-05T18:24:40.152626Z",
     "iopub.status.busy": "2021-12-05T18:24:40.152362Z",
     "iopub.status.idle": "2021-12-05T18:24:40.216454Z",
     "shell.execute_reply": "2021-12-05T18:24:40.215585Z",
     "shell.execute_reply.started": "2021-12-05T18:24:40.152589Z"
    }
   },
   "outputs": [],
   "source": [
    "df.createOrReplaceTempView(\"df_raw\")"
   ]
  },
  {
   "cell_type": "markdown",
   "metadata": {},
   "source": [
    "**Show dataframe**"
   ]
  },
  {
   "cell_type": "code",
   "execution_count": 234,
   "metadata": {
    "execution": {
     "iopub.execute_input": "2021-12-05T18:24:40.218087Z",
     "iopub.status.busy": "2021-12-05T18:24:40.217806Z",
     "iopub.status.idle": "2021-12-05T18:24:40.645411Z",
     "shell.execute_reply": "2021-12-05T18:24:40.644539Z",
     "shell.execute_reply.started": "2021-12-05T18:24:40.218048Z"
    }
   },
   "outputs": [
    {
     "name": "stdout",
     "output_type": "stream",
     "text": [
      "+---+-----+-------+---------+-------+-------+----+-------+-----+-----------+--------+--------+-----+--------+--------+------------+--------------+-------------+---------+-----------+---+\n",
      "|age|  job|marital|education|default|housing|loan|contact|month|day_of_week|duration|campaign|pdays|previous|poutcome|emp_var_rate|cons_price_idx|cons_conf_idx|euribor3m|nr_employed|  y|\n",
      "+---+-----+-------+---------+-------+-------+----+-------+-----+-----------+--------+--------+-----+--------+--------+------------+--------------+-------------+---------+-----------+---+\n",
      "| 56|ho...|  ma...|    ba...|     no|     no|  no|  te...|  may|        mon|     261|       1|  999|       0|   no...|         1.1|         93...|        -36.4|    4.857|      51...| no|\n",
      "| 57|se...|  ma...|    hi...|  un...|     no|  no|  te...|  may|        mon|     149|       1|  999|       0|   no...|         1.1|         93...|        -36.4|    4.857|      51...| no|\n",
      "| 37|se...|  ma...|    hi...|     no|    yes|  no|  te...|  may|        mon|     226|       1|  999|       0|   no...|         1.1|         93...|        -36.4|    4.857|      51...| no|\n",
      "| 40|ad...|  ma...|    ba...|     no|     no|  no|  te...|  may|        mon|     151|       1|  999|       0|   no...|         1.1|         93...|        -36.4|    4.857|      51...| no|\n",
      "| 56|se...|  ma...|    hi...|     no|     no| yes|  te...|  may|        mon|     307|       1|  999|       0|   no...|         1.1|         93...|        -36.4|    4.857|      51...| no|\n",
      "+---+-----+-------+---------+-------+-------+----+-------+-----+-----------+--------+--------+-----+--------+--------+------------+--------------+-------------+---------+-----------+---+\n",
      "only showing top 5 rows\n",
      "\n"
     ]
    }
   ],
   "source": [
    "df.show(5,truncate=5)"
   ]
  },
  {
   "cell_type": "markdown",
   "metadata": {},
   "source": [
    "**Print the dataframe Schema**"
   ]
  },
  {
   "cell_type": "code",
   "execution_count": 235,
   "metadata": {
    "execution": {
     "iopub.execute_input": "2021-12-05T18:24:40.646974Z",
     "iopub.status.busy": "2021-12-05T18:24:40.646683Z",
     "iopub.status.idle": "2021-12-05T18:24:40.663122Z",
     "shell.execute_reply": "2021-12-05T18:24:40.662310Z",
     "shell.execute_reply.started": "2021-12-05T18:24:40.646934Z"
    }
   },
   "outputs": [
    {
     "name": "stdout",
     "output_type": "stream",
     "text": [
      "root\n",
      " |-- age: integer (nullable = true)\n",
      " |-- job: string (nullable = true)\n",
      " |-- marital: string (nullable = true)\n",
      " |-- education: string (nullable = true)\n",
      " |-- default: string (nullable = true)\n",
      " |-- housing: string (nullable = true)\n",
      " |-- loan: string (nullable = true)\n",
      " |-- contact: string (nullable = true)\n",
      " |-- month: string (nullable = true)\n",
      " |-- day_of_week: string (nullable = true)\n",
      " |-- duration: integer (nullable = true)\n",
      " |-- campaign: integer (nullable = true)\n",
      " |-- pdays: integer (nullable = true)\n",
      " |-- previous: integer (nullable = true)\n",
      " |-- poutcome: string (nullable = true)\n",
      " |-- emp_var_rate: double (nullable = true)\n",
      " |-- cons_price_idx: double (nullable = true)\n",
      " |-- cons_conf_idx: double (nullable = true)\n",
      " |-- euribor3m: double (nullable = true)\n",
      " |-- nr_employed: double (nullable = true)\n",
      " |-- y: string (nullable = true)\n",
      "\n"
     ]
    }
   ],
   "source": [
    "# Plotando o Schema da tabela spark\n",
    "df.printSchema()"
   ]
  },
  {
   "cell_type": "code",
   "execution_count": 236,
   "metadata": {
    "execution": {
     "iopub.execute_input": "2021-12-05T18:24:40.664812Z",
     "iopub.status.busy": "2021-12-05T18:24:40.664500Z",
     "iopub.status.idle": "2021-12-05T18:24:41.445686Z",
     "shell.execute_reply": "2021-12-05T18:24:41.444734Z",
     "shell.execute_reply.started": "2021-12-05T18:24:40.664773Z"
    }
   },
   "outputs": [
    {
     "name": "stdout",
     "output_type": "stream",
     "text": [
      "There is 41188 samples in this DataFrame\n"
     ]
    }
   ],
   "source": [
    "print(\"There is \" + str(df.count()) +\" samples in this DataFrame\")"
   ]
  },
  {
   "cell_type": "markdown",
   "metadata": {},
   "source": [
    "**Describe statistics into \"pdays\" column.**"
   ]
  },
  {
   "cell_type": "code",
   "execution_count": 237,
   "metadata": {
    "execution": {
     "iopub.execute_input": "2021-12-05T18:24:41.450417Z",
     "iopub.status.busy": "2021-12-05T18:24:41.449924Z",
     "iopub.status.idle": "2021-12-05T18:24:42.650154Z",
     "shell.execute_reply": "2021-12-05T18:24:42.649579Z",
     "shell.execute_reply.started": "2021-12-05T18:24:41.450378Z"
    }
   },
   "outputs": [
    {
     "name": "stdout",
     "output_type": "stream",
     "text": [
      "+-------+-----------------+\n",
      "|summary|            pdays|\n",
      "+-------+-----------------+\n",
      "|  count|            41188|\n",
      "|   mean|962.4754540157328|\n",
      "| stddev|186.9109073447411|\n",
      "|    min|                0|\n",
      "|    max|              999|\n",
      "+-------+-----------------+\n",
      "\n"
     ]
    }
   ],
   "source": [
    "df.describe(\"pdays\").show()"
   ]
  },
  {
   "cell_type": "code",
   "execution_count": 238,
   "metadata": {
    "execution": {
     "iopub.execute_input": "2021-12-05T18:24:42.651238Z",
     "iopub.status.busy": "2021-12-05T18:24:42.651055Z",
     "iopub.status.idle": "2021-12-05T18:24:43.318757Z",
     "shell.execute_reply": "2021-12-05T18:24:43.317866Z",
     "shell.execute_reply.started": "2021-12-05T18:24:42.651214Z"
    }
   },
   "outputs": [
    {
     "name": "stdout",
     "output_type": "stream",
     "text": [
      "+-------+-----+\n",
      "|summary|    y|\n",
      "+-------+-----+\n",
      "|  count|41188|\n",
      "|   mean| null|\n",
      "| stddev| null|\n",
      "|    min|   no|\n",
      "|    max|  yes|\n",
      "+-------+-----+\n",
      "\n"
     ]
    }
   ],
   "source": [
    "df.describe(\"y\").show()"
   ]
  },
  {
   "cell_type": "markdown",
   "metadata": {},
   "source": [
    "### Cleanning Raw Data\n",
    "\n"
   ]
  },
  {
   "cell_type": "code",
   "execution_count": 239,
   "metadata": {
    "execution": {
     "iopub.execute_input": "2021-12-05T18:24:43.320282Z",
     "iopub.status.busy": "2021-12-05T18:24:43.319952Z",
     "iopub.status.idle": "2021-12-05T18:24:43.803194Z",
     "shell.execute_reply": "2021-12-05T18:24:43.802297Z",
     "shell.execute_reply.started": "2021-12-05T18:24:43.320182Z"
    }
   },
   "outputs": [
    {
     "name": "stdout",
     "output_type": "stream",
     "text": [
      "+---+-----+-------+---------+-------+-------+----+-------+-----+-----------+--------+-----+--------+--------+------------+--------------+-------------+---------+-----------+---+\n",
      "|age|  job|marital|education|default|housing|loan|contact|month|day_of_week|campaign|pdays|previous|poutcome|emp_var_rate|cons_price_idx|cons_conf_idx|euribor3m|nr_employed|  y|\n",
      "+---+-----+-------+---------+-------+-------+----+-------+-----+-----------+--------+-----+--------+--------+------------+--------------+-------------+---------+-----------+---+\n",
      "| 56|ho...|  ma...|    ba...|     no|     no|  no|  te...|  may|        mon|       1|  999|       0|   no...|         1.1|         93...|        -36.4|    4.857|      51...|  0|\n",
      "| 57|se...|  ma...|    hi...|   null|     no|  no|  te...|  may|        mon|       1|  999|       0|   no...|         1.1|         93...|        -36.4|    4.857|      51...|  0|\n",
      "| 37|se...|  ma...|    hi...|     no|    yes|  no|  te...|  may|        mon|       1|  999|       0|   no...|         1.1|         93...|        -36.4|    4.857|      51...|  0|\n",
      "| 40|ad...|  ma...|    ba...|     no|     no|  no|  te...|  may|        mon|       1|  999|       0|   no...|         1.1|         93...|        -36.4|    4.857|      51...|  0|\n",
      "| 56|se...|  ma...|    hi...|     no|     no| yes|  te...|  may|        mon|       1|  999|       0|   no...|         1.1|         93...|        -36.4|    4.857|      51...|  0|\n",
      "+---+-----+-------+---------+-------+-------+----+-------+-----+-----------+--------+-----+--------+--------+------------+--------------+-------------+---------+-----------+---+\n",
      "only showing top 5 rows\n",
      "\n"
     ]
    }
   ],
   "source": [
    "# Task 1 - Replace statements by Null Values\n",
    "\n",
    "df_1 = df.replace('null', None, subset=['job', 'marital', 'education', 'default', 'housing', 'loan'])\\\n",
    "         .replace('unknown', None, subset=['job', 'marital', 'education', 'default', 'housing', 'loan'])\\\n",
    "\n",
    "\n",
    "# Task 2 -> Replace target values to Boolean variable\n",
    "df_2 = df_1.withColumn('y', when(df_1['y'] == 'no', 0).otherwise(1))\n",
    "\n",
    "# Task 3 -> Drop column \"duration\"\n",
    "columns_to_drop = ['duration']\n",
    "df_transient = df_2.drop(*columns_to_drop)\n",
    "\n",
    "df_transient.show(5,truncate=5)"
   ]
  },
  {
   "cell_type": "code",
   "execution_count": 240,
   "metadata": {
    "execution": {
     "iopub.execute_input": "2021-12-05T18:24:43.804390Z",
     "iopub.status.busy": "2021-12-05T18:24:43.804187Z",
     "iopub.status.idle": "2021-12-05T18:24:44.188077Z",
     "shell.execute_reply": "2021-12-05T18:24:44.187031Z",
     "shell.execute_reply.started": "2021-12-05T18:24:43.804366Z"
    }
   },
   "outputs": [
    {
     "name": "stdout",
     "output_type": "stream",
     "text": [
      "root\n",
      " |-- age: integer (nullable = true)\n",
      " |-- job: string (nullable = true)\n",
      " |-- marital: string (nullable = true)\n",
      " |-- education: string (nullable = true)\n",
      " |-- default: string (nullable = true)\n",
      " |-- housing: string (nullable = true)\n",
      " |-- loan: string (nullable = true)\n",
      " |-- contact: string (nullable = true)\n",
      " |-- month: string (nullable = true)\n",
      " |-- day_of_week: string (nullable = true)\n",
      " |-- campaign: integer (nullable = true)\n",
      " |-- pdays: integer (nullable = true)\n",
      " |-- previous: integer (nullable = true)\n",
      " |-- poutcome: string (nullable = true)\n",
      " |-- emp_var_rate: double (nullable = true)\n",
      " |-- cons_price_idx: double (nullable = true)\n",
      " |-- cons_conf_idx: double (nullable = true)\n",
      " |-- euribor3m: double (nullable = true)\n",
      " |-- nr_employed: double (nullable = true)\n",
      " |-- y: integer (nullable = false)\n",
      "\n"
     ]
    }
   ],
   "source": [
    "# Final Schema\n",
    "df_transient.printSchema()"
   ]
  },
  {
   "cell_type": "code",
   "execution_count": 241,
   "metadata": {
    "execution": {
     "iopub.execute_input": "2021-12-05T18:24:44.546050Z",
     "iopub.status.busy": "2021-12-05T18:24:44.545771Z",
     "iopub.status.idle": "2021-12-05T18:24:45.830937Z",
     "shell.execute_reply": "2021-12-05T18:24:45.829887Z",
     "shell.execute_reply.started": "2021-12-05T18:24:44.546015Z"
    }
   },
   "outputs": [],
   "source": [
    "df_transient.write.option(\"header\",True).mode(\"overwrite\").option(\"delimiter\",\";\").csv('data_transient.csv')"
   ]
  },
  {
   "cell_type": "markdown",
   "metadata": {},
   "source": [
    "## Notebook 2 - Data Engineering"
   ]
  },
  {
   "cell_type": "code",
   "execution_count": 242,
   "metadata": {},
   "outputs": [],
   "source": [
    "# Spark\n",
    "from pyspark.sql import SparkSession\n",
    "from pyspark.sql.functions import when\n",
    "from pyspark.sql.types import StructType\n",
    "from pyspark.sql.types import *\n",
    "from pyspark.sql.functions import isnan, when, count, col\n",
    "\n",
    "\n",
    "# EDA\n",
    "from pyspark_dist_explore import hist\n",
    "import matplotlib.pyplot as plt\n",
    "\n",
    "# ML\n",
    "from pyspark.ml import Pipeline\n",
    "from pyspark.ml.feature import OneHotEncoder, StringIndexer, VectorAssembler, StandardScaler"
   ]
  },
  {
   "cell_type": "code",
   "execution_count": 243,
   "metadata": {
    "execution": {
     "iopub.execute_input": "2021-12-05T18:24:45.832469Z",
     "iopub.status.busy": "2021-12-05T18:24:45.832162Z",
     "iopub.status.idle": "2021-12-05T18:24:45.842784Z",
     "shell.execute_reply": "2021-12-05T18:24:45.841732Z",
     "shell.execute_reply.started": "2021-12-05T18:24:45.832429Z"
    }
   },
   "outputs": [
    {
     "data": {
      "text/html": [
       "\n",
       "            <div>\n",
       "                <p><b>SparkSession - in-memory</b></p>\n",
       "                \n",
       "        <div>\n",
       "            <p><b>SparkContext</b></p>\n",
       "\n",
       "            <p><a href=\"http://ip-172-16-120-185.ec2.internal:4041\">Spark UI</a></p>\n",
       "\n",
       "            <dl>\n",
       "              <dt>Version</dt>\n",
       "                <dd><code>v2.4.0</code></dd>\n",
       "              <dt>Master</dt>\n",
       "                <dd><code>local[*]</code></dd>\n",
       "              <dt>AppName</dt>\n",
       "                <dd><code>Data wrangling with Spark SQL</code></dd>\n",
       "            </dl>\n",
       "        </div>\n",
       "        \n",
       "            </div>\n",
       "        "
      ],
      "text/plain": [
       "<pyspark.sql.session.SparkSession at 0x7f90c5199240>"
      ]
     },
     "execution_count": 243,
     "metadata": {},
     "output_type": "execute_result"
    }
   ],
   "source": [
    "spark_new = SparkSession \\\n",
    "    .builder \\\n",
    "    .appName(\"Data Pre Processing with Spark\") \\\n",
    "    .getOrCreate()\n",
    "spark_new"
   ]
  },
  {
   "cell_type": "code",
   "execution_count": 244,
   "metadata": {
    "execution": {
     "iopub.execute_input": "2021-12-05T18:24:45.845040Z",
     "iopub.status.busy": "2021-12-05T18:24:45.844369Z",
     "iopub.status.idle": "2021-12-05T18:24:45.920928Z",
     "shell.execute_reply": "2021-12-05T18:24:45.919970Z",
     "shell.execute_reply.started": "2021-12-05T18:24:45.844995Z"
    }
   },
   "outputs": [
    {
     "name": "stdout",
     "output_type": "stream",
     "text": [
      "+---+---------+-------+-----------+-------+-------+----+---------+-----+-----------+--------+-----+--------+-----------+------------+--------------+-------------+---------+-----------+---+\n",
      "|age|      job|marital|  education|default|housing|loan|  contact|month|day_of_week|campaign|pdays|previous|   poutcome|emp_var_rate|cons_price_idx|cons_conf_idx|euribor3m|nr_employed|  y|\n",
      "+---+---------+-------+-----------+-------+-------+----+---------+-----+-----------+--------+-----+--------+-----------+------------+--------------+-------------+---------+-----------+---+\n",
      "| 56|housemaid|married|   basic.4y|     no|     no|  no|telephone|  may|        mon|       1|  999|       0|nonexistent|         1.1|        93.994|        -36.4|    4.857|     5191.0|  0|\n",
      "| 57| services|married|high.school|   null|     no|  no|telephone|  may|        mon|       1|  999|       0|nonexistent|         1.1|        93.994|        -36.4|    4.857|     5191.0|  0|\n",
      "| 37| services|married|high.school|     no|    yes|  no|telephone|  may|        mon|       1|  999|       0|nonexistent|         1.1|        93.994|        -36.4|    4.857|     5191.0|  0|\n",
      "| 40|   admin.|married|   basic.6y|     no|     no|  no|telephone|  may|        mon|       1|  999|       0|nonexistent|         1.1|        93.994|        -36.4|    4.857|     5191.0|  0|\n",
      "| 56| services|married|high.school|     no|     no| yes|telephone|  may|        mon|       1|  999|       0|nonexistent|         1.1|        93.994|        -36.4|    4.857|     5191.0|  0|\n",
      "+---+---------+-------+-----------+-------+-------+----+---------+-----+-----------+--------+-----+--------+-----------+------------+--------------+-------------+---------+-----------+---+\n",
      "only showing top 5 rows\n",
      "\n"
     ]
    }
   ],
   "source": [
    "# local do arquivo\n",
    "path = 'data_transient.csv'\n",
    "\n",
    "# Lendo o arquivo em um objeto Spark\n",
    "#df = spark.read.option(\"delimiter\", \";\").option(\"header\", \"true\").option(\"nullValue\", \"unknown\").option(\"nullValue\", \"null\").csv(path)\n",
    "\n",
    "# Define csv input schema\n",
    "schema = StructType([\n",
    "    StructField(\"age\", IntegerType()),\n",
    "    StructField(\"job\", StringType()),\n",
    "    StructField(\"marital\", StringType()),\n",
    "    StructField(\"education\", StringType()),\n",
    "    StructField(\"default\", StringType()),\n",
    "    StructField(\"housing\", StringType()),\n",
    "    StructField(\"loan\", StringType()),\n",
    "    StructField(\"contact\", StringType()),\n",
    "    StructField(\"month\", StringType()),\n",
    "    StructField(\"day_of_week\", StringType()),\n",
    "    StructField(\"campaign\", IntegerType()),\n",
    "    StructField(\"pdays\", IntegerType()),\n",
    "    StructField(\"previous\", IntegerType()),\n",
    "    StructField(\"poutcome\", StringType()),\n",
    "    StructField(\"emp_var_rate\", DoubleType()),\n",
    "    StructField(\"cons_price_idx\", DoubleType()),\n",
    "    StructField(\"cons_conf_idx\", DoubleType()),\n",
    "    StructField(\"euribor3m\", DoubleType()),\n",
    "    StructField(\"nr_employed\", DoubleType()),\n",
    "    StructField(\"y\", IntegerType()),\n",
    "       \n",
    "])\n",
    "\n",
    "\n",
    "df = spark_new.read.option(\"delimiter\", \";\").option(\"header\", \"true\").csv(path, schema=schema)\n",
    "df.show(5)"
   ]
  },
  {
   "cell_type": "code",
   "execution_count": 245,
   "metadata": {
    "execution": {
     "iopub.execute_input": "2021-12-05T18:24:45.922578Z",
     "iopub.status.busy": "2021-12-05T18:24:45.922271Z",
     "iopub.status.idle": "2021-12-05T18:24:45.936251Z",
     "shell.execute_reply": "2021-12-05T18:24:45.935592Z",
     "shell.execute_reply.started": "2021-12-05T18:24:45.922534Z"
    }
   },
   "outputs": [],
   "source": [
    "df.createOrReplaceTempView(\"df_transient\")"
   ]
  },
  {
   "cell_type": "code",
   "execution_count": 246,
   "metadata": {
    "execution": {
     "iopub.execute_input": "2021-12-05T18:24:45.937281Z",
     "iopub.status.busy": "2021-12-05T18:24:45.937083Z",
     "iopub.status.idle": "2021-12-05T18:24:45.943804Z",
     "shell.execute_reply": "2021-12-05T18:24:45.942959Z",
     "shell.execute_reply.started": "2021-12-05T18:24:45.937257Z"
    }
   },
   "outputs": [
    {
     "name": "stdout",
     "output_type": "stream",
     "text": [
      "root\n",
      " |-- age: integer (nullable = true)\n",
      " |-- job: string (nullable = true)\n",
      " |-- marital: string (nullable = true)\n",
      " |-- education: string (nullable = true)\n",
      " |-- default: string (nullable = true)\n",
      " |-- housing: string (nullable = true)\n",
      " |-- loan: string (nullable = true)\n",
      " |-- contact: string (nullable = true)\n",
      " |-- month: string (nullable = true)\n",
      " |-- day_of_week: string (nullable = true)\n",
      " |-- campaign: integer (nullable = true)\n",
      " |-- pdays: integer (nullable = true)\n",
      " |-- previous: integer (nullable = true)\n",
      " |-- poutcome: string (nullable = true)\n",
      " |-- emp_var_rate: double (nullable = true)\n",
      " |-- cons_price_idx: double (nullable = true)\n",
      " |-- cons_conf_idx: double (nullable = true)\n",
      " |-- euribor3m: double (nullable = true)\n",
      " |-- nr_employed: double (nullable = true)\n",
      " |-- y: integer (nullable = true)\n",
      "\n"
     ]
    }
   ],
   "source": [
    "df.printSchema()"
   ]
  },
  {
   "cell_type": "code",
   "execution_count": 247,
   "metadata": {
    "execution": {
     "iopub.execute_input": "2021-12-05T18:24:45.945863Z",
     "iopub.status.busy": "2021-12-05T18:24:45.945577Z",
     "iopub.status.idle": "2021-12-05T18:24:46.221997Z",
     "shell.execute_reply": "2021-12-05T18:24:46.220836Z",
     "shell.execute_reply.started": "2021-12-05T18:24:45.945825Z"
    }
   },
   "outputs": [
    {
     "name": "stdout",
     "output_type": "stream",
     "text": [
      "+---+---------+-------+-----------+-------+-------+----+---------+-----+-----------+--------+-----+--------+-----------+------------+--------------+-------------+---------+-----------+---+\n",
      "|age|      job|marital|  education|default|housing|loan|  contact|month|day_of_week|campaign|pdays|previous|   poutcome|emp_var_rate|cons_price_idx|cons_conf_idx|euribor3m|nr_employed|  y|\n",
      "+---+---------+-------+-----------+-------+-------+----+---------+-----+-----------+--------+-----+--------+-----------+------------+--------------+-------------+---------+-----------+---+\n",
      "| 56|housemaid|married|   basic.4y|     no|     no|  no|telephone|  may|        mon|       1|  999|       0|nonexistent|         1.1|        93.994|        -36.4|    4.857|     5191.0|  0|\n",
      "| 57| services|married|high.school|   null|     no|  no|telephone|  may|        mon|       1|  999|       0|nonexistent|         1.1|        93.994|        -36.4|    4.857|     5191.0|  0|\n",
      "| 37| services|married|high.school|     no|    yes|  no|telephone|  may|        mon|       1|  999|       0|nonexistent|         1.1|        93.994|        -36.4|    4.857|     5191.0|  0|\n",
      "| 40|   admin.|married|   basic.6y|     no|     no|  no|telephone|  may|        mon|       1|  999|       0|nonexistent|         1.1|        93.994|        -36.4|    4.857|     5191.0|  0|\n",
      "| 56| services|married|high.school|     no|     no| yes|telephone|  may|        mon|       1|  999|       0|nonexistent|         1.1|        93.994|        -36.4|    4.857|     5191.0|  0|\n",
      "+---+---------+-------+-----------+-------+-------+----+---------+-----+-----------+--------+-----+--------+-----------+------------+--------------+-------------+---------+-----------+---+\n",
      "only showing top 5 rows\n",
      "\n"
     ]
    }
   ],
   "source": [
    "spark_new.sql('''Select * FROM df_transient''').show(5,truncate=True)"
   ]
  },
  {
   "cell_type": "markdown",
   "metadata": {},
   "source": [
    "**Some Exploratory Analisys - Numerical Data**"
   ]
  },
  {
   "cell_type": "code",
   "execution_count": null,
   "metadata": {},
   "outputs": [],
   "source": []
  },
  {
   "cell_type": "code",
   "execution_count": 248,
   "metadata": {
    "execution": {
     "iopub.execute_input": "2021-12-05T18:24:46.401034Z",
     "iopub.status.busy": "2021-12-05T18:24:46.400750Z",
     "iopub.status.idle": "2021-12-05T18:24:50.927262Z",
     "shell.execute_reply": "2021-12-05T18:24:50.926435Z",
     "shell.execute_reply.started": "2021-12-05T18:24:46.400997Z"
    }
   },
   "outputs": [
    {
     "data": {
      "image/png": "[encoded data removed]",
      "text/plain": [
       "<Figure size 1008x576 with 3 Axes>"
      ]
     },
     "metadata": {
      "needs_background": "light"
     },
     "output_type": "display_data"
    }
   ],
   "source": [
    "# Plotting histogram\n",
    "df_eda = df\n",
    "\n",
    "fig, axes = plt.subplots(nrows=1, ncols=3)\n",
    "fig.set_size_inches(14, 8)\n",
    "\n",
    "# age histogram\n",
    "hist(axes[0], df_eda.select('age'), bins = 50, color=['red']);\n",
    "axes[0].set_title('Histogram of age');\n",
    "\n",
    "# nr_employed histogram\n",
    "hist(axes[1], df_eda.select('campaign'), bins = 50, color=['red']);\n",
    "axes[1].set_title('Histogram of campaign');\n",
    "\n",
    "# euribor3m histogram\n",
    "hist(axes[2], df_eda.select('y'), bins = 50, color=['red']);\n",
    "axes[2].set_title('Histogram of target');\n"
   ]
  },
  {
   "cell_type": "code",
   "execution_count": 249,
   "metadata": {
    "execution": {
     "iopub.execute_input": "2021-12-05T18:24:50.929236Z",
     "iopub.status.busy": "2021-12-05T18:24:50.928751Z",
     "iopub.status.idle": "2021-12-05T18:24:56.361483Z",
     "shell.execute_reply": "2021-12-05T18:24:56.360622Z",
     "shell.execute_reply.started": "2021-12-05T18:24:50.929193Z"
    }
   },
   "outputs": [
    {
     "data": {
      "image/png": "[encoded data removed]",
      "text/plain": [
       "<Figure size 1152x720 with 6 Axes>"
      ]
     },
     "metadata": {
      "needs_background": "light"
     },
     "output_type": "display_data"
    }
   ],
   "source": [
    "# Plotting histogram - Economic data\n",
    "\n",
    "fig, axes = plt.subplots(nrows=2, ncols=3)\n",
    "fig.set_size_inches(16, 10)\n",
    "\n",
    "# pdays histogram\n",
    "hist(axes[0,0], df_eda.select('pdays'), bins = 50, color=['red']);\n",
    "axes[0,0].set_title('Histogram of pdays');\n",
    "\n",
    "# nr_employed histogram\n",
    "hist(axes[0,1], df_eda.select('nr_employed'), bins = 50, color=['red']);\n",
    "axes[0,1].set_title('Histogram of nr_employed');\n",
    "\n",
    "# euribor3m histogram\n",
    "hist(axes[0,2], df_eda.select('euribor3m'), bins = 50, color=['red']);\n",
    "axes[0,2].set_title('Histogram of euribor3m');\n",
    "\n",
    "# emp_var_rate histogram\n",
    "hist(axes[1,0], df_eda.select('emp_var_rate'), bins = 50, color=['red']);\n",
    "axes[1,0].set_title('Histogram of emp_var_rate');\n",
    "\n",
    "# cons_conf_idx histogram\n",
    "hist(axes[1,1], df_eda.select('cons_conf_idx'), bins = 50, color=['red']);\n",
    "axes[1,1].set_title('Histogram of cons_conf_idx');\n",
    "\n",
    "# cons_price_idx histogram\n",
    "hist(axes[1,2], df_eda.select('cons_price_idx'), bins = 50, color=['red']);\n",
    "axes[1,2].set_title('Histogram of cons_price_idx');"
   ]
  },
  {
   "cell_type": "markdown",
   "metadata": {},
   "source": [
    "**Some Exploratory Analisys - Categorical Data**"
   ]
  },
  {
   "cell_type": "code",
   "execution_count": 250,
   "metadata": {
    "execution": {
     "iopub.execute_input": "2021-12-05T18:24:56.363042Z",
     "iopub.status.busy": "2021-12-05T18:24:56.362819Z",
     "iopub.status.idle": "2021-12-05T18:24:57.608308Z",
     "shell.execute_reply": "2021-12-05T18:24:57.607408Z",
     "shell.execute_reply.started": "2021-12-05T18:24:56.363015Z"
    }
   },
   "outputs": [
    {
     "name": "stdout",
     "output_type": "stream",
     "text": [
      "+--------+-------+-------------+------------------+\n",
      "|CAMPAIGN|QTD_CLI|QTD_CONTRATOS|    PERC_CONVERSAO|\n",
      "+--------+-------+-------------+------------------+\n",
      "|       1|  17642|         2300|13.037070626913048|\n",
      "|       2|  10570|         1211|11.456953642384105|\n",
      "|       3|   5341|          574|10.747051114023591|\n",
      "|       4|   2651|          249|  9.39268200678989|\n",
      "|       6|    979|           75|7.6608784473953015|\n",
      "|       5|   1599|          120|   7.5046904315197|\n",
      "|      17|     58|            4| 6.896551724137931|\n",
      "|      11|    177|           12| 6.779661016949152|\n",
      "|      23|     16|            1|              6.25|\n",
      "|       7|    629|           38| 6.041335453100159|\n",
      "|       9|    283|           17| 6.007067137809187|\n",
      "|      10|    225|           12| 5.333333333333334|\n",
      "|      13|     92|            4|4.3478260869565215|\n",
      "|       8|    400|           17|              4.25|\n",
      "|      15|     51|            2|3.9215686274509802|\n",
      "|      12|    125|            3|               2.4|\n",
      "|      14|     69|            1|1.4492753623188406|\n",
      "|      31|      7|            0|               0.0|\n",
      "|      34|      3|            0|               0.0|\n",
      "|      28|      8|            0|               0.0|\n",
      "|      27|     11|            0|               0.0|\n",
      "|      26|      8|            0|               0.0|\n",
      "|      20|     30|            0|               0.0|\n",
      "|      22|     17|            0|               0.0|\n",
      "|      19|     26|            0|               0.0|\n",
      "|      43|      2|            0|               0.0|\n",
      "|      16|     51|            0|               0.0|\n",
      "|      35|      5|            0|               0.0|\n",
      "|      39|      1|            0|               0.0|\n",
      "|      40|      2|            0|               0.0|\n",
      "|      24|     15|            0|               0.0|\n",
      "|      29|     10|            0|               0.0|\n",
      "|      41|      1|            0|               0.0|\n",
      "|      33|      4|            0|               0.0|\n",
      "|      42|      2|            0|               0.0|\n",
      "|      37|      1|            0|               0.0|\n",
      "|      18|     33|            0|               0.0|\n",
      "|      25|      8|            0|               0.0|\n",
      "|      21|     24|            0|               0.0|\n",
      "|      32|      4|            0|               0.0|\n",
      "|      56|      1|            0|               0.0|\n",
      "|      30|      7|            0|               0.0|\n",
      "+--------+-------+-------------+------------------+\n",
      "\n"
     ]
    }
   ],
   "source": [
    "# Grouping Campaign sucess\n",
    "\n",
    "spark_new.sql('''\n",
    "            SELECT CAMPAIGN,\n",
    "                SUM(QTD) AS QTD_CLI,\n",
    "                SUM(QTD*FLAG_CONTRATOU) AS QTD_CONTRATOS,\n",
    "                (SUM(QTD*FLAG_CONTRATOU)/SUM(QTD))*100 AS PERC_CONVERSAO\n",
    "            FROM (\n",
    "                  SELECT DISTINCT \n",
    "                      campaign,\n",
    "                      y as flag_contratou,\n",
    "                      COUNT(*) as qtd \n",
    "                  FROM df_transient \n",
    "                  GROUP BY campaign, y\n",
    "              )\n",
    "            GROUP BY CAMPAIGN\n",
    "            ORDER BY PERC_CONVERSAO DESC\n",
    "              ''').show(100)"
   ]
  },
  {
   "cell_type": "code",
   "execution_count": 251,
   "metadata": {
    "execution": {
     "iopub.execute_input": "2021-12-05T18:24:57.609738Z",
     "iopub.status.busy": "2021-12-05T18:24:57.609447Z",
     "iopub.status.idle": "2021-12-05T18:24:58.272670Z",
     "shell.execute_reply": "2021-12-05T18:24:58.271731Z",
     "shell.execute_reply.started": "2021-12-05T18:24:57.609701Z"
    }
   },
   "outputs": [
    {
     "name": "stdout",
     "output_type": "stream",
     "text": [
      "+-------------+-------+-------------+------------------+\n",
      "|          job|QTD_CLI|QTD_CONTRATOS|    PERC_CONVERSAO|\n",
      "+-------------+-------+-------------+------------------+\n",
      "|      student|    875|          275|31.428571428571427|\n",
      "|      retired|   1720|          434|25.232558139534884|\n",
      "|   unemployed|   1014|          144|14.201183431952662|\n",
      "|       admin.|  10422|         1352|12.972558050278257|\n",
      "|   management|   2924|          328| 11.21751025991792|\n",
      "|         null|    330|           37|11.212121212121213|\n",
      "|   technician|   6743|          730|10.826041821147857|\n",
      "|self-employed|   1421|          149| 10.48557353976073|\n",
      "|    housemaid|   1060|          106|              10.0|\n",
      "| entrepreneur|   1456|          124| 8.516483516483516|\n",
      "|     services|   3969|          323| 8.138070042831949|\n",
      "|  blue-collar|   9254|          638| 6.894315971471795|\n",
      "+-------------+-------+-------------+------------------+\n",
      "\n"
     ]
    }
   ],
   "source": [
    "# Grouping by job the campaign conversion\n",
    "\n",
    "spark_new.sql('''\n",
    "            SELECT job,\n",
    "                SUM(QTD) AS QTD_CLI,\n",
    "                SUM(QTD*FLAG_CONTRATOU) AS QTD_CONTRATOS,\n",
    "                (SUM(QTD*FLAG_CONTRATOU)/SUM(QTD))*100 AS PERC_CONVERSAO\n",
    "            FROM (\n",
    "                  SELECT DISTINCT \n",
    "                      job,\n",
    "                      y as flag_contratou,\n",
    "                      COUNT(*) as qtd \n",
    "                  FROM df_transient \n",
    "                  GROUP BY job, y\n",
    "              )\n",
    "            GROUP BY job\n",
    "            ORDER BY PERC_CONVERSAO DESC\n",
    "              ''').show(100)"
   ]
  },
  {
   "cell_type": "code",
   "execution_count": 252,
   "metadata": {
    "execution": {
     "iopub.execute_input": "2021-12-05T18:24:58.274143Z",
     "iopub.status.busy": "2021-12-05T18:24:58.273846Z",
     "iopub.status.idle": "2021-12-05T18:24:58.797275Z",
     "shell.execute_reply": "2021-12-05T18:24:58.796421Z",
     "shell.execute_reply.started": "2021-12-05T18:24:58.274089Z"
    }
   },
   "outputs": [
    {
     "name": "stdout",
     "output_type": "stream",
     "text": [
      "+-------------------+-------+-------------+------------------+\n",
      "|          education|QTD_CLI|QTD_CONTRATOS|    PERC_CONVERSAO|\n",
      "+-------------------+-------+-------------+------------------+\n",
      "|         illiterate|     18|            4| 22.22222222222222|\n",
      "|               null|   1731|          251|14.500288850375506|\n",
      "|  university.degree|  12168|         1670|13.724523339907954|\n",
      "|professional.course|   5243|          595|11.348464619492656|\n",
      "|        high.school|   9515|         1031|10.835522858644246|\n",
      "|           basic.4y|   4176|          428| 10.24904214559387|\n",
      "|           basic.6y|   2292|          188| 8.202443280977311|\n",
      "|           basic.9y|   6045|          473|  7.82464846980976|\n",
      "+-------------------+-------+-------------+------------------+\n",
      "\n"
     ]
    }
   ],
   "source": [
    "# Grouping by education the campaign conversion\n",
    "\n",
    "spark_new.sql('''\n",
    "            SELECT education,\n",
    "                SUM(QTD) AS QTD_CLI,\n",
    "                SUM(QTD*FLAG_CONTRATOU) AS QTD_CONTRATOS,\n",
    "                (SUM(QTD*FLAG_CONTRATOU)/SUM(QTD))*100 AS PERC_CONVERSAO\n",
    "            FROM (\n",
    "                  SELECT DISTINCT \n",
    "                      education,\n",
    "                      y as flag_contratou,\n",
    "                      COUNT(*) as qtd \n",
    "                  FROM df_transient \n",
    "                  GROUP BY education, y\n",
    "              )\n",
    "            GROUP BY education\n",
    "            ORDER BY PERC_CONVERSAO DESC\n",
    "              ''').show(100)"
   ]
  },
  {
   "cell_type": "code",
   "execution_count": 253,
   "metadata": {
    "execution": {
     "iopub.execute_input": "2021-12-05T18:24:58.806086Z",
     "iopub.status.busy": "2021-12-05T18:24:58.803809Z",
     "iopub.status.idle": "2021-12-05T18:24:59.315145Z",
     "shell.execute_reply": "2021-12-05T18:24:59.314227Z",
     "shell.execute_reply.started": "2021-12-05T18:24:58.806036Z"
    }
   },
   "outputs": [
    {
     "name": "stdout",
     "output_type": "stream",
     "text": [
      "+--------+-------+-------------+------------------+\n",
      "| marital|QTD_CLI|QTD_CONTRATOS|    PERC_CONVERSAO|\n",
      "+--------+-------+-------------+------------------+\n",
      "|    null|     80|           12|              15.0|\n",
      "|  single|  11568|         1620|14.004149377593361|\n",
      "|divorced|   4612|          476|10.320901994796184|\n",
      "| married|  24928|         2532|10.157252888318355|\n",
      "+--------+-------+-------------+------------------+\n",
      "\n"
     ]
    }
   ],
   "source": [
    "# Grouping by marital status the campaign conversion\n",
    "\n",
    "spark_new.sql('''\n",
    "            SELECT marital,\n",
    "                SUM(QTD) AS QTD_CLI,\n",
    "                SUM(QTD*FLAG_CONTRATOU) AS QTD_CONTRATOS,\n",
    "                (SUM(QTD*FLAG_CONTRATOU)/SUM(QTD))*100 AS PERC_CONVERSAO\n",
    "            FROM (\n",
    "                  SELECT DISTINCT \n",
    "                      marital,\n",
    "                      y as flag_contratou,\n",
    "                      COUNT(*) as qtd \n",
    "                  FROM df_transient \n",
    "                  GROUP BY marital, y\n",
    "              )\n",
    "            GROUP BY marital\n",
    "            ORDER BY PERC_CONVERSAO DESC\n",
    "              ''').show(100)"
   ]
  },
  {
   "cell_type": "code",
   "execution_count": 254,
   "metadata": {
    "execution": {
     "iopub.execute_input": "2021-12-05T18:24:59.316560Z",
     "iopub.status.busy": "2021-12-05T18:24:59.316256Z",
     "iopub.status.idle": "2021-12-05T18:24:59.734688Z",
     "shell.execute_reply": "2021-12-05T18:24:59.733783Z",
     "shell.execute_reply.started": "2021-12-05T18:24:59.316495Z"
    }
   },
   "outputs": [
    {
     "name": "stdout",
     "output_type": "stream",
     "text": [
      "+---------+-------+-------------+------------------+\n",
      "|  contact|QTD_CLI|QTD_CONTRATOS|    PERC_CONVERSAO|\n",
      "+---------+-------+-------------+------------------+\n",
      "| cellular|  26144|         3853|14.737607099143208|\n",
      "|telephone|  15044|          787| 5.231321457059293|\n",
      "+---------+-------+-------------+------------------+\n",
      "\n"
     ]
    }
   ],
   "source": [
    "# Grouping by contact status the campaign conversion\n",
    "\n",
    "spark_new.sql('''\n",
    "            SELECT contact,\n",
    "                SUM(QTD) AS QTD_CLI,\n",
    "                SUM(QTD*FLAG_CONTRATOU) AS QTD_CONTRATOS,\n",
    "                (SUM(QTD*FLAG_CONTRATOU)/SUM(QTD))*100 AS PERC_CONVERSAO\n",
    "            FROM (\n",
    "                  SELECT DISTINCT \n",
    "                      contact,\n",
    "                      y as flag_contratou,\n",
    "                      COUNT(*) as qtd \n",
    "                  FROM df_transient \n",
    "                  GROUP BY contact, y\n",
    "              )\n",
    "            GROUP BY contact\n",
    "            ORDER BY PERC_CONVERSAO DESC\n",
    "              ''').show(100)"
   ]
  },
  {
   "cell_type": "code",
   "execution_count": 255,
   "metadata": {
    "execution": {
     "iopub.execute_input": "2021-12-05T18:24:59.736175Z",
     "iopub.status.busy": "2021-12-05T18:24:59.735890Z",
     "iopub.status.idle": "2021-12-05T18:25:00.209444Z",
     "shell.execute_reply": "2021-12-05T18:25:00.208839Z",
     "shell.execute_reply.started": "2021-12-05T18:24:59.736136Z"
    }
   },
   "outputs": [
    {
     "name": "stdout",
     "output_type": "stream",
     "text": [
      "+-------+-------+-------------+------------------+\n",
      "|default|QTD_CLI|QTD_CONTRATOS|    PERC_CONVERSAO|\n",
      "+-------+-------+-------------+------------------+\n",
      "|     no|  32588|         4197|12.878973855406898|\n",
      "|   null|   8597|          443| 5.152960335000581|\n",
      "|    yes|      3|            0|               0.0|\n",
      "+-------+-------+-------------+------------------+\n",
      "\n"
     ]
    }
   ],
   "source": [
    "# Grouping by default status the campaign conversion\n",
    "\n",
    "spark_new.sql('''\n",
    "            SELECT default,\n",
    "                SUM(QTD) AS QTD_CLI,\n",
    "                SUM(QTD*FLAG_CONTRATOU) AS QTD_CONTRATOS,\n",
    "                (SUM(QTD*FLAG_CONTRATOU)/SUM(QTD))*100 AS PERC_CONVERSAO\n",
    "            FROM (\n",
    "                  SELECT DISTINCT \n",
    "                      default,\n",
    "                      y as flag_contratou,\n",
    "                      COUNT(*) as qtd \n",
    "                  FROM df_transient \n",
    "                  GROUP BY default, y\n",
    "              )\n",
    "            GROUP BY default\n",
    "            ORDER BY PERC_CONVERSAO DESC\n",
    "              ''').show(100)"
   ]
  },
  {
   "cell_type": "code",
   "execution_count": 256,
   "metadata": {
    "execution": {
     "iopub.execute_input": "2021-12-05T18:25:00.210818Z",
     "iopub.status.busy": "2021-12-05T18:25:00.210552Z",
     "iopub.status.idle": "2021-12-05T18:25:00.616329Z",
     "shell.execute_reply": "2021-12-05T18:25:00.615451Z",
     "shell.execute_reply.started": "2021-12-05T18:25:00.210780Z"
    }
   },
   "outputs": [
    {
     "name": "stdout",
     "output_type": "stream",
     "text": [
      "+-------+-------+-------------+------------------+\n",
      "|housing|QTD_CLI|QTD_CONTRATOS|    PERC_CONVERSAO|\n",
      "+-------+-------+-------------+------------------+\n",
      "|    yes|  21576|         2507|11.619391916944753|\n",
      "|     no|  18622|         2026|10.879604768553323|\n",
      "|   null|    990|          107|10.808080808080808|\n",
      "+-------+-------+-------------+------------------+\n",
      "\n"
     ]
    }
   ],
   "source": [
    "# Grouping by housing status the campaign conversion\n",
    "\n",
    "spark_new.sql('''\n",
    "            SELECT housing,\n",
    "                SUM(QTD) AS QTD_CLI,\n",
    "                SUM(QTD*FLAG_CONTRATOU) AS QTD_CONTRATOS,\n",
    "                (SUM(QTD*FLAG_CONTRATOU)/SUM(QTD))*100 AS PERC_CONVERSAO\n",
    "            FROM (\n",
    "                  SELECT DISTINCT \n",
    "                      housing,\n",
    "                      y as flag_contratou,\n",
    "                      COUNT(*) as qtd \n",
    "                  FROM df_transient \n",
    "                  GROUP BY housing, y\n",
    "              )\n",
    "            GROUP BY housing\n",
    "            ORDER BY PERC_CONVERSAO DESC\n",
    "              ''').show(100)"
   ]
  },
  {
   "cell_type": "code",
   "execution_count": 257,
   "metadata": {
    "execution": {
     "iopub.execute_input": "2021-12-05T18:25:00.617776Z",
     "iopub.status.busy": "2021-12-05T18:25:00.617489Z",
     "iopub.status.idle": "2021-12-05T18:25:01.016599Z",
     "shell.execute_reply": "2021-12-05T18:25:01.015629Z",
     "shell.execute_reply.started": "2021-12-05T18:25:00.617740Z"
    }
   },
   "outputs": [
    {
     "name": "stdout",
     "output_type": "stream",
     "text": [
      "+----+-------+-------------+------------------+\n",
      "|loan|QTD_CLI|QTD_CONTRATOS|    PERC_CONVERSAO|\n",
      "+----+-------+-------------+------------------+\n",
      "|  no|  33950|         3850| 11.34020618556701|\n",
      "| yes|   6248|          683|10.931498079385403|\n",
      "|null|    990|          107|10.808080808080808|\n",
      "+----+-------+-------------+------------------+\n",
      "\n"
     ]
    }
   ],
   "source": [
    "# Grouping by loan status the campaign conversion\n",
    "\n",
    "spark_new.sql('''\n",
    "            SELECT loan,\n",
    "                SUM(QTD) AS QTD_CLI,\n",
    "                SUM(QTD*FLAG_CONTRATOU) AS QTD_CONTRATOS,\n",
    "                (SUM(QTD*FLAG_CONTRATOU)/SUM(QTD))*100 AS PERC_CONVERSAO\n",
    "            FROM (\n",
    "                  SELECT DISTINCT \n",
    "                      loan,\n",
    "                      y as flag_contratou,\n",
    "                      COUNT(*) as qtd \n",
    "                  FROM df_transient \n",
    "                  GROUP BY loan, y\n",
    "              )\n",
    "            GROUP BY loan\n",
    "            ORDER BY PERC_CONVERSAO DESC\n",
    "              ''').show(100)"
   ]
  },
  {
   "cell_type": "code",
   "execution_count": 258,
   "metadata": {
    "execution": {
     "iopub.execute_input": "2021-12-05T18:25:01.018104Z",
     "iopub.status.busy": "2021-12-05T18:25:01.017819Z",
     "iopub.status.idle": "2021-12-05T18:25:01.437971Z",
     "shell.execute_reply": "2021-12-05T18:25:01.437072Z",
     "shell.execute_reply.started": "2021-12-05T18:25:01.018062Z"
    }
   },
   "outputs": [
    {
     "name": "stdout",
     "output_type": "stream",
     "text": [
      "+-----------+-------+-------------+------------------+\n",
      "|day_of_week|QTD_CLI|QTD_CONTRATOS|    PERC_CONVERSAO|\n",
      "+-----------+-------+-------------+------------------+\n",
      "|        thu|   8623|         1045|12.118752174417256|\n",
      "|        tue|   8090|          953|11.779975278121137|\n",
      "|        wed|   8134|          949|11.667076469141874|\n",
      "|        fri|   7827|          846| 10.80873898045228|\n",
      "|        mon|   8514|          847| 9.948320413436692|\n",
      "+-----------+-------+-------------+------------------+\n",
      "\n"
     ]
    }
   ],
   "source": [
    "# Grouping by day_of_week status the campaign conversion\n",
    "\n",
    "spark_new.sql('''\n",
    "            SELECT day_of_week,\n",
    "                SUM(QTD) AS QTD_CLI,\n",
    "                SUM(QTD*FLAG_CONTRATOU) AS QTD_CONTRATOS,\n",
    "                (SUM(QTD*FLAG_CONTRATOU)/SUM(QTD))*100 AS PERC_CONVERSAO\n",
    "            FROM (\n",
    "                  SELECT DISTINCT \n",
    "                      day_of_week,\n",
    "                      y as flag_contratou,\n",
    "                      COUNT(*) as qtd \n",
    "                  FROM df_transient \n",
    "                  GROUP BY day_of_week, y\n",
    "              )\n",
    "            GROUP BY day_of_week\n",
    "            ORDER BY PERC_CONVERSAO DESC\n",
    "              ''').show(100)"
   ]
  },
  {
   "cell_type": "markdown",
   "metadata": {},
   "source": [
    "### Data Engeneering"
   ]
  },
  {
   "cell_type": "code",
   "execution_count": 259,
   "metadata": {
    "execution": {
     "iopub.execute_input": "2021-12-05T18:25:01.441410Z",
     "iopub.status.busy": "2021-12-05T18:25:01.439175Z",
     "iopub.status.idle": "2021-12-05T18:25:01.452360Z",
     "shell.execute_reply": "2021-12-05T18:25:01.451543Z",
     "shell.execute_reply.started": "2021-12-05T18:25:01.441359Z"
    }
   },
   "outputs": [
    {
     "name": "stdout",
     "output_type": "stream",
     "text": [
      "root\n",
      " |-- age: integer (nullable = true)\n",
      " |-- job: string (nullable = true)\n",
      " |-- marital: string (nullable = true)\n",
      " |-- education: string (nullable = true)\n",
      " |-- default: string (nullable = true)\n",
      " |-- housing: string (nullable = true)\n",
      " |-- loan: string (nullable = true)\n",
      " |-- contact: string (nullable = true)\n",
      " |-- month: string (nullable = true)\n",
      " |-- day_of_week: string (nullable = true)\n",
      " |-- campaign: integer (nullable = true)\n",
      " |-- pdays: integer (nullable = true)\n",
      " |-- previous: integer (nullable = true)\n",
      " |-- poutcome: string (nullable = true)\n",
      " |-- emp_var_rate: double (nullable = true)\n",
      " |-- cons_price_idx: double (nullable = true)\n",
      " |-- cons_conf_idx: double (nullable = true)\n",
      " |-- euribor3m: double (nullable = true)\n",
      " |-- nr_employed: double (nullable = true)\n",
      " |-- y: integer (nullable = true)\n",
      "\n"
     ]
    }
   ],
   "source": [
    "df.printSchema()"
   ]
  },
  {
   "cell_type": "code",
   "execution_count": 260,
   "metadata": {
    "execution": {
     "iopub.execute_input": "2021-12-05T18:25:01.454744Z",
     "iopub.status.busy": "2021-12-05T18:25:01.454146Z",
     "iopub.status.idle": "2021-12-05T18:25:01.761402Z",
     "shell.execute_reply": "2021-12-05T18:25:01.760751Z",
     "shell.execute_reply.started": "2021-12-05T18:25:01.454700Z"
    }
   },
   "outputs": [
    {
     "name": "stdout",
     "output_type": "stream",
     "text": [
      "+---+---------+-------+----------------+-------+----+-------+-----------+-----+--------+------------+--------------+-------------+---------+---+\n",
      "|age|      job|marital|       education|housing|loan|contact|day_of_week|pdays|previous|emp_var_rate|cons_price_idx|cons_conf_idx|euribor3m|  y|\n",
      "+---+---------+-------+----------------+-------+----+-------+-----------+-----+--------+------------+--------------+-------------+---------+---+\n",
      "| 56|housemaid|      0|Basic incomplete|      0|   0|      0|        mon|  999|       0|         1.1|        93.994|        -36.4|    4.857|  0|\n",
      "| 57| employed|      0|     High School|      0|   0|      0|        mon|  999|       0|         1.1|        93.994|        -36.4|    4.857|  0|\n",
      "| 37| employed|      0|     High School|      1|   0|      0|        mon|  999|       0|         1.1|        93.994|        -36.4|    4.857|  0|\n",
      "| 40| employed|      0|Basic incomplete|      0|   0|      0|        mon|  999|       0|         1.1|        93.994|        -36.4|    4.857|  0|\n",
      "| 56| employed|      0|     High School|      0|   1|      0|        mon|  999|       0|         1.1|        93.994|        -36.4|    4.857|  0|\n",
      "+---+---------+-------+----------------+-------+----+-------+-----------+-----+--------+------------+--------------+-------------+---------+---+\n",
      "only showing top 5 rows\n",
      "\n"
     ]
    }
   ],
   "source": [
    "# Task 1 - Replace statements  in education and job columns\n",
    "\n",
    "# Rules (education):\n",
    "# 'Basic incomplete' : 'illiterate' 'basic.4y', 'basic.6y'\n",
    "# 'Basic Degree': 'basic.9y'\n",
    "# 'High School ': 'high.school'\n",
    "# 'Higher Education Degree': 'university.degree', 'professional.course'\n",
    "\n",
    "# Rules (job):\n",
    "# 'retired' : 'retired' \n",
    "# 'student': 'student'\n",
    "# 'unemployed' : 'unemployed'\n",
    "# 'housemaid' : housemaid'\n",
    "# 'employed': 'admin.' , 'technician', 'services', 'management'\n",
    "# 'enterpreneur': 'self-employed', 'blue-collar' , 'entrepreneur'\n",
    "df_1_new = df.withColumn('education',when(df.education == 'illiterate','Basic incomplete')  \\\n",
    "           .when(df.education == 'basic.4y','Basic incomplete')\\\n",
    "           .when(df.education == 'basic.6y','Basic incomplete') \\\n",
    "           .when(df.education == 'basic.9y','Basic Degree') \\\n",
    "           .when(df.education == 'high.school', 'High School') \\\n",
    "           .when(df.education == 'university.degree', 'Higher Education Degree') \\\n",
    "           .when(df.education == 'professional.course','Higher Education Degree') \\\n",
    "           .otherwise(df.education))\\\n",
    "            .withColumn('job', when(df.job == 'blue-collar','enterpreneur')\\\n",
    "                        .when(df.job == 'self-employed', 'enterpreneur') \\\n",
    "                        .when(df.job == 'management','employed') \\\n",
    "                        .when(df.job == 'admin.','employed') \\\n",
    "                        .when(df.job == 'technician','employed')\\\n",
    "                        .when(df.job == 'services','employed').otherwise(df.job))\n",
    "\n",
    "\n",
    "# Task 2 - Replace statements by Boolean type\n",
    "# contact,  housing, loan, contact, marital\n",
    "df_2_new = df_1_new.withColumn('contact', when(df_1_new.contact == 'telephone', 0).otherwise(1))\\\n",
    "    .withColumn('marital', when(df_1_new.marital == 'single', 1).otherwise(0))\\\n",
    "    .withColumn('loan', when(df_1_new.loan == 'yes', 1).otherwise(0))\\\n",
    "    .withColumn('housing', when(df_1_new.housing == 'no', 0).otherwise(1))\n",
    "\n",
    "\n",
    "# Task 3 - Drop default, month and campaign\n",
    "# contact,  housing, loan, contact, marital\n",
    "columns_to_drop = ['default', 'month', 'campaign', 'poutcome', 'nr_employed']\n",
    "df_trusted = df_2_new.drop(*columns_to_drop)\n",
    "\n",
    "\n",
    "# Task 4 -> Fill na\n",
    "# columns-> all columns\n",
    "df_trusted = df_trusted.fillna( { 'job':'employed',\n",
    "                              'education':'Higher Education Degree',\n",
    "                              'pdays':0} )\n",
    "df_trusted.show(5)"
   ]
  },
  {
   "cell_type": "markdown",
   "metadata": {},
   "source": [
    "**Counting null values**"
   ]
  },
  {
   "cell_type": "code",
   "execution_count": 261,
   "metadata": {
    "execution": {
     "iopub.execute_input": "2021-12-05T18:25:02.555858Z",
     "iopub.status.busy": "2021-12-05T18:25:02.555582Z",
     "iopub.status.idle": "2021-12-05T18:25:03.771967Z",
     "shell.execute_reply": "2021-12-05T18:25:03.771066Z",
     "shell.execute_reply.started": "2021-12-05T18:25:02.555821Z"
    }
   },
   "outputs": [
    {
     "name": "stdout",
     "output_type": "stream",
     "text": [
      "+---+---+-------+---------+-------+----+-------+-----------+-----+--------+------------+--------------+-------------+---------+---+\n",
      "|age|job|marital|education|housing|loan|contact|day_of_week|pdays|previous|emp_var_rate|cons_price_idx|cons_conf_idx|euribor3m|  y|\n",
      "+---+---+-------+---------+-------+----+-------+-----------+-----+--------+------------+--------------+-------------+---------+---+\n",
      "|  0|  0|      0|        0|      0|   0|      0|          0|    0|       0|           0|             0|            0|        0|  0|\n",
      "+---+---+-------+---------+-------+----+-------+-----------+-----+--------+------------+--------------+-------------+---------+---+\n",
      "\n"
     ]
    }
   ],
   "source": [
    "df_trusted.select([count(when(isnan(c) | col(c).isNull(), c)).alias(c) for c in df_trusted.columns]).show()"
   ]
  },
  {
   "cell_type": "markdown",
   "metadata": {},
   "source": [
    "**Saving Data**"
   ]
  },
  {
   "cell_type": "code",
   "execution_count": 262,
   "metadata": {
    "execution": {
     "iopub.execute_input": "2021-12-05T18:25:03.773417Z",
     "iopub.status.busy": "2021-12-05T18:25:03.773130Z",
     "iopub.status.idle": "2021-12-05T18:25:04.491307Z",
     "shell.execute_reply": "2021-12-05T18:25:04.490390Z",
     "shell.execute_reply.started": "2021-12-05T18:25:03.773375Z"
    }
   },
   "outputs": [],
   "source": [
    "df_trusted.write.option(\"header\",True).mode(\"overwrite\").option(\"delimiter\",\";\").csv('data_trusted.csv')"
   ]
  },
  {
   "cell_type": "markdown",
   "metadata": {},
   "source": [
    "## Data Modeling"
   ]
  },
  {
   "cell_type": "code",
   "execution_count": 263,
   "metadata": {
    "execution": {
     "iopub.execute_input": "2021-12-05T18:25:04.493580Z",
     "iopub.status.busy": "2021-12-05T18:25:04.493267Z",
     "iopub.status.idle": "2021-12-05T18:25:04.500458Z",
     "shell.execute_reply": "2021-12-05T18:25:04.499567Z",
     "shell.execute_reply.started": "2021-12-05T18:25:04.493533Z"
    }
   },
   "outputs": [],
   "source": [
    "from pyspark.sql import SparkSession\n",
    "from pyspark.sql.types import StructType\n",
    "\n",
    "# Pre Processing\n",
    "from pyspark.ml import Pipeline\n",
    "from pyspark.ml.feature import OneHotEncoder, StringIndexer, VectorAssembler, StandardScaler\n",
    "\n",
    "# Machine Learning\n",
    "from pyspark.ml.classification import RandomForestClassifier, LogisticRegression, DecisionTreeClassifier, GBTClassifier, MultilayerPerceptronClassifier, LinearSVC, NaiveBayes\n",
    "from pyspark.ml.tuning import CrossValidator, ParamGridBuilder\n",
    "from pyspark.ml.evaluation import BinaryClassificationEvaluator as BCE"
   ]
  },
  {
   "cell_type": "code",
   "execution_count": 264,
   "metadata": {},
   "outputs": [],
   "source": [
    "spark_model = SparkSession \\\n",
    "    .builder \\\n",
    "    .appName(\"Data Modeling with Spark\") \\\n",
    "    .getOrCreate()"
   ]
  },
  {
   "cell_type": "code",
   "execution_count": 265,
   "metadata": {},
   "outputs": [
    {
     "data": {
      "text/html": [
       "\n",
       "            <div>\n",
       "                <p><b>SparkSession - in-memory</b></p>\n",
       "                \n",
       "        <div>\n",
       "            <p><b>SparkContext</b></p>\n",
       "\n",
       "            <p><a href=\"http://ip-172-16-120-185.ec2.internal:4041\">Spark UI</a></p>\n",
       "\n",
       "            <dl>\n",
       "              <dt>Version</dt>\n",
       "                <dd><code>v2.4.0</code></dd>\n",
       "              <dt>Master</dt>\n",
       "                <dd><code>local[*]</code></dd>\n",
       "              <dt>AppName</dt>\n",
       "                <dd><code>Data wrangling with Spark SQL</code></dd>\n",
       "            </dl>\n",
       "        </div>\n",
       "        \n",
       "            </div>\n",
       "        "
      ],
      "text/plain": [
       "<pyspark.sql.session.SparkSession at 0x7f90c5199240>"
      ]
     },
     "execution_count": 265,
     "metadata": {},
     "output_type": "execute_result"
    }
   ],
   "source": [
    "spark_model"
   ]
  },
  {
   "cell_type": "code",
   "execution_count": 266,
   "metadata": {
    "execution": {
     "iopub.execute_input": "2021-12-05T18:25:04.502707Z",
     "iopub.status.busy": "2021-12-05T18:25:04.502163Z",
     "iopub.status.idle": "2021-12-05T18:25:04.668185Z",
     "shell.execute_reply": "2021-12-05T18:25:04.667574Z",
     "shell.execute_reply.started": "2021-12-05T18:25:04.502652Z"
    }
   },
   "outputs": [
    {
     "name": "stdout",
     "output_type": "stream",
     "text": [
      "+---+---------+-------+----------------+-------+----+-------+-----------+-----+--------+------------+--------------+-------------+---------+---+\n",
      "|age|      job|marital|       education|housing|loan|contact|day_of_week|pdays|previous|emp_var_rate|cons_price_idx|cons_conf_idx|euribor3m|  y|\n",
      "+---+---------+-------+----------------+-------+----+-------+-----------+-----+--------+------------+--------------+-------------+---------+---+\n",
      "| 56|housemaid|      0|Basic incomplete|      0|   0|      0|        mon|  999|       0|         1.1|        93.994|        -36.4|    4.857|  0|\n",
      "| 57| employed|      0|     High School|      0|   0|      0|        mon|  999|       0|         1.1|        93.994|        -36.4|    4.857|  0|\n",
      "| 37| employed|      0|     High School|      1|   0|      0|        mon|  999|       0|         1.1|        93.994|        -36.4|    4.857|  0|\n",
      "| 40| employed|      0|Basic incomplete|      0|   0|      0|        mon|  999|       0|         1.1|        93.994|        -36.4|    4.857|  0|\n",
      "| 56| employed|      0|     High School|      0|   1|      0|        mon|  999|       0|         1.1|        93.994|        -36.4|    4.857|  0|\n",
      "+---+---------+-------+----------------+-------+----+-------+-----------+-----+--------+------------+--------------+-------------+---------+---+\n",
      "only showing top 5 rows\n",
      "\n"
     ]
    }
   ],
   "source": [
    "# local do arquivo\n",
    "path = 'data_trusted.csv'\n",
    "\n",
    "# Lendo o arquivo em um objeto Spark\n",
    "#df = spark.read.option(\"delimiter\", \";\").option(\"header\", \"true\").option(\"nullValue\", \"unknown\").option(\"nullValue\", \"null\").csv(path)\n",
    "\n",
    "# Define csv input schema\n",
    "schema = StructType([\n",
    "    StructField(\"age\", IntegerType()),\n",
    "    StructField(\"job\", StringType()),\n",
    "    StructField(\"marital\", IntegerType()),\n",
    "    StructField(\"education\", StringType()),\n",
    "    StructField(\"housing\", IntegerType()),\n",
    "    StructField(\"loan\", IntegerType()),\n",
    "    StructField(\"contact\", IntegerType()),\n",
    "    StructField(\"day_of_week\", StringType()),\n",
    "    StructField(\"pdays\", IntegerType()),\n",
    "    StructField(\"previous\", IntegerType()),\n",
    "    StructField(\"emp_var_rate\", FloatType()),\n",
    "    StructField(\"cons_price_idx\", FloatType()),\n",
    "    StructField(\"cons_conf_idx\", FloatType()),\n",
    "    StructField(\"euribor3m\", FloatType()),\n",
    "    StructField(\"y\", IntegerType()),\n",
    "])\n",
    "\n",
    "df_model = spark_model.read.option(\"delimiter\", \";\").option(\"header\", \"true\").csv(path, schema=schema)\n",
    "\n",
    "df_model.show(5)\n",
    "#df_model.printSchema()"
   ]
  },
  {
   "cell_type": "code",
   "execution_count": 267,
   "metadata": {
    "execution": {
     "iopub.execute_input": "2021-12-05T18:25:04.670118Z",
     "iopub.status.busy": "2021-12-05T18:25:04.669255Z",
     "iopub.status.idle": "2021-12-05T18:25:05.796435Z",
     "shell.execute_reply": "2021-12-05T18:25:05.795563Z",
     "shell.execute_reply.started": "2021-12-05T18:25:04.670080Z"
    }
   },
   "outputs": [
    {
     "name": "stdout",
     "output_type": "stream",
     "text": [
      "Training Dataset Count: 33015\n",
      "Test Dataset Count: 8173\n"
     ]
    }
   ],
   "source": [
    "############################################ Split data\n",
    "df_train, df_test = df_model.randomSplit(weights = [0.80, 0.20], seed = 42)\n",
    "\n",
    "print(\"Training Dataset Count: \" + str(df_train.count()))\n",
    "print(\"Test Dataset Count: \" + str(df_test.count()))"
   ]
  },
  {
   "cell_type": "code",
   "execution_count": 268,
   "metadata": {
    "execution": {
     "iopub.execute_input": "2021-12-05T18:25:05.797895Z",
     "iopub.status.busy": "2021-12-05T18:25:05.797618Z",
     "iopub.status.idle": "2021-12-05T18:25:05.806101Z",
     "shell.execute_reply": "2021-12-05T18:25:05.805547Z",
     "shell.execute_reply.started": "2021-12-05T18:25:05.797857Z"
    }
   },
   "outputs": [
    {
     "name": "stdout",
     "output_type": "stream",
     "text": [
      "Result Categorical:  ['job', 'education', 'day_of_week']\n",
      "Result Numerical:  ['age', 'marital', 'housing', 'loan', 'contact', 'pdays', 'previous', 'emp_var_rate', 'cons_price_idx', 'cons_conf_idx', 'euribor3m', 'y']\n"
     ]
    }
   ],
   "source": [
    "############################################ Prepara data -> get dtypes\n",
    "dt = df_train.dtypes\n",
    "  \n",
    "# get columns by type\n",
    "categoricalList = [item[0] for item in dt if item[1].startswith('string') or item[1].startswith('bigint')]\n",
    "numList = [item[0] for item in dt if item[1].startswith('int') or item[1].startswith('float')]\n",
    "\n",
    "print(\"Result Categorical: \", categoricalList)\n",
    "print(\"Result Numerical: \", numList)"
   ]
  },
  {
   "cell_type": "markdown",
   "metadata": {},
   "source": [
    "**Pré Processing Pipeline**\n",
    "\n"
   ]
  },
  {
   "cell_type": "code",
   "execution_count": 269,
   "metadata": {
    "execution": {
     "iopub.execute_input": "2021-12-05T18:25:05.807553Z",
     "iopub.status.busy": "2021-12-05T18:25:05.807333Z",
     "iopub.status.idle": "2021-12-05T18:25:05.871267Z",
     "shell.execute_reply": "2021-12-05T18:25:05.870476Z",
     "shell.execute_reply.started": "2021-12-05T18:25:05.807503Z"
    }
   },
   "outputs": [
    {
     "data": {
      "text/plain": [
       "[StringIndexer_d5fb125dcf84,\n",
       " StringIndexer_72c1ee7d82ed,\n",
       " StringIndexer_982b81c40676,\n",
       " OneHotEncoder_b322ded1d0b1,\n",
       " OneHotEncoder_622c3ae90b34,\n",
       " OneHotEncoder_ec87ce279f95,\n",
       " VectorAssembler_a1deea27eb21,\n",
       " StandardScaler_6649839feb88]"
      ]
     },
     "execution_count": 269,
     "metadata": {},
     "output_type": "execute_result"
    }
   ],
   "source": [
    "###############################################################################\n",
    "# Task 1 -> String Indexer\n",
    "# columns-> ['job', 'education','day_of_week']\n",
    "# output columns-> ['job_StringIndexer', 'education_StringIndexer','day_of_week_StringIndexer']\n",
    "stage_string = [StringIndexer(inputCol= c, outputCol= c+\"_StringIndexer\", handleInvalid=\"keep\") for c in categoricalList]\n",
    "\n",
    "\n",
    "###############################################################################\n",
    "# Task 2 -> One Hot Encoder\n",
    "# columns-> ['job_new', 'education','day_of_week']\n",
    "# output columns-> ['job_OneHotEncoder', 'education_OneHotEncoder','day_of_week_OneHotEncoder']\n",
    "stage_one_hot = [OneHotEncoder(inputCol= f\"{c}_StringIndexer\", outputCol= f\"{c}_OneHotEncoder\") for c in categoricalList]\n",
    "\n",
    "\n",
    "###############################################################################\n",
    "# Task 3 -> Vector Assembler\n",
    "# allow us to use ML methods and standard scaler\n",
    "# columns-> all columns\n",
    "colunas = numList + ['job_OneHotEncoder', 'education_OneHotEncoder','day_of_week_OneHotEncoder']\n",
    "stage_vector_assembler = [VectorAssembler(inputCols=colunas,   outputCol='features') ]\n",
    "\n",
    "\n",
    "###############################################################################\n",
    "# Task 4 -> Standard Scaler\n",
    "# columns-> all columns\n",
    "stage_standard_scaler = StandardScaler().setInputCol(\"features\")\n",
    "\n",
    "###############################################################################\n",
    "# Creta an list os sequential steps of your pipeline\n",
    "stages_pre_processing = stage_string+ stage_one_hot+ stage_vector_assembler+ [stage_standard_scaler]\n",
    "stages_pre_processing"
   ]
  },
  {
   "cell_type": "code",
   "execution_count": 270,
   "metadata": {
    "execution": {
     "iopub.execute_input": "2021-12-05T18:25:05.874996Z",
     "iopub.status.busy": "2021-12-05T18:25:05.874766Z",
     "iopub.status.idle": "2021-12-05T18:25:10.274484Z",
     "shell.execute_reply": "2021-12-05T18:25:10.273587Z",
     "shell.execute_reply.started": "2021-12-05T18:25:05.874970Z"
    }
   },
   "outputs": [
    {
     "name": "stdout",
     "output_type": "stream",
     "text": [
      "+---+-------+-------+----------------+-------+----+-------+-----------+-----+--------+------------+--------------+-------------+---------+---+-----------------+-----------------------+-------------------------+-----------------+-----------------------+-------------------------+--------------------+-----------------------------------+\n",
      "|age|    job|marital|       education|housing|loan|contact|day_of_week|pdays|previous|emp_var_rate|cons_price_idx|cons_conf_idx|euribor3m|  y|job_StringIndexer|education_StringIndexer|day_of_week_StringIndexer|job_OneHotEncoder|education_OneHotEncoder|day_of_week_OneHotEncoder|            features|StandardScaler_6649839feb88__output|\n",
      "+---+-------+-------+----------------+-------+----+-------+-----------+-----+--------+------------+--------------+-------------+---------+---+-----------------+-----------------------+-------------------------+-----------------+-----------------------+-------------------------+--------------------+-----------------------------------+\n",
      "| 18|student|      1|Basic incomplete|      0|   0|      1|        thu|  999|       0|        -1.8|        93.075|        -47.1|    1.365|  0|              6.0|                    2.0|                      0.0|    (7,[6],[1.0])|          (4,[2],[1.0])|            (5,[0],[1.0])|(28,[0,1,4,5,7,8,...|               (28,[0,1,4,5,7,8,...|\n",
      "| 19|student|      1|    Basic Degree|      0|   0|      1|        thu|  999|       0|        -1.8|        93.075|        -47.1|     1.41|  0|              6.0|                    3.0|                      0.0|    (7,[6],[1.0])|          (4,[3],[1.0])|            (5,[0],[1.0])|(28,[0,1,4,5,7,8,...|               (28,[0,1,4,5,7,8,...|\n",
      "+---+-------+-------+----------------+-------+----+-------+-----------+-----+--------+------------+--------------+-------------+---------+---+-----------------+-----------------------+-------------------------+-----------------+-----------------------+-------------------------+--------------------+-----------------------------------+\n",
      "only showing top 2 rows\n",
      "\n",
      "CPU times: user 113 ms, sys: 0 ns, total: 113 ms\n",
      "Wall time: 1.97 s\n"
     ]
    }
   ],
   "source": [
    "%%time\n",
    "# Make Pipeline \n",
    "\n",
    "# create object\n",
    "ppl = Pipeline().setStages(stages_pre_processing)\n",
    "\n",
    "# Trainning pipeline\n",
    "# allow us save pipeline\n",
    "pipelineModel = ppl.fit(df_train)\n",
    "\n",
    "# Applying changes\n",
    "df_train_clean  = pipelineModel.transform(df_train)\n",
    "df_test_clean  = pipelineModel.transform(df_test)\n",
    "\n",
    "df_train_clean.show(2,truncate=True)"
   ]
  },
  {
   "cell_type": "markdown",
   "metadata": {},
   "source": [
    "**Saving Pipeline**"
   ]
  },
  {
   "cell_type": "code",
   "execution_count": 272,
   "metadata": {
    "execution": {
     "iopub.execute_input": "2021-12-05T18:25:10.275993Z",
     "iopub.status.busy": "2021-12-05T18:25:10.275693Z",
     "iopub.status.idle": "2021-12-05T18:25:12.833567Z",
     "shell.execute_reply": "2021-12-05T18:25:12.832565Z",
     "shell.execute_reply.started": "2021-12-05T18:25:10.275958Z"
    }
   },
   "outputs": [],
   "source": [
    "# Save pipeline\n",
    "\n",
    "pipelineModel.save(\"pipeline_pre_processing_1\")"
   ]
  },
  {
   "cell_type": "markdown",
   "metadata": {},
   "source": [
    "**Checking final dataframe**"
   ]
  },
  {
   "cell_type": "code",
   "execution_count": 273,
   "metadata": {
    "execution": {
     "iopub.execute_input": "2021-12-05T18:25:12.835047Z",
     "iopub.status.busy": "2021-12-05T18:25:12.834775Z",
     "iopub.status.idle": "2021-12-05T18:25:14.072167Z",
     "shell.execute_reply": "2021-12-05T18:25:14.071208Z",
     "shell.execute_reply.started": "2021-12-05T18:25:12.835010Z"
    }
   },
   "outputs": [
    {
     "name": "stdout",
     "output_type": "stream",
     "text": [
      "+------------------------------------------------------------------------------------------------------------------------------------------------+\n",
      "|features                                                                                                                                        |\n",
      "+------------------------------------------------------------------------------------------------------------------------------------------------+\n",
      "|(28,[0,1,4,5,7,8,9,10,18,21,23],[18.0,1.0,1.0,999.0,-1.7999999523162842,93.07499694824219,-47.099998474121094,1.3650000095367432,1.0,1.0,1.0])  |\n",
      "|(28,[0,1,4,5,7,8,9,10,18,22,23],[19.0,1.0,1.0,999.0,-1.7999999523162842,93.07499694824219,-47.099998474121094,1.409999966621399,1.0,1.0,1.0])   |\n",
      "|(28,[0,1,4,5,7,8,9,10,18,22,26],[19.0,1.0,1.0,999.0,-1.7999999523162842,93.07499694824219,-47.099998474121094,1.4529999494552612,1.0,1.0,1.0])  |\n",
      "|(28,[0,1,2,4,5,7,8,9,10,11,18,22,27],[19.0,1.0,1.0,1.0,999.0,-1.7999999523162842,92.84300231933594,-50.0,1.6399999856948853,1.0,1.0,1.0,1.0])   |\n",
      "|(28,[0,1,2,4,5,7,8,9,10,18,22,24],[19.0,1.0,1.0,1.0,999.0,1.399999976158142,93.91799926757812,-42.70000076293945,4.960000038146973,1.0,1.0,1.0])|\n",
      "+------------------------------------------------------------------------------------------------------------------------------------------------+\n",
      "only showing top 5 rows\n",
      "\n"
     ]
    }
   ],
   "source": [
    "# Up the data to cache to models learn faster\n",
    "df_train_clean.cache()\n",
    "df_test_clean.cache()\n",
    "\n",
    "df_train_clean.select(['features']).show(5, truncate=False)"
   ]
  },
  {
   "cell_type": "markdown",
   "metadata": {},
   "source": [
    "## Models\n",
    "\n",
    "* Logistic Regression\n",
    "* Decision Tree\n",
    "* Random Forest\n",
    "* Gradient-boosted tree\n",
    "* Linear Support Vector Machine\n",
    "* Naive Bayes"
   ]
  },
  {
   "cell_type": "markdown",
   "metadata": {},
   "source": [
    "#### **Metrics**"
   ]
  },
  {
   "cell_type": "code",
   "execution_count": 274,
   "metadata": {
    "execution": {
     "iopub.execute_input": "2021-12-05T18:25:14.073780Z",
     "iopub.status.busy": "2021-12-05T18:25:14.073453Z",
     "iopub.status.idle": "2021-12-05T18:25:14.681594Z",
     "shell.execute_reply": "2021-12-05T18:25:14.680864Z",
     "shell.execute_reply.started": "2021-12-05T18:25:14.073738Z"
    }
   },
   "outputs": [],
   "source": [
    "from pyspark.mllib.evaluation import MulticlassMetrics\n",
    "from pyspark.ml.evaluation import BinaryClassificationEvaluator, MulticlassClassificationEvaluator\n",
    "\n",
    "from sklearn.metrics import accuracy_score, f1_score\n",
    "from sklearn.metrics import confusion_matrix\n",
    "import numpy as np\n",
    "\n",
    "main_metric = BCE(labelCol = \"y\",\\\n",
    "                    rawPredictionCol = \"prediction\",\\\n",
    "                    metricName = \"areaUnderROC\")\n",
    "\n",
    "def valuation_metrics(df, model):\n",
    "    \n",
    "    # Create both evaluators\n",
    "    evaluatorMulti = MulticlassClassificationEvaluator(labelCol=\"y\", predictionCol=\"prediction\")\n",
    "\n",
    "    # Make predicitons\n",
    "    predictionAndTarget = model.transform(df).select(\"y\", \"prediction\")\n",
    "    \n",
    "    data_y =  np.array(predictionAndTarget.select(\"y\").collect())\n",
    "    data_pred =  np.array(predictionAndTarget.select(\"prediction\").collect())\n",
    "\n",
    "\n",
    "    # Get metrics\n",
    "    acc = evaluatorMulti.evaluate(predictionAndTarget, {evaluatorMulti.metricName: \"accuracy\"})\n",
    "    f1 = evaluatorMulti.evaluate(predictionAndTarget, {evaluatorMulti.metricName: \"f1\"})\n",
    "    weightedPrecision = evaluatorMulti.evaluate(predictionAndTarget, {evaluatorMulti.metricName: \"weightedPrecision\"})\n",
    "    weightedRecall = evaluatorMulti.evaluate(predictionAndTarget, {evaluatorMulti.metricName: \"weightedRecall\"})\n",
    "    auc = main_metric.evaluate(predictionAndTarget)\n",
    "\n",
    "    \n",
    "    print(\"Summary Stats\")\n",
    "    print('Accuracy:', acc)\n",
    "    print('F1-Score:', f1)\n",
    "    print('weightedPrecision:', weightedPrecision)\n",
    "    print('AUC:', auc)\n",
    "    \n",
    "    logreg_matrix = confusion_matrix(data_y, data_pred)\n",
    "\n",
    "    print(\"Confusion Matrix\", logreg_matrix)\n",
    "    print('acuracy', accuracy_score(data_y,data_pred))\n",
    "    print('f1_score',f1_score(data_y,data_pred) )\n",
    "    print('End Metrics \\n')"
   ]
  },
  {
   "cell_type": "markdown",
   "metadata": {},
   "source": [
    "**Logistic Regression**"
   ]
  },
  {
   "cell_type": "code",
   "execution_count": 275,
   "metadata": {
    "execution": {
     "iopub.execute_input": "2021-12-05T18:25:14.682907Z",
     "iopub.status.busy": "2021-12-05T18:25:14.682700Z"
    }
   },
   "outputs": [
    {
     "name": "stdout",
     "output_type": "stream",
     "text": [
      "CPU times: user 5.69 s, sys: 1.84 s, total: 7.52 s\n",
      "Wall time: 1min 48s\n"
     ]
    }
   ],
   "source": [
    "%%time\n",
    "\n",
    "# Create model object\n",
    "lr = LogisticRegression(labelCol ='y',featuresCol=\"features\")\n",
    "\n",
    "# fit parameters grid\n",
    "paramGrid = ParamGridBuilder() \\\n",
    "    .addGrid(lr.regParam, [ 0.1, 0.5, 1.0]) \\\n",
    "    .addGrid(lr.elasticNetParam, [0.0, 0.5, 1.0]) \\\n",
    "    .addGrid(lr.maxIter, [5, 10, 20]) \\\n",
    "    .build()\n",
    "\n",
    "\n",
    "# cross validation\n",
    "crossval = CrossValidator(estimator = lr,\n",
    "                            estimatorParamMaps=paramGrid,\n",
    "                            evaluator = main_metric,\n",
    "                            numFolds= 5)\n",
    "\n",
    "cv_model_lr = crossval.fit(df_train_clean)"
   ]
  },
  {
   "cell_type": "code",
   "execution_count": 276,
   "metadata": {},
   "outputs": [
    {
     "name": "stdout",
     "output_type": "stream",
     "text": [
      "Train Metrics:\n",
      "Summary Stats\n",
      "Accuracy: 1.0\n",
      "F1-Score: 1.0\n",
      "weightedPrecision: 1.0\n",
      "AUC: 1.0\n",
      "Confusion Matrix [[29288     0]\n",
      " [    0  3727]]\n",
      "acuracy 1.0\n",
      "f1_score 1.0\n",
      "End Metrics \n",
      "\n",
      "Test Metrics:\n",
      "Summary Stats\n",
      "Accuracy: 1.0\n",
      "F1-Score: 1.0\n",
      "weightedPrecision: 1.0\n",
      "AUC: 1.0\n",
      "Confusion Matrix [[7260    0]\n",
      " [   0  913]]\n",
      "acuracy 1.0\n",
      "f1_score 1.0\n",
      "End Metrics \n",
      "\n"
     ]
    }
   ],
   "source": [
    "print(\"Train Metrics:\")\n",
    "valuation_metrics(df_train_clean,cv_model_lr)\n",
    "\n",
    "print(\"Test Metrics:\")\n",
    "valuation_metrics(df_test_clean,cv_model_lr)"
   ]
  },
  {
   "cell_type": "markdown",
   "metadata": {},
   "source": [
    "**Decision Tree**"
   ]
  },
  {
   "cell_type": "code",
   "execution_count": 277,
   "metadata": {},
   "outputs": [
    {
     "name": "stdout",
     "output_type": "stream",
     "text": [
      "CPU times: user 9.93 s, sys: 3.42 s, total: 13.4 s\n",
      "Wall time: 2min 21s\n"
     ]
    }
   ],
   "source": [
    "%%time\n",
    "\n",
    "# Create model object\n",
    "dt = DecisionTreeClassifier(labelCol ='y',featuresCol=\"features\")\n",
    "\n",
    "# fit parameters grid\n",
    "\n",
    "paramGrid = ParamGridBuilder() \\\n",
    "    .addGrid(dt.maxDepth, [2, 5, 10, 20, 30]) \\\n",
    "    .addGrid(dt.maxBins, [10, 20, 40, 80, 100]) \\\n",
    "    .addGrid(dt.impurity, ['gini', 'entropy']) \\\n",
    "    .build()\n",
    "\n",
    "\n",
    "# cross validation\n",
    "crossval_dt = CrossValidator(estimator = dt,\n",
    "                            estimatorParamMaps=paramGrid,\n",
    "                            evaluator = main_metric,\n",
    "                            numFolds= 5)\n",
    "\n",
    "cv_model_dt = crossval_dt.fit(df_train_clean)"
   ]
  },
  {
   "cell_type": "code",
   "execution_count": 278,
   "metadata": {},
   "outputs": [
    {
     "name": "stdout",
     "output_type": "stream",
     "text": [
      "Train Metrics:\n",
      "\n",
      "Summary Stats\n",
      "Accuracy: 1.0\n",
      "F1-Score: 1.0\n",
      "weightedPrecision: 1.0\n",
      "AUC: 1.0\n",
      "Confusion Matrix [[29288     0]\n",
      " [    0  3727]]\n",
      "acuracy 1.0\n",
      "f1_score 1.0\n",
      "End Metrics \n",
      "\n",
      "Test Metrics:\n",
      "\n",
      "Summary Stats\n",
      "Accuracy: 1.0\n",
      "F1-Score: 1.0\n",
      "weightedPrecision: 1.0\n",
      "AUC: 1.0\n",
      "Confusion Matrix [[7260    0]\n",
      " [   0  913]]\n",
      "acuracy 1.0\n",
      "f1_score 1.0\n",
      "End Metrics \n",
      "\n",
      "CPU times: user 1.42 s, sys: 0 ns, total: 1.42 s\n",
      "Wall time: 2.93 s\n"
     ]
    }
   ],
   "source": [
    "%%time\n",
    "\n",
    "print(\"Train Metrics:\\n\")\n",
    "valuation_metrics(df_train_clean,cv_model_dt)\n",
    "\n",
    "print(\"Test Metrics:\\n\")\n",
    "valuation_metrics(df_test_clean,cv_model_dt)"
   ]
  },
  {
   "cell_type": "markdown",
   "metadata": {},
   "source": [
    "**Random Forest**"
   ]
  },
  {
   "cell_type": "code",
   "execution_count": 279,
   "metadata": {},
   "outputs": [
    {
     "name": "stdout",
     "output_type": "stream",
     "text": [
      "CPU times: user 8.86 s, sys: 2.37 s, total: 11.2 s\n",
      "Wall time: 6min 18s\n"
     ]
    }
   ],
   "source": [
    "%%time\n",
    "# Create model object\n",
    "random_forest = RandomForestClassifier(labelCol = \"y\", featuresCol = \"features\")\n",
    "\n",
    "# fit parameters grid\n",
    "paramGrid = ParamGridBuilder() \\\n",
    "    .addGrid(dt.maxDepth, [2, 10, 30]) \\\n",
    "    .addGrid(dt.maxBins, [10, 40, 100]) \\\n",
    "    .addGrid(random_forest.numTrees, [20, 30, 50, 100]) \\\n",
    "    .build()\n",
    "\n",
    "\n",
    "# cross validation\n",
    "crossval = CrossValidator(estimator = random_forest,\n",
    "                            estimatorParamMaps=paramGrid,\n",
    "                            evaluator = main_metric,\n",
    "                            numFolds= 5)\n",
    "\n",
    "cv_model_rf = crossval.fit(df_train_clean)"
   ]
  },
  {
   "cell_type": "code",
   "execution_count": 280,
   "metadata": {},
   "outputs": [
    {
     "name": "stdout",
     "output_type": "stream",
     "text": [
      "Train Metrics:\n",
      "\n",
      "Summary Stats\n",
      "Accuracy: 1.0\n",
      "F1-Score: 1.0\n",
      "weightedPrecision: 1.0\n",
      "AUC: 1.0\n",
      "Confusion Matrix [[29288     0]\n",
      " [    0  3727]]\n",
      "acuracy 1.0\n",
      "f1_score 1.0\n",
      "End Metrics \n",
      "\n",
      "Test Metrics:\n",
      "\n",
      "Summary Stats\n",
      "Accuracy: 1.0\n",
      "F1-Score: 1.0\n",
      "weightedPrecision: 1.0\n",
      "AUC: 1.0\n",
      "Confusion Matrix [[7260    0]\n",
      " [   0  913]]\n",
      "acuracy 1.0\n",
      "f1_score 1.0\n",
      "End Metrics \n",
      "\n",
      "CPU times: user 1.37 s, sys: 0 ns, total: 1.37 s\n",
      "Wall time: 4.85 s\n"
     ]
    }
   ],
   "source": [
    "%%time\n",
    "\n",
    "print(\"Train Metrics:\\n\")\n",
    "valuation_metrics(df_train_clean,cv_model_rf)\n",
    "\n",
    "print(\"Test Metrics:\\n\")\n",
    "valuation_metrics(df_test_clean,cv_model_rf)"
   ]
  },
  {
   "cell_type": "markdown",
   "metadata": {},
   "source": [
    "**Gradient-boosted tree**"
   ]
  },
  {
   "cell_type": "code",
   "execution_count": 281,
   "metadata": {},
   "outputs": [
    {
     "name": "stdout",
     "output_type": "stream",
     "text": [
      "CPU times: user 20.3 s, sys: 4.88 s, total: 25.2 s\n",
      "Wall time: 30min 4s\n"
     ]
    }
   ],
   "source": [
    "%%time\n",
    "\n",
    "# Create model object\n",
    "gbt = GBTClassifier(labelCol ='y', featuresCol = \"features\")\n",
    "\n",
    "# fit parameters grid\n",
    "\n",
    "paramGrid = ParamGridBuilder() \\\n",
    "    .addGrid(gbt.maxDepth, [2, 5, 10])\\\n",
    "    .addGrid(gbt.maxBins, [10, 20, 40])\\\n",
    "    .addGrid(gbt.maxIter, [5, 10, 20])\\\n",
    "    .build()\n",
    "\n",
    "\n",
    "# cross validation\n",
    "crossval = CrossValidator(estimator = gbt,\n",
    "                            estimatorParamMaps=paramGrid,\n",
    "                            evaluator = main_metric,\n",
    "                            numFolds= 5)\n",
    "\n",
    "cv_model_gbt = crossval.fit(df_train_clean)"
   ]
  },
  {
   "cell_type": "code",
   "execution_count": 282,
   "metadata": {},
   "outputs": [
    {
     "name": "stdout",
     "output_type": "stream",
     "text": [
      "Train Metrics:\n",
      "\n",
      "Summary Stats\n",
      "Accuracy: 1.0\n",
      "F1-Score: 1.0\n",
      "weightedPrecision: 1.0\n",
      "AUC: 1.0\n",
      "Confusion Matrix [[29288     0]\n",
      " [    0  3727]]\n",
      "acuracy 1.0\n",
      "f1_score 1.0\n",
      "End Metrics \n",
      "\n",
      "Test Metrics:\n",
      "\n",
      "Summary Stats\n",
      "Accuracy: 1.0\n",
      "F1-Score: 1.0\n",
      "weightedPrecision: 1.0\n",
      "AUC: 1.0\n",
      "Confusion Matrix [[7260    0]\n",
      " [   0  913]]\n",
      "acuracy 1.0\n",
      "f1_score 1.0\n",
      "End Metrics \n",
      "\n",
      "CPU times: user 4.11 s, sys: 0 ns, total: 4.11 s\n",
      "Wall time: 11.4 s\n"
     ]
    }
   ],
   "source": [
    "%%time\n",
    "print(\"Train Metrics:\\n\")\n",
    "valuation_metrics(df_train_clean,cv_model_gbt)\n",
    "\n",
    "print(\"Test Metrics:\\n\")\n",
    "valuation_metrics(df_test_clean,cv_model_gbt)"
   ]
  },
  {
   "cell_type": "markdown",
   "metadata": {},
   "source": [
    "**Linear Support Vector Machine**"
   ]
  },
  {
   "cell_type": "code",
   "execution_count": 283,
   "metadata": {},
   "outputs": [
    {
     "name": "stdout",
     "output_type": "stream",
     "text": [
      "CPU times: user 5.09 s, sys: 1.19 s, total: 6.28 s\n",
      "Wall time: 8min 27s\n"
     ]
    }
   ],
   "source": [
    "%%time\n",
    "\n",
    "# Create model object\n",
    "lsvc = LinearSVC(labelCol ='y')\n",
    "\n",
    "# fit parameters grid\n",
    "\n",
    "#### falta configurar aqui\n",
    "\n",
    "paramGrid = ParamGridBuilder() \\\n",
    "    .addGrid(lsvc.maxIter, [5, 10, 50]) \\\n",
    "    .addGrid(lsvc.regParam, [0.001, 0.01, 1.0]) \\\n",
    "    .build()\n",
    "\n",
    "\n",
    "# cross validation\n",
    "crossval = CrossValidator(estimator = lsvc,\n",
    "                            estimatorParamMaps=paramGrid,\n",
    "                            evaluator = main_metric,\n",
    "                            numFolds= 5)\n",
    "\n",
    "cv_model_svm = crossval.fit(df_train_clean)"
   ]
  },
  {
   "cell_type": "code",
   "execution_count": 284,
   "metadata": {},
   "outputs": [
    {
     "name": "stdout",
     "output_type": "stream",
     "text": [
      "Train Metrics:\n",
      "\n",
      "Summary Stats\n",
      "Accuracy: 1.0\n",
      "F1-Score: 1.0\n",
      "weightedPrecision: 1.0\n",
      "AUC: 1.0\n",
      "Confusion Matrix [[29288     0]\n",
      " [    0  3727]]\n",
      "acuracy 1.0\n",
      "f1_score 1.0\n",
      "End Metrics \n",
      "\n",
      "Test Metrics:\n",
      "\n",
      "Summary Stats\n",
      "Accuracy: 1.0\n",
      "F1-Score: 1.0\n",
      "weightedPrecision: 1.0\n",
      "AUC: 1.0\n",
      "Confusion Matrix [[7260    0]\n",
      " [   0  913]]\n",
      "acuracy 1.0\n",
      "f1_score 1.0\n",
      "End Metrics \n",
      "\n",
      "CPU times: user 1.34 s, sys: 0 ns, total: 1.34 s\n",
      "Wall time: 3.61 s\n"
     ]
    }
   ],
   "source": [
    "%%time\n",
    "print(\"Train Metrics:\\n\")\n",
    "valuation_metrics(df_train_clean,cv_model_svm)\n",
    "\n",
    "print(\"Test Metrics:\\n\")\n",
    "valuation_metrics(df_test_clean,cv_model_svm)"
   ]
  },
  {
   "cell_type": "code",
   "execution_count": 285,
   "metadata": {},
   "outputs": [
    {
     "data": {
      "text/plain": [
       "[0.5, 0.5, 0.5, 0.6, 0.6, 0.5, 1.0, 1.0, 1.0]"
      ]
     },
     "execution_count": 285,
     "metadata": {},
     "output_type": "execute_result"
    }
   ],
   "source": [
    "cv_model_lr.avgMetrics\n",
    "cv_model_dt.avgMetrics\n",
    "cv_model_rf.avgMetrics\n",
    "cv_model_gbt.avgMetrics\n",
    "cv_model_svm.avgMetrics"
   ]
  },
  {
   "cell_type": "markdown",
   "metadata": {},
   "source": [
    "### Results\n",
    "\n",
    "\n",
    "| Models                        | Time     | Accuracy | AUC |\n",
    "|-------------------------------|----------|----------|-----|\n",
    "| Logistic Regression           | 1min 54s | 1.0      | 1.0 |\n",
    "| Decision Tree                 | 2min 32s | 1.0      | 1.0 |\n",
    "| Random Forest                 | 5min 36s | 1.0      | 1.0 |\n",
    "| Gradient-boosted tree         | 7min 12s | 1.0      | 1.0 |\n",
    "| Linear Support Vector Machine | 2min 14s | 1.0      | 1.0 |\n",
    "\n",
    "\n"
   ]
  },
  {
   "cell_type": "code",
   "execution_count": 286,
   "metadata": {},
   "outputs": [
    {
     "ename": "NameError",
     "evalue": "name 'cv_model' is not defined",
     "output_type": "error",
     "traceback": [
      "\u001b[0;31m---------------------------------------------------------------------------\u001b[0m",
      "\u001b[0;31mNameError\u001b[0m                                 Traceback (most recent call last)",
      "\u001b[0;32m<ipython-input-286-830f4ef9c0d7>\u001b[0m in \u001b[0;36m<module>\u001b[0;34m\u001b[0m\n\u001b[1;32m      1\u001b[0m \u001b[0;31m# Save best model\u001b[0m\u001b[0;34m\u001b[0m\u001b[0;34m\u001b[0m\u001b[0;34m\u001b[0m\u001b[0m\n\u001b[1;32m      2\u001b[0m \u001b[0;34m\u001b[0m\u001b[0m\n\u001b[0;32m----> 3\u001b[0;31m \u001b[0mcv_model\u001b[0m\u001b[0;34m.\u001b[0m\u001b[0msave\u001b[0m\u001b[0;34m(\u001b[0m\u001b[0;34m\"best_model\"\u001b[0m\u001b[0;34m)\u001b[0m\u001b[0;34m\u001b[0m\u001b[0;34m\u001b[0m\u001b[0m\n\u001b[0m",
      "\u001b[0;31mNameError\u001b[0m: name 'cv_model' is not defined"
     ]
    }
   ],
   "source": [
    "# Save best model\n",
    "\n",
    "cv_model.save(\"best_model\")"
   ]
  }
 ],
 "metadata": {
  "kernelspec": {
   "display_name": "conda_python3",
   "language": "python",
   "name": "conda_python3"
  },
  "language_info": {
   "codemirror_mode": {
    "name": "ipython",
    "version": 3
   },
   "file_extension": ".py",
   "mimetype": "text/x-python",
   "name": "python",
   "nbconvert_exporter": "python",
   "pygments_lexer": "ipython3",
   "version": "3.6.13"
  }
 },
 "nbformat": 4,
 "nbformat_minor": 4
}
